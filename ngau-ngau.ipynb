{
 "metadata": {
  "language_info": {
   "codemirror_mode": {
    "name": "ipython",
    "version": 3
   },
   "file_extension": ".py",
   "mimetype": "text/x-python",
   "name": "python",
   "nbconvert_exporter": "python",
   "pygments_lexer": "ipython3",
   "version": "3.7.7-final"
  },
  "orig_nbformat": 2,
  "kernelspec": {
   "name": "python_defaultSpec_1598621853113",
   "display_name": "Python 3.7.7 64-bit ('dev': conda)"
  }
 },
 "nbformat": 4,
 "nbformat_minor": 2,
 "cells": [
  {
   "cell_type": "markdown",
   "metadata": {},
   "source": [
    "# The Statistics of Ngau-ngau, a Chinese Gambling Card Game\n",
    "\n",
    "## Hands\n",
    "\n",
    "In this notebook, the standard 52-card deck will be notated in the format of \"suit-numeral\".\n",
    "\n",
    "The four suits are namely Club, Diamond, Heart, and Spade.\n",
    "\n",
    "The notation of 52 cards in the deck is exhausted as follows:\n",
    "\n",
    "```\n",
    "C1 C2 C3 ... C10 CJ CQ CK\n",
    "\n",
    "D1 D2 D3 ... D10 DJ DQ DK\n",
    "\n",
    "H1 H2 H3 ... H10 HJ HQ HK\n",
    "\n",
    "S1 S2 S3 ... S10 SJ SQ SK\n",
    "```\n",
    "\n",
    "## Game rules\n",
    "\n",
    "In this game, the suits are primarily neglected and cards were assigned with numerical values where A=1, 2=2, ... 10=10, Jacks=10, Queens=10, and Kings=10.\n",
    "\n",
    "Similar to the game setting of Blackjack, In a group of $n$ people, one person will be the banker and the others will be players.\n",
    "\n",
    "In the beginning of each round, the banker will deal 5 cards randomly to everyone including the banker himself. Everyone then reveal the cards they have, and try to arrange their cards so that *the last digit of numerical sum of exactly 3 out of 5 cards is 0*. For example, 3+2+5=10, or 7+7+6=20, or Jack+Jack+King=0. If the player could form their card in such arrangement, then the player is said to be \"game-enabled\" (in Cantonese, 開局).\n",
    "\n",
    "### Situation 1: Player is game-enabled\n",
    "\n",
    "The 3 cards used for \"enabling the game\" is put aside, and the remaining 2 cards will be used to \"form the ngau\" (translated to cow) according to the *last digit of the numerical sum of the 2 cards*. \n",
    "\n",
    "For example, if the 2 cards are 8 and 6 which forms the digit 4 (8+6=14), then the player is said to have the hand \"ngau-4\".\n",
    "\n",
    "Here are the possible \"ngau-hands\":\n",
    "- Ngau-1 (also called \"ngau-nail\"),\n",
    "- Ngau-2,\n",
    "...\n",
    "- Ngau-9,\n",
    "- Ngau-ngau (when last digit is 0)\n",
    "- Ngau-pair (when the two cards form a pair like 7-7, disregarding the actual numerical value)\n",
    "\n",
    "### Situation 2: Player is not game-enabled\n",
    "\n",
    "\n",
    "### Special situations:\n",
    "\n",
    "\n",
    "\n",
    "### Determining the Result of the Round\n"
   ]
  },
  {
   "cell_type": "code",
   "execution_count": 1,
   "metadata": {
    "tags": []
   },
   "outputs": [
    {
     "output_type": "stream",
     "name": "stdout",
     "text": "['C1', 'C2', 'C3', 'C4', 'C5', 'C6', 'C7', 'C8', 'C9', 'C10', 'CJ', 'CQ', 'CK', 'D1', 'D2', 'D3', 'D4', 'D5', 'D6', 'D7', 'D8', 'D9', 'D10', 'DJ', 'DQ', 'DK', 'H1', 'H2', 'H3', 'H4', 'H5', 'H6', 'H7', 'H8', 'H9', 'H10', 'HJ', 'HQ', 'HK', 'S1', 'S2', 'S3', 'S4', 'S5', 'S6', 'S7', 'S8', 'S9', 'S10', 'SJ', 'SQ', 'SK']\n"
    }
   ],
   "source": [
    "# creating the deck\n",
    "def create_deck():\n",
    "    suits = ['C', 'D', 'H', 'S']\n",
    "    numericals = [str(x) for x in range(1,11)] + ['J','Q','K']\n",
    "    return [s+n for s in suits for n in numericals]\n",
    "    \n",
    "deck = create_deck()"
   ]
  },
  {
   "cell_type": "code",
   "execution_count": 2,
   "metadata": {
    "tags": []
   },
   "outputs": [
    {
     "output_type": "stream",
     "name": "stdout",
     "text": "['DQ', 'S10', 'H1', 'C3', 'D4']\n"
    }
   ],
   "source": [
    "import random\n",
    "\n",
    "# random draw 5 cards\n",
    "def get_random_card(seed):\n",
    "    random.seed(seed)\n",
    "    return random.sample(deck, 5)\n",
    "\n",
    "seed = 0\n",
    "cards = get_random_card(seed)\n",
    "print(cards)"
   ]
  },
  {
   "cell_type": "code",
   "execution_count": 63,
   "metadata": {
    "tags": []
   },
   "outputs": [],
   "source": [
    "# takes a list of cards and return a list of numerical values\n",
    "def get_numeric(cards):\n",
    "    tot = [int(c[-1]) if c[-1] not in ['J','Q','K'] else 0 for c in cards]\n",
    "    return sum(tot) % 10\n",
    "\n",
    "\n",
    "\"\"\"\n",
    "function to arrange the cards for game-enable\n",
    "brute force solution\n",
    "\"\"\"\n",
    "# returns formation in the format of array [[(3 cards),(2 cards)]]\n",
    "def arrange(cards):\n",
    "    # look for formation of 0 \n",
    "    result = []\n",
    "    for ipos, i in enumerate(cards):\n",
    "        for jpos, j in enumerate(cards):\n",
    "            if ipos == jpos:\n",
    "                continue\n",
    "            n = cards[:]\n",
    "            if ipos < jpos:\n",
    "                n.pop(jpos)\n",
    "                n.pop(ipos)\n",
    "            if ipos > jpos:\n",
    "                n.pop(ipos)\n",
    "                n.pop(jpos)\n",
    "            if get_numeric(n) == 0 or len(set([c[-1] for c in n])) == 1:\n",
    "                result.append(n)\n",
    "    if result:\n",
    "        # to remove duplicates\n",
    "        arrangement_list = set(tuple(k) for k in result)\n",
    "        return [[arr,tuple(set(cards)-set(arr))] for arr in arrangement_list]\n",
    "    else:\n",
    "        return result\n",
    "\n",
    "\n",
    "def best_arrangement(cards):\n",
    "    form = arrange(cards)\n",
    "    # game-enabled scenario\n",
    "    best_arr = None\n",
    "    best_arr_cards = None\n",
    "    # the below checks hand from smallest to greatest\n",
    "    if form:\n",
    "        digits = [get_numeric(f[-1]) for f in form]\n",
    "        best_arr = f'ngau-{max(digits)}' if all([d != 0 for d in digits]) else 'ngau-ngau'\n",
    "        # check for ngau-pair\n",
    "        for f in form:\n",
    "            top = f[-1] # tuple of two cards\n",
    "            if top[0][-1] == top[1][-1]:\n",
    "                best_arr = 'ngau-pair'\n",
    "                break\n",
    "    # not game-enabled scenario\n",
    "    else:\n",
    "        pass\n",
    "    \n",
    "    # all-big and all-small\n",
    "    cards_numeric = [str(c[-1]) for c in cards]\n",
    "    all_big = ['0','J','Q','K']\n",
    "    all_small = ['1','2','3','4']\n",
    "    if all([n in all_small for n in cards_numeric]):\n",
    "        best_arr = 'all-small'\n",
    "    if all([n in all_big for n in cards_numeric]):\n",
    "        best_arr = 'all-big'\n",
    "    if best_arr is None:\n",
    "        best_arr = 'no-game'\n",
    "    return best_arr\n",
    "\n"
   ]
  },
  {
   "cell_type": "code",
   "execution_count": 4,
   "metadata": {
    "tags": []
   },
   "outputs": [
    {
     "output_type": "stream",
     "name": "stdout",
     "text": "Cards are ['H2', 'D2', 'C2', 'C7', 'H7']\nBest arrangement is ngau-pair\n"
    }
   ],
   "source": [
    "# example\n",
    "cards = ['H2','D2','C2','C7','H7']\n",
    "best_arr = best_arrangement(cards)\n",
    "print(f'Cards are {cards}')\n",
    "print(f'Best arrangement is {best_arr}')"
   ]
  },
  {
   "cell_type": "code",
   "execution_count": 5,
   "metadata": {
    "tags": []
   },
   "outputs": [
    {
     "output_type": "stream",
     "name": "stdout",
     "text": "ngau-1\n"
    }
   ],
   "source": [
    "# random draw card for many times\n",
    "seeds = range(10,11)\n",
    "for seed in seeds:\n",
    "    cards = get_random_card(seed)\n",
    "    hand_arrangement = best_arrangement(cards)\n",
    "print(hand_arrangement)"
   ]
  },
  {
   "cell_type": "markdown",
   "metadata": {},
   "source": [
    "## Hand Probabilities"
   ]
  },
  {
   "cell_type": "code",
   "execution_count": 15,
   "metadata": {
    "tags": []
   },
   "outputs": [
    {
     "output_type": "stream",
     "name": "stderr",
     "text": "2598960it [02:16, 19108.75it/s]\nNumber of all possible hands: 2598960\nPossible number of combinations of each hand: Counter({'no-game': 841776, 'ngau-5': 179488, 'ngau-9': 174588, 'ngau-7': 174200, 'ngau-1': 173116, 'ngau-3': 172708, 'ngau-8': 147076, 'ngau-6': 146496, 'ngau-2': 145732, 'ngau-4': 145660, 'ngau-pair': 145480, 'ngau-ngau': 143904, 'all-small': 4368, 'all-big': 4368})\nPercentage of getting hand: {'ngau-5': '6.91%', 'ngau-6': '5.64%', 'ngau-7': '6.7%', 'no-game': '32.39%', 'all-small': '0.17%', 'ngau-8': '5.66%', 'ngau-9': '6.72%', 'ngau-ngau': '5.54%', 'ngau-1': '6.66%', 'ngau-pair': '5.6%', 'ngau-3': '6.65%', 'ngau-4': '5.6%', 'ngau-2': '5.61%', 'all-big': '0.17%'}\n"
    }
   ],
   "source": [
    "import itertools\n",
    "from collections import Counter\n",
    "from tqdm import tqdm\n",
    "\n",
    "hand = []\n",
    "# exhaust all 2598960 (52C5) combinations\n",
    "for c in tqdm(itertools.combinations(deck, 5)):\n",
    "    c = list(c)\n",
    "    hand.append((c,best_arrangement(c)))\n",
    "\n",
    "hand_count = Counter([h[-1] for h in hand])\n",
    "hand_percentage = {k: f'{round(v/len(hand)*100,2)}%' for k, v in hand_count.items()}\n",
    "\n",
    "print(f'Number of all possible hands: {len(hand)}')\n",
    "print(f'Possible number of combinations of each hand: {hand_count}')\n",
    "print(f'Percentage of getting hand: {hand_percentage}')"
   ]
  },
  {
   "cell_type": "code",
   "execution_count": 70,
   "metadata": {
    "tags": []
   },
   "outputs": [
    {
     "output_type": "stream",
     "name": "stderr",
     "text": "2598960it [00:03, 843375.18it/s]\n100%|██████████| 2598960/2598960 [00:02<00:00, 1145458.78it/s]\nNumber of all possible hands: 2598960\nPossible number of combinations of each hand: Counter({'no-game': 841776, 'ngau-5': 179488, 'ngau-9': 174588, 'ngau-7': 174200, 'ngau-1': 173116, 'ngau-3': 172708, 'ngau-8': 147076, 'ngau-6': 146496, 'ngau-2': 145732, 'ngau-4': 145660, 'ngau-pair': 145480, 'ngau-ngau': 143904, 'all-small': 4368, 'all-big': 4368})\nPercentage of getting hand: {'ngau-5': '6.91%', 'ngau-6': '5.64%', 'ngau-7': '6.7%', 'no-game': '32.39%', 'all-small': '0.17%', 'ngau-8': '5.66%', 'ngau-9': '6.72%', 'ngau-ngau': '5.54%', 'ngau-1': '6.66%', 'ngau-pair': '5.6%', 'ngau-3': '6.65%', 'ngau-4': '5.6%', 'ngau-2': '5.61%', 'all-big': '0.17%'}\n"
    }
   ],
   "source": [
    "# parallelized implementation\n",
    "\"\"\"\n",
    "Reference of parallelization using mp\n",
    "https://www.machinelearningplus.com/python/parallel-processing-python/\n",
    "\"\"\"\n",
    "import itertools\n",
    "from collections import Counter\n",
    "from tqdm import tqdm\n",
    "import multiprocessing as mp\n",
    "\n",
    "\n",
    "hand = []\n",
    "for c in tqdm(itertools.combinations(deck, 5)):\n",
    "    c = list(c)\n",
    "    hand.append(c)\n",
    "\n",
    "# parallelization\n",
    "pool = mp.Pool(mp.cpu_count())\n",
    "\n",
    "hand_results = []\n",
    "hand_results = pool.starmap_async(best_arrangement, [[h] for h in tqdm(hand)]).get()\n",
    "\n",
    "pool.close()\n",
    "\n",
    "print('Counting results...')\n",
    "\n",
    "hand_count = Counter(hand_results)\n",
    "hand_percentage = {k: f'{round(v/len(hand_results)*100,2)}%' for k, v in hand_count.items()}\n",
    "\n",
    "print(f'Number of all possible hands: {len(hand_results)}')\n",
    "print(f'Possible number of combinations of each hand: {hand_count}')\n",
    "print(f'Percentage of getting hand: {hand_percentage}')\n"
   ]
  },
  {
   "cell_type": "code",
   "execution_count": 71,
   "metadata": {},
   "outputs": [
    {
     "output_type": "display_data",
     "data": {
      "application/vnd.plotly.v1+json": {
       "config": {
        "plotlyServerURL": "https://plot.ly"
       },
       "data": [
        {
         "domain": {
          "x": [
           0,
           1
          ],
          "y": [
           0,
           1
          ]
         },
         "hovertemplate": "index=%{label}<br>prob=%{value}<extra></extra>",
         "labels": [
          "ngau-5",
          "ngau-6",
          "ngau-7",
          "no-game",
          "all-small",
          "ngau-8",
          "ngau-9",
          "ngau-ngau",
          "ngau-1",
          "ngau-pair",
          "ngau-3",
          "ngau-4",
          "ngau-2",
          "all-big"
         ],
         "legendgroup": "",
         "name": "",
         "showlegend": true,
         "type": "pie",
         "values": [
          179488,
          146496,
          174200,
          841776,
          4368,
          147076,
          174588,
          143904,
          173116,
          145480,
          172708,
          145660,
          145732,
          4368
         ]
        }
       ],
       "layout": {
        "legend": {
         "tracegroupgap": 0
        },
        "template": {
         "data": {
          "bar": [
           {
            "error_x": {
             "color": "#2a3f5f"
            },
            "error_y": {
             "color": "#2a3f5f"
            },
            "marker": {
             "line": {
              "color": "#E5ECF6",
              "width": 0.5
             }
            },
            "type": "bar"
           }
          ],
          "barpolar": [
           {
            "marker": {
             "line": {
              "color": "#E5ECF6",
              "width": 0.5
             }
            },
            "type": "barpolar"
           }
          ],
          "carpet": [
           {
            "aaxis": {
             "endlinecolor": "#2a3f5f",
             "gridcolor": "white",
             "linecolor": "white",
             "minorgridcolor": "white",
             "startlinecolor": "#2a3f5f"
            },
            "baxis": {
             "endlinecolor": "#2a3f5f",
             "gridcolor": "white",
             "linecolor": "white",
             "minorgridcolor": "white",
             "startlinecolor": "#2a3f5f"
            },
            "type": "carpet"
           }
          ],
          "choropleth": [
           {
            "colorbar": {
             "outlinewidth": 0,
             "ticks": ""
            },
            "type": "choropleth"
           }
          ],
          "contour": [
           {
            "colorbar": {
             "outlinewidth": 0,
             "ticks": ""
            },
            "colorscale": [
             [
              0,
              "#0d0887"
             ],
             [
              0.1111111111111111,
              "#46039f"
             ],
             [
              0.2222222222222222,
              "#7201a8"
             ],
             [
              0.3333333333333333,
              "#9c179e"
             ],
             [
              0.4444444444444444,
              "#bd3786"
             ],
             [
              0.5555555555555556,
              "#d8576b"
             ],
             [
              0.6666666666666666,
              "#ed7953"
             ],
             [
              0.7777777777777778,
              "#fb9f3a"
             ],
             [
              0.8888888888888888,
              "#fdca26"
             ],
             [
              1,
              "#f0f921"
             ]
            ],
            "type": "contour"
           }
          ],
          "contourcarpet": [
           {
            "colorbar": {
             "outlinewidth": 0,
             "ticks": ""
            },
            "type": "contourcarpet"
           }
          ],
          "heatmap": [
           {
            "colorbar": {
             "outlinewidth": 0,
             "ticks": ""
            },
            "colorscale": [
             [
              0,
              "#0d0887"
             ],
             [
              0.1111111111111111,
              "#46039f"
             ],
             [
              0.2222222222222222,
              "#7201a8"
             ],
             [
              0.3333333333333333,
              "#9c179e"
             ],
             [
              0.4444444444444444,
              "#bd3786"
             ],
             [
              0.5555555555555556,
              "#d8576b"
             ],
             [
              0.6666666666666666,
              "#ed7953"
             ],
             [
              0.7777777777777778,
              "#fb9f3a"
             ],
             [
              0.8888888888888888,
              "#fdca26"
             ],
             [
              1,
              "#f0f921"
             ]
            ],
            "type": "heatmap"
           }
          ],
          "heatmapgl": [
           {
            "colorbar": {
             "outlinewidth": 0,
             "ticks": ""
            },
            "colorscale": [
             [
              0,
              "#0d0887"
             ],
             [
              0.1111111111111111,
              "#46039f"
             ],
             [
              0.2222222222222222,
              "#7201a8"
             ],
             [
              0.3333333333333333,
              "#9c179e"
             ],
             [
              0.4444444444444444,
              "#bd3786"
             ],
             [
              0.5555555555555556,
              "#d8576b"
             ],
             [
              0.6666666666666666,
              "#ed7953"
             ],
             [
              0.7777777777777778,
              "#fb9f3a"
             ],
             [
              0.8888888888888888,
              "#fdca26"
             ],
             [
              1,
              "#f0f921"
             ]
            ],
            "type": "heatmapgl"
           }
          ],
          "histogram": [
           {
            "marker": {
             "colorbar": {
              "outlinewidth": 0,
              "ticks": ""
             }
            },
            "type": "histogram"
           }
          ],
          "histogram2d": [
           {
            "colorbar": {
             "outlinewidth": 0,
             "ticks": ""
            },
            "colorscale": [
             [
              0,
              "#0d0887"
             ],
             [
              0.1111111111111111,
              "#46039f"
             ],
             [
              0.2222222222222222,
              "#7201a8"
             ],
             [
              0.3333333333333333,
              "#9c179e"
             ],
             [
              0.4444444444444444,
              "#bd3786"
             ],
             [
              0.5555555555555556,
              "#d8576b"
             ],
             [
              0.6666666666666666,
              "#ed7953"
             ],
             [
              0.7777777777777778,
              "#fb9f3a"
             ],
             [
              0.8888888888888888,
              "#fdca26"
             ],
             [
              1,
              "#f0f921"
             ]
            ],
            "type": "histogram2d"
           }
          ],
          "histogram2dcontour": [
           {
            "colorbar": {
             "outlinewidth": 0,
             "ticks": ""
            },
            "colorscale": [
             [
              0,
              "#0d0887"
             ],
             [
              0.1111111111111111,
              "#46039f"
             ],
             [
              0.2222222222222222,
              "#7201a8"
             ],
             [
              0.3333333333333333,
              "#9c179e"
             ],
             [
              0.4444444444444444,
              "#bd3786"
             ],
             [
              0.5555555555555556,
              "#d8576b"
             ],
             [
              0.6666666666666666,
              "#ed7953"
             ],
             [
              0.7777777777777778,
              "#fb9f3a"
             ],
             [
              0.8888888888888888,
              "#fdca26"
             ],
             [
              1,
              "#f0f921"
             ]
            ],
            "type": "histogram2dcontour"
           }
          ],
          "mesh3d": [
           {
            "colorbar": {
             "outlinewidth": 0,
             "ticks": ""
            },
            "type": "mesh3d"
           }
          ],
          "parcoords": [
           {
            "line": {
             "colorbar": {
              "outlinewidth": 0,
              "ticks": ""
             }
            },
            "type": "parcoords"
           }
          ],
          "pie": [
           {
            "automargin": true,
            "type": "pie"
           }
          ],
          "scatter": [
           {
            "marker": {
             "colorbar": {
              "outlinewidth": 0,
              "ticks": ""
             }
            },
            "type": "scatter"
           }
          ],
          "scatter3d": [
           {
            "line": {
             "colorbar": {
              "outlinewidth": 0,
              "ticks": ""
             }
            },
            "marker": {
             "colorbar": {
              "outlinewidth": 0,
              "ticks": ""
             }
            },
            "type": "scatter3d"
           }
          ],
          "scattercarpet": [
           {
            "marker": {
             "colorbar": {
              "outlinewidth": 0,
              "ticks": ""
             }
            },
            "type": "scattercarpet"
           }
          ],
          "scattergeo": [
           {
            "marker": {
             "colorbar": {
              "outlinewidth": 0,
              "ticks": ""
             }
            },
            "type": "scattergeo"
           }
          ],
          "scattergl": [
           {
            "marker": {
             "colorbar": {
              "outlinewidth": 0,
              "ticks": ""
             }
            },
            "type": "scattergl"
           }
          ],
          "scattermapbox": [
           {
            "marker": {
             "colorbar": {
              "outlinewidth": 0,
              "ticks": ""
             }
            },
            "type": "scattermapbox"
           }
          ],
          "scatterpolar": [
           {
            "marker": {
             "colorbar": {
              "outlinewidth": 0,
              "ticks": ""
             }
            },
            "type": "scatterpolar"
           }
          ],
          "scatterpolargl": [
           {
            "marker": {
             "colorbar": {
              "outlinewidth": 0,
              "ticks": ""
             }
            },
            "type": "scatterpolargl"
           }
          ],
          "scatterternary": [
           {
            "marker": {
             "colorbar": {
              "outlinewidth": 0,
              "ticks": ""
             }
            },
            "type": "scatterternary"
           }
          ],
          "surface": [
           {
            "colorbar": {
             "outlinewidth": 0,
             "ticks": ""
            },
            "colorscale": [
             [
              0,
              "#0d0887"
             ],
             [
              0.1111111111111111,
              "#46039f"
             ],
             [
              0.2222222222222222,
              "#7201a8"
             ],
             [
              0.3333333333333333,
              "#9c179e"
             ],
             [
              0.4444444444444444,
              "#bd3786"
             ],
             [
              0.5555555555555556,
              "#d8576b"
             ],
             [
              0.6666666666666666,
              "#ed7953"
             ],
             [
              0.7777777777777778,
              "#fb9f3a"
             ],
             [
              0.8888888888888888,
              "#fdca26"
             ],
             [
              1,
              "#f0f921"
             ]
            ],
            "type": "surface"
           }
          ],
          "table": [
           {
            "cells": {
             "fill": {
              "color": "#EBF0F8"
             },
             "line": {
              "color": "white"
             }
            },
            "header": {
             "fill": {
              "color": "#C8D4E3"
             },
             "line": {
              "color": "white"
             }
            },
            "type": "table"
           }
          ]
         },
         "layout": {
          "annotationdefaults": {
           "arrowcolor": "#2a3f5f",
           "arrowhead": 0,
           "arrowwidth": 1
          },
          "coloraxis": {
           "colorbar": {
            "outlinewidth": 0,
            "ticks": ""
           }
          },
          "colorscale": {
           "diverging": [
            [
             0,
             "#8e0152"
            ],
            [
             0.1,
             "#c51b7d"
            ],
            [
             0.2,
             "#de77ae"
            ],
            [
             0.3,
             "#f1b6da"
            ],
            [
             0.4,
             "#fde0ef"
            ],
            [
             0.5,
             "#f7f7f7"
            ],
            [
             0.6,
             "#e6f5d0"
            ],
            [
             0.7,
             "#b8e186"
            ],
            [
             0.8,
             "#7fbc41"
            ],
            [
             0.9,
             "#4d9221"
            ],
            [
             1,
             "#276419"
            ]
           ],
           "sequential": [
            [
             0,
             "#0d0887"
            ],
            [
             0.1111111111111111,
             "#46039f"
            ],
            [
             0.2222222222222222,
             "#7201a8"
            ],
            [
             0.3333333333333333,
             "#9c179e"
            ],
            [
             0.4444444444444444,
             "#bd3786"
            ],
            [
             0.5555555555555556,
             "#d8576b"
            ],
            [
             0.6666666666666666,
             "#ed7953"
            ],
            [
             0.7777777777777778,
             "#fb9f3a"
            ],
            [
             0.8888888888888888,
             "#fdca26"
            ],
            [
             1,
             "#f0f921"
            ]
           ],
           "sequentialminus": [
            [
             0,
             "#0d0887"
            ],
            [
             0.1111111111111111,
             "#46039f"
            ],
            [
             0.2222222222222222,
             "#7201a8"
            ],
            [
             0.3333333333333333,
             "#9c179e"
            ],
            [
             0.4444444444444444,
             "#bd3786"
            ],
            [
             0.5555555555555556,
             "#d8576b"
            ],
            [
             0.6666666666666666,
             "#ed7953"
            ],
            [
             0.7777777777777778,
             "#fb9f3a"
            ],
            [
             0.8888888888888888,
             "#fdca26"
            ],
            [
             1,
             "#f0f921"
            ]
           ]
          },
          "colorway": [
           "#636efa",
           "#EF553B",
           "#00cc96",
           "#ab63fa",
           "#FFA15A",
           "#19d3f3",
           "#FF6692",
           "#B6E880",
           "#FF97FF",
           "#FECB52"
          ],
          "font": {
           "color": "#2a3f5f"
          },
          "geo": {
           "bgcolor": "white",
           "lakecolor": "white",
           "landcolor": "#E5ECF6",
           "showlakes": true,
           "showland": true,
           "subunitcolor": "white"
          },
          "hoverlabel": {
           "align": "left"
          },
          "hovermode": "closest",
          "mapbox": {
           "style": "light"
          },
          "paper_bgcolor": "white",
          "plot_bgcolor": "#E5ECF6",
          "polar": {
           "angularaxis": {
            "gridcolor": "white",
            "linecolor": "white",
            "ticks": ""
           },
           "bgcolor": "#E5ECF6",
           "radialaxis": {
            "gridcolor": "white",
            "linecolor": "white",
            "ticks": ""
           }
          },
          "scene": {
           "xaxis": {
            "backgroundcolor": "#E5ECF6",
            "gridcolor": "white",
            "gridwidth": 2,
            "linecolor": "white",
            "showbackground": true,
            "ticks": "",
            "zerolinecolor": "white"
           },
           "yaxis": {
            "backgroundcolor": "#E5ECF6",
            "gridcolor": "white",
            "gridwidth": 2,
            "linecolor": "white",
            "showbackground": true,
            "ticks": "",
            "zerolinecolor": "white"
           },
           "zaxis": {
            "backgroundcolor": "#E5ECF6",
            "gridcolor": "white",
            "gridwidth": 2,
            "linecolor": "white",
            "showbackground": true,
            "ticks": "",
            "zerolinecolor": "white"
           }
          },
          "shapedefaults": {
           "line": {
            "color": "#2a3f5f"
           }
          },
          "ternary": {
           "aaxis": {
            "gridcolor": "white",
            "linecolor": "white",
            "ticks": ""
           },
           "baxis": {
            "gridcolor": "white",
            "linecolor": "white",
            "ticks": ""
           },
           "bgcolor": "#E5ECF6",
           "caxis": {
            "gridcolor": "white",
            "linecolor": "white",
            "ticks": ""
           }
          },
          "title": {
           "x": 0.05
          },
          "xaxis": {
           "automargin": true,
           "gridcolor": "white",
           "linecolor": "white",
           "ticks": "",
           "title": {
            "standoff": 15
           },
           "zerolinecolor": "white",
           "zerolinewidth": 2
          },
          "yaxis": {
           "automargin": true,
           "gridcolor": "white",
           "linecolor": "white",
           "ticks": "",
           "title": {
            "standoff": 15
           },
           "zerolinecolor": "white",
           "zerolinewidth": 2
          }
         }
        },
        "title": {
         "text": "Hand Probabilities"
        }
       }
      }
     },
     "metadata": {}
    }
   ],
   "source": [
    "import plotly.express as px\n",
    "import pandas as pd\n",
    "\n",
    "# plot the result\n",
    "fig = px.pie(pd.DataFrame({'index': [k for k in hand_count.keys()], 'prob': [v for v in hand_count.values()]}), names='index', values='prob', title='Hand Probabilities')\n",
    "fig.show()"
   ]
  },
  {
   "cell_type": "code",
   "execution_count": 72,
   "metadata": {
    "tags": []
   },
   "outputs": [
    {
     "output_type": "stream",
     "name": "stdout",
     "text": "h1 cards are ['S5', 'H6', 'S4', 'H5', 'H7']\nh2 cards are ['H10', 'HK', 'S8', 'S3', 'CJ']\n(-1, 1)\n-----------------\nh1 cards are ['D1', 'C3', 'HQ', 'SJ', 'C8']\nh2 cards are ['C4', 'H9', 'H5', 'H1', 'HK']\n(-3, 3)\n-----------------\nh1 cards are ['H1', 'H10', 'H3', 'C2', 'C3']\nh2 cards are ['H7', 'H10', 'D1', 'S8', 'H3']\n(-3, 3)\n-----------------\n"
    }
   ],
   "source": [
    "## Comparison of two different hands\n",
    "\n",
    "# setting up comparison dict by assigning explicit score to according to hand value\n",
    "win_hierarchy = {'all-big': 13, 'all-small': 12, 'ngau-pair': 11, 'ngau-ngau': 10, 'no-game': 0} \n",
    "for x in range(1,10):\n",
    "    win_hierarchy[f'ngau-{x}'] = x\n",
    "\n",
    "win_payout = {'all-big': 5, 'all-small': 5, 'ngau-pair': 5, 'ngau-ngau': 4, 'ngau-9': 3, 'ngau-8': 2, 'ngau-7': 2, 'no-game': 1}\n",
    "for x in range(1,7):\n",
    "    win_payout[f'ngau-{x}'] = 1\n",
    "\n",
    "card_dict = {'J':11, 'Q':12, 'K': 13}\n",
    "for x in range(1,11):\n",
    "    card_dict[str(x)] = x\n",
    "\n",
    "\n",
    "# return winner for a list of high cards\n",
    "def compare_sorted_list(a, b):\n",
    "    if a and b:\n",
    "        if a[0] > b[0]:\n",
    "            return 0\n",
    "        if a[0] < b[0]:\n",
    "            return 1\n",
    "        if a[0] == b[0]:\n",
    "            return compare_sorted_list(a[1:], b[1:])\n",
    "    else:\n",
    "        return None\n",
    "\n",
    "\n",
    "# comparison under no-game tie scenario\n",
    "# return winner_idx\n",
    "def compare_five_cards(h1, h2):\n",
    "    winner_idx = None\n",
    "\n",
    "    # check for number of pairs in the 5 cards\n",
    "    h1_n = sorted([card_dict[h[1:]] for h in h1], reverse=True)\n",
    "    h1_pairs = sorted([k for k, v in Counter(h1_n).items() if v > 1], reverse=True)\n",
    "\n",
    "    h2_n = sorted([card_dict[h[1:]] for h in h2], reverse=True)\n",
    "    h2_pairs = sorted([k for k, v in Counter(h2_n).items() if v > 1], reverse=True)\n",
    "\n",
    "    if len(h1_pairs) > len(h2_pairs):\n",
    "        winner_idx = 0\n",
    "    elif len(h1_pairs) < len(h2_pairs):\n",
    "        winner_idx = 1\n",
    "    elif h1_pairs: # when len(h1_pairs) == len(h2_pairs) != 0\n",
    "        winner_idx = compare_sorted_list(h1_pairs, h2_pairs)\n",
    "    else: # when len(h1_pairs) == len(h2_pairs) == 0\n",
    "        winner_idx = compare_sorted_list(h1_n, h2_n)\n",
    "    \n",
    "    return winner_idx\n",
    "\n",
    "\n",
    "def payout_handler(winner_idx, winner_hand):\n",
    "    # no payout for tie\n",
    "    if winner_idx is None:\n",
    "        return (0,0)\n",
    "    else:\n",
    "        mult = win_payout[winner_hand]\n",
    "        payout = (mult, mult * -1) if winner_idx==0 else (mult * -1, mult)\n",
    "        return payout\n",
    "\n",
    "\n",
    "# input of h1, h2 should be two lists\n",
    "# winner_idx = 0 means h1 wins; h2 if winner_idx = 1\n",
    "# return a tuple representing result of pnl\n",
    "def comparison(h1, h2):\n",
    "    h1_hand = best_arrangement(h1)\n",
    "    h2_hand = best_arrangement(h2)\n",
    "    h1_pt = win_hierarchy[h1_hand]\n",
    "    h2_pt = win_hierarchy[h2_hand]\n",
    "\n",
    "    if h1_pt > h2_pt:\n",
    "        winner_idx, winner_hand = 0, h1_hand\n",
    "    elif h1_pt < h2_pt:\n",
    "        winner_idx, winner_hand = 1, h2_hand\n",
    "    else:\n",
    "        # tie cases when both players got \"no-game\"\n",
    "        if h1_pt == 0:\n",
    "            winner_idx, winner_hand = compare_five_cards(h1, h2), 'no-game'\n",
    "        else:\n",
    "            winner_idx, winner_hand = None, h1_hand\n",
    "    return payout_handler(winner_idx, winner_hand)\n",
    "\n",
    "\n",
    "# Demonstration\n",
    "for _ in range(3):\n",
    "    h1 = get_random_card(random.random())\n",
    "    h2 = get_random_card(random.random())\n",
    "    print(f'h1 cards are {h1}')\n",
    "    print(f'h2 cards are {h2}')\n",
    "    print(comparison(h1, h2))\n",
    "    print('-----------------')"
   ]
  },
  {
   "cell_type": "markdown",
   "metadata": {},
   "source": [
    "## Theoretical expectation value of banker"
   ]
  },
  {
   "cell_type": "code",
   "execution_count": 168,
   "metadata": {
    "tags": []
   },
   "outputs": [
    {
     "output_type": "stream",
     "name": "stderr",
     "text": "0%|          | 0/2598960 [00:43<?, ?it/s]\n"
    },
    {
     "output_type": "error",
     "ename": "KeyboardInterrupt",
     "evalue": "",
     "traceback": [
      "\u001b[0;31m---------------------------------------------------------------------------\u001b[0m",
      "\u001b[0;31mKeyboardInterrupt\u001b[0m                         Traceback (most recent call last)",
      "\u001b[0;32m<ipython-input-168-65d3e51ffa9c>\u001b[0m in \u001b[0;36m<module>\u001b[0;34m\u001b[0m\n\u001b[1;32m      3\u001b[0m \u001b[0;32mfor\u001b[0m \u001b[0mh\u001b[0m \u001b[0;32min\u001b[0m \u001b[0mtqdm\u001b[0m\u001b[0;34m(\u001b[0m\u001b[0mall_hands\u001b[0m\u001b[0;34m)\u001b[0m\u001b[0;34m:\u001b[0m\u001b[0;34m\u001b[0m\u001b[0;34m\u001b[0m\u001b[0m\n\u001b[1;32m      4\u001b[0m     \u001b[0;32mfor\u001b[0m \u001b[0mg\u001b[0m \u001b[0;32min\u001b[0m \u001b[0mall_hands\u001b[0m\u001b[0;34m:\u001b[0m\u001b[0;34m\u001b[0m\u001b[0;34m\u001b[0m\u001b[0m\n\u001b[0;32m----> 5\u001b[0;31m         \u001b[0mpayoff\u001b[0m \u001b[0;34m=\u001b[0m \u001b[0mcomparison\u001b[0m\u001b[0;34m(\u001b[0m\u001b[0mh\u001b[0m\u001b[0;34m,\u001b[0m\u001b[0mg\u001b[0m\u001b[0;34m)\u001b[0m\u001b[0;34m\u001b[0m\u001b[0;34m\u001b[0m\u001b[0m\n\u001b[0m\u001b[1;32m      6\u001b[0m         \u001b[0mall_payoff\u001b[0m\u001b[0;34m.\u001b[0m\u001b[0mappend\u001b[0m\u001b[0;34m(\u001b[0m\u001b[0mpayoff\u001b[0m\u001b[0;34m[\u001b[0m\u001b[0;36m0\u001b[0m\u001b[0;34m]\u001b[0m\u001b[0;34m)\u001b[0m\u001b[0;34m\u001b[0m\u001b[0;34m\u001b[0m\u001b[0m\n\u001b[1;32m      7\u001b[0m \u001b[0;34m\u001b[0m\u001b[0m\n",
      "\u001b[0;32m<ipython-input-109-d71273d51171>\u001b[0m in \u001b[0;36mcomparison\u001b[0;34m(h1, h2)\u001b[0m\n\u001b[1;32m     66\u001b[0m \u001b[0;31m# return a tuple representing result of pnl\u001b[0m\u001b[0;34m\u001b[0m\u001b[0;34m\u001b[0m\u001b[0;34m\u001b[0m\u001b[0m\n\u001b[1;32m     67\u001b[0m \u001b[0;32mdef\u001b[0m \u001b[0mcomparison\u001b[0m\u001b[0;34m(\u001b[0m\u001b[0mh1\u001b[0m\u001b[0;34m,\u001b[0m \u001b[0mh2\u001b[0m\u001b[0;34m)\u001b[0m\u001b[0;34m:\u001b[0m\u001b[0;34m\u001b[0m\u001b[0;34m\u001b[0m\u001b[0m\n\u001b[0;32m---> 68\u001b[0;31m     \u001b[0mh1_hand\u001b[0m \u001b[0;34m=\u001b[0m \u001b[0mbest_arrangement\u001b[0m\u001b[0;34m(\u001b[0m\u001b[0mh1\u001b[0m\u001b[0;34m)\u001b[0m\u001b[0;34m\u001b[0m\u001b[0;34m\u001b[0m\u001b[0m\n\u001b[0m\u001b[1;32m     69\u001b[0m     \u001b[0mh2_hand\u001b[0m \u001b[0;34m=\u001b[0m \u001b[0mbest_arrangement\u001b[0m\u001b[0;34m(\u001b[0m\u001b[0mh2\u001b[0m\u001b[0;34m)\u001b[0m\u001b[0;34m\u001b[0m\u001b[0;34m\u001b[0m\u001b[0m\n\u001b[1;32m     70\u001b[0m     \u001b[0mh1_pt\u001b[0m \u001b[0;34m=\u001b[0m \u001b[0mwin_hierarchy\u001b[0m\u001b[0;34m[\u001b[0m\u001b[0mh1_hand\u001b[0m\u001b[0;34m]\u001b[0m\u001b[0;34m\u001b[0m\u001b[0;34m\u001b[0m\u001b[0m\n",
      "\u001b[0;32m<ipython-input-10-cd8a60027576>\u001b[0m in \u001b[0;36mbest_arrangement\u001b[0;34m(cards)\u001b[0m\n\u001b[1;32m     35\u001b[0m \u001b[0;34m\u001b[0m\u001b[0m\n\u001b[1;32m     36\u001b[0m \u001b[0;32mdef\u001b[0m \u001b[0mbest_arrangement\u001b[0m\u001b[0;34m(\u001b[0m\u001b[0mcards\u001b[0m\u001b[0;34m)\u001b[0m\u001b[0;34m:\u001b[0m\u001b[0;34m\u001b[0m\u001b[0;34m\u001b[0m\u001b[0m\n\u001b[0;32m---> 37\u001b[0;31m     \u001b[0mform\u001b[0m \u001b[0;34m=\u001b[0m \u001b[0marrange\u001b[0m\u001b[0;34m(\u001b[0m\u001b[0mcards\u001b[0m\u001b[0;34m)\u001b[0m\u001b[0;34m\u001b[0m\u001b[0;34m\u001b[0m\u001b[0m\n\u001b[0m\u001b[1;32m     38\u001b[0m     \u001b[0;31m# game-enabled scenario\u001b[0m\u001b[0;34m\u001b[0m\u001b[0;34m\u001b[0m\u001b[0;34m\u001b[0m\u001b[0m\n\u001b[1;32m     39\u001b[0m     \u001b[0mbest_arr\u001b[0m \u001b[0;34m=\u001b[0m \u001b[0;32mNone\u001b[0m\u001b[0;34m\u001b[0m\u001b[0;34m\u001b[0m\u001b[0m\n",
      "\u001b[0;32m<ipython-input-10-cd8a60027576>\u001b[0m in \u001b[0;36marrange\u001b[0;34m(cards)\u001b[0m\n\u001b[1;32m     17\u001b[0m             \u001b[0;32mif\u001b[0m \u001b[0mipos\u001b[0m \u001b[0;34m==\u001b[0m \u001b[0mjpos\u001b[0m\u001b[0;34m:\u001b[0m\u001b[0;34m\u001b[0m\u001b[0;34m\u001b[0m\u001b[0m\n\u001b[1;32m     18\u001b[0m                 \u001b[0;32mcontinue\u001b[0m\u001b[0;34m\u001b[0m\u001b[0;34m\u001b[0m\u001b[0m\n\u001b[0;32m---> 19\u001b[0;31m             \u001b[0mn\u001b[0m \u001b[0;34m=\u001b[0m \u001b[0mcards\u001b[0m\u001b[0;34m[\u001b[0m\u001b[0;34m:\u001b[0m\u001b[0;34m]\u001b[0m\u001b[0;34m\u001b[0m\u001b[0;34m\u001b[0m\u001b[0m\n\u001b[0m\u001b[1;32m     20\u001b[0m             \u001b[0;32mif\u001b[0m \u001b[0mipos\u001b[0m \u001b[0;34m<\u001b[0m \u001b[0mjpos\u001b[0m\u001b[0;34m:\u001b[0m\u001b[0;34m\u001b[0m\u001b[0;34m\u001b[0m\u001b[0m\n\u001b[1;32m     21\u001b[0m                 \u001b[0mn\u001b[0m\u001b[0;34m.\u001b[0m\u001b[0mpop\u001b[0m\u001b[0;34m(\u001b[0m\u001b[0mjpos\u001b[0m\u001b[0;34m)\u001b[0m\u001b[0;34m\u001b[0m\u001b[0;34m\u001b[0m\u001b[0m\n",
      "\u001b[0;31mKeyboardInterrupt\u001b[0m: "
     ]
    }
   ],
   "source": [
    "# unparallelized version\n",
    "# this is computationally infeasible which takes forever to compute\n",
    "all_hands = [h[0] for h in hand]\n",
    "all_payoff = []\n",
    "for h in tqdm(all_hands):\n",
    "    for g in all_hands:\n",
    "        payoff = comparison(h,g)\n",
    "        all_payoff.append(payoff[0])\n",
    "\n",
    "print(sum(all_payoff)/len(all_payoff))"
   ]
  },
  {
   "cell_type": "code",
   "execution_count": 74,
   "metadata": {
    "tags": []
   },
   "outputs": [
    {
     "output_type": "stream",
     "name": "stderr",
     "text": "100%|██████████| 2598960/2598960 [00:01<00:00, 2274789.16it/s]\n100%|██████████| 2598960/2598960 [00:00<00:00, 2686129.93it/s]\n100%|██████████| 2598960/2598960 [00:00<00:00, 2650971.91it/s]\n100%|██████████| 2598960/2598960 [00:00<00:00, 2678329.62it/s]\n100%|██████████| 2598960/2598960 [00:00<00:00, 2657260.27it/s]\n100%|██████████| 2598960/2598960 [00:02<00:00, 993811.06it/s]\n100%|██████████| 2598960/2598960 [00:00<00:00, 2622100.20it/s]\n 62%|██████▏   | 1613164/2598960 [00:02<00:01, 576590.68it/s]\n"
    },
    {
     "output_type": "error",
     "ename": "KeyboardInterrupt",
     "evalue": "",
     "traceback": [
      "\u001b[0;31m---------------------------------------------------------------------------\u001b[0m",
      "\u001b[0;31mKeyboardInterrupt\u001b[0m                         Traceback (most recent call last)",
      "\u001b[0;32m<ipython-input-74-8551abe65dd5>\u001b[0m in \u001b[0;36m<module>\u001b[0;34m\u001b[0m\n\u001b[1;32m      6\u001b[0m \u001b[0;32mimport\u001b[0m \u001b[0mmultiprocessing\u001b[0m \u001b[0;32mas\u001b[0m \u001b[0mmp\u001b[0m\u001b[0;34m\u001b[0m\u001b[0;34m\u001b[0m\u001b[0m\n\u001b[1;32m      7\u001b[0m \u001b[0;34m\u001b[0m\u001b[0m\n\u001b[0;32m----> 8\u001b[0;31m \u001b[0mall_hands_two_players\u001b[0m \u001b[0;34m=\u001b[0m \u001b[0;34m[\u001b[0m\u001b[0;34m(\u001b[0m\u001b[0mh\u001b[0m\u001b[0;34m,\u001b[0m\u001b[0mg\u001b[0m\u001b[0;34m)\u001b[0m \u001b[0;32mfor\u001b[0m \u001b[0mh\u001b[0m \u001b[0;32min\u001b[0m \u001b[0mhand\u001b[0m \u001b[0;32mfor\u001b[0m \u001b[0mg\u001b[0m \u001b[0;32min\u001b[0m \u001b[0mtqdm\u001b[0m\u001b[0;34m(\u001b[0m\u001b[0mhand\u001b[0m\u001b[0;34m)\u001b[0m \u001b[0;32mif\u001b[0m \u001b[0mh\u001b[0m\u001b[0;34m!=\u001b[0m\u001b[0mg\u001b[0m\u001b[0;34m]\u001b[0m\u001b[0;34m\u001b[0m\u001b[0;34m\u001b[0m\u001b[0m\n\u001b[0m\u001b[1;32m      9\u001b[0m \u001b[0mprint\u001b[0m\u001b[0;34m(\u001b[0m\u001b[0mlen\u001b[0m\u001b[0;34m(\u001b[0m\u001b[0mall_hands_two_players\u001b[0m\u001b[0;34m)\u001b[0m\u001b[0;34m)\u001b[0m\u001b[0;34m\u001b[0m\u001b[0;34m\u001b[0m\u001b[0m\n\u001b[1;32m     10\u001b[0m \u001b[0;34m\u001b[0m\u001b[0m\n",
      "\u001b[0;32m<ipython-input-74-8551abe65dd5>\u001b[0m in \u001b[0;36m<listcomp>\u001b[0;34m(.0)\u001b[0m\n\u001b[1;32m      6\u001b[0m \u001b[0;32mimport\u001b[0m \u001b[0mmultiprocessing\u001b[0m \u001b[0;32mas\u001b[0m \u001b[0mmp\u001b[0m\u001b[0;34m\u001b[0m\u001b[0;34m\u001b[0m\u001b[0m\n\u001b[1;32m      7\u001b[0m \u001b[0;34m\u001b[0m\u001b[0m\n\u001b[0;32m----> 8\u001b[0;31m \u001b[0mall_hands_two_players\u001b[0m \u001b[0;34m=\u001b[0m \u001b[0;34m[\u001b[0m\u001b[0;34m(\u001b[0m\u001b[0mh\u001b[0m\u001b[0;34m,\u001b[0m\u001b[0mg\u001b[0m\u001b[0;34m)\u001b[0m \u001b[0;32mfor\u001b[0m \u001b[0mh\u001b[0m \u001b[0;32min\u001b[0m \u001b[0mhand\u001b[0m \u001b[0;32mfor\u001b[0m \u001b[0mg\u001b[0m \u001b[0;32min\u001b[0m \u001b[0mtqdm\u001b[0m\u001b[0;34m(\u001b[0m\u001b[0mhand\u001b[0m\u001b[0;34m)\u001b[0m \u001b[0;32mif\u001b[0m \u001b[0mh\u001b[0m\u001b[0;34m!=\u001b[0m\u001b[0mg\u001b[0m\u001b[0;34m]\u001b[0m\u001b[0;34m\u001b[0m\u001b[0;34m\u001b[0m\u001b[0m\n\u001b[0m\u001b[1;32m      9\u001b[0m \u001b[0mprint\u001b[0m\u001b[0;34m(\u001b[0m\u001b[0mlen\u001b[0m\u001b[0;34m(\u001b[0m\u001b[0mall_hands_two_players\u001b[0m\u001b[0;34m)\u001b[0m\u001b[0;34m)\u001b[0m\u001b[0;34m\u001b[0m\u001b[0;34m\u001b[0m\u001b[0m\n\u001b[1;32m     10\u001b[0m \u001b[0;34m\u001b[0m\u001b[0m\n",
      "\u001b[0;32m/opt/anaconda3/envs/dev/lib/python3.7/site-packages/tqdm/std.py\u001b[0m in \u001b[0;36m__iter__\u001b[0;34m(self)\u001b[0m\n\u001b[1;32m   1129\u001b[0m                 \u001b[0;31m# Update and possibly print the progressbar.\u001b[0m\u001b[0;34m\u001b[0m\u001b[0;34m\u001b[0m\u001b[0;34m\u001b[0m\u001b[0m\n\u001b[1;32m   1130\u001b[0m                 \u001b[0;31m# Note: does not call self.update(1) for speed optimisation.\u001b[0m\u001b[0;34m\u001b[0m\u001b[0;34m\u001b[0m\u001b[0;34m\u001b[0m\u001b[0m\n\u001b[0;32m-> 1131\u001b[0;31m                 \u001b[0mn\u001b[0m \u001b[0;34m+=\u001b[0m \u001b[0;36m1\u001b[0m\u001b[0;34m\u001b[0m\u001b[0;34m\u001b[0m\u001b[0m\n\u001b[0m\u001b[1;32m   1132\u001b[0m                 \u001b[0;31m# check counter first to avoid calls to time()\u001b[0m\u001b[0;34m\u001b[0m\u001b[0;34m\u001b[0m\u001b[0;34m\u001b[0m\u001b[0m\n\u001b[1;32m   1133\u001b[0m                 \u001b[0;32mif\u001b[0m \u001b[0mn\u001b[0m \u001b[0;34m-\u001b[0m \u001b[0mlast_print_n\u001b[0m \u001b[0;34m>=\u001b[0m \u001b[0mself\u001b[0m\u001b[0;34m.\u001b[0m\u001b[0mminiters\u001b[0m\u001b[0;34m:\u001b[0m\u001b[0;34m\u001b[0m\u001b[0;34m\u001b[0m\u001b[0m\n",
      "\u001b[0;31mKeyboardInterrupt\u001b[0m: "
     ]
    }
   ],
   "source": [
    "# parallelized implementation\n",
    "\"\"\"\n",
    "Reference of parallelization using mp\n",
    "https://www.machinelearningplus.com/python/parallel-processing-python/\n",
    "\"\"\"\n",
    "import multiprocessing as mp\n",
    "\n",
    "all_hands_two_players = [(h,g) for h in hand for g in hand if h!=g]\n",
    "print(len(all_hands_two_players))\n",
    "\n",
    "def theoretical_comparison(h,g):\n",
    "    return comparison(h,g)[0]\n",
    "\n",
    "# parallelization\n",
    "pool = mp.Pool(mp.cpu_count())\n",
    "\n",
    "all_banker_payoff = []\n",
    "all_banker_payoff = pool.starmap_async(theoretical_comparison, [(hhs[0],hhs[1]) for hhs in tqdm(all_hands_two_players)]).get()\n",
    "\n",
    "pool.close()\n",
    "\n",
    "print(f'Banker\\'s theoretical EV is: {sum(all_payoff)/len(all_payoff)}')"
   ]
  },
  {
   "cell_type": "markdown",
   "metadata": {},
   "source": [
    "## Monte Carlo simulation"
   ]
  },
  {
   "cell_type": "code",
   "execution_count": 56,
   "metadata": {
    "tags": []
   },
   "outputs": [
    {
     "output_type": "stream",
     "name": "stderr",
     "text": "r=30, n=4: 100%|██████████| 500/500 [00:06<00:00, 81.30it/s]\n"
    }
   ],
   "source": [
    "from tqdm import tqdm\n",
    "from collections import Counter\n",
    "\n",
    "# simulation of playing between 1 chosen banker and n players\n",
    "player_num = 4\n",
    "rounds = 30\n",
    "sessions = 500\n",
    "\n",
    "\n",
    "def get_random_card_for_players(player_num):\n",
    "    return random.sample(deck, (player_num+1)*5)\n",
    "\n",
    "\n",
    "def initialize_game(player_num):\n",
    "    pnl = {'banker': []}\n",
    "    for n in range(player_num):\n",
    "        pnl[f'player-{n}'] = []\n",
    "    return pnl\n",
    "\n",
    "\n",
    "def one_session(rounds, player_num):\n",
    "    pnl = initialize_game(player_num)\n",
    "    for _ in range(rounds):\n",
    "        hands_dict = {}\n",
    "        # get all cards at one time as there are correlations between hands (draw from same deck)\n",
    "        return_cards = get_random_card_for_players(player_num)\n",
    "        for idx, k in enumerate(pnl.keys()):\n",
    "            hands_dict[k] = return_cards[idx*5:(idx+1)*5]\n",
    "        # banker compare with each player\n",
    "        banker_payoff = 0\n",
    "        for k, v in hands_dict.items():\n",
    "            if k != 'banker':\n",
    "                payoff = comparison(hands_dict['banker'], v)\n",
    "                banker_payoff += payoff[0]\n",
    "                pnl[k].append(payoff[1])\n",
    "        pnl['banker'].append(banker_payoff)\n",
    "    return {k: sum(v) for k,v in pnl.items()}\n",
    "\n",
    "\n",
    "def play_sessions(rounds, player_num, sessions):\n",
    "    pnl_list = []\n",
    "    for _ in tqdm(range(sessions), desc=f'r={rounds}, n={player_num}'):\n",
    "        pnl = one_session(rounds, player_num)\n",
    "        pnl_list.append(pnl)\n",
    "    return pnl_list\n",
    "\n",
    "\n",
    "result = play_sessions(rounds, player_num, sessions)\n"
   ]
  },
  {
   "cell_type": "code",
   "execution_count": 57,
   "metadata": {
    "tags": []
   },
   "outputs": [
    {
     "output_type": "execute_result",
     "data": {
      "text/plain": "   pnl    player\n0  -37    banker\n1   -6  player-0\n2   -4  player-1\n3   29  player-2\n4   18  player-3\n5  -20    banker\n6   -2  player-0\n7   17  player-1\n8   -1  player-2\n9    6  player-3",
      "text/html": "<div>\n<style scoped>\n    .dataframe tbody tr th:only-of-type {\n        vertical-align: middle;\n    }\n\n    .dataframe tbody tr th {\n        vertical-align: top;\n    }\n\n    .dataframe thead th {\n        text-align: right;\n    }\n</style>\n<table border=\"1\" class=\"dataframe\">\n  <thead>\n    <tr style=\"text-align: right;\">\n      <th></th>\n      <th>pnl</th>\n      <th>player</th>\n    </tr>\n  </thead>\n  <tbody>\n    <tr>\n      <th>0</th>\n      <td>-37</td>\n      <td>banker</td>\n    </tr>\n    <tr>\n      <th>1</th>\n      <td>-6</td>\n      <td>player-0</td>\n    </tr>\n    <tr>\n      <th>2</th>\n      <td>-4</td>\n      <td>player-1</td>\n    </tr>\n    <tr>\n      <th>3</th>\n      <td>29</td>\n      <td>player-2</td>\n    </tr>\n    <tr>\n      <th>4</th>\n      <td>18</td>\n      <td>player-3</td>\n    </tr>\n    <tr>\n      <th>5</th>\n      <td>-20</td>\n      <td>banker</td>\n    </tr>\n    <tr>\n      <th>6</th>\n      <td>-2</td>\n      <td>player-0</td>\n    </tr>\n    <tr>\n      <th>7</th>\n      <td>17</td>\n      <td>player-1</td>\n    </tr>\n    <tr>\n      <th>8</th>\n      <td>-1</td>\n      <td>player-2</td>\n    </tr>\n    <tr>\n      <th>9</th>\n      <td>6</td>\n      <td>player-3</td>\n    </tr>\n  </tbody>\n</table>\n</div>"
     },
     "metadata": {},
     "execution_count": 57
    }
   ],
   "source": [
    "import pandas as pd\n",
    "\n",
    "# analysis\n",
    "dflist = []\n",
    "for y in result:\n",
    "    for k, v in y.items():\n",
    "        dflist.append({'pnl':v, 'player':k})\n",
    "# df = pd.DataFrame(result)\n",
    "df = pd.DataFrame(dflist)\n",
    "df.head(10)"
   ]
  },
  {
   "cell_type": "code",
   "execution_count": 58,
   "metadata": {},
   "outputs": [
    {
     "output_type": "display_data",
     "data": {
      "application/vnd.plotly.v1+json": {
       "config": {
        "plotlyServerURL": "https://plot.ly"
       },
       "data": [
        {
         "alignmentgroup": "True",
         "box": {
          "visible": false
         },
         "hovertemplate": "player=%{x}<br>pnl=%{y}<extra></extra>",
         "legendgroup": "",
         "marker": {
          "color": "#636efa"
         },
         "name": "",
         "offsetgroup": "",
         "orientation": "v",
         "points": "all",
         "scalegroup": "True",
         "showlegend": false,
         "type": "violin",
         "x": [
          "banker",
          "player-0",
          "player-1",
          "player-2",
          "player-3",
          "banker",
          "player-0",
          "player-1",
          "player-2",
          "player-3",
          "banker",
          "player-0",
          "player-1",
          "player-2",
          "player-3",
          "banker",
          "player-0",
          "player-1",
          "player-2",
          "player-3",
          "banker",
          "player-0",
          "player-1",
          "player-2",
          "player-3",
          "banker",
          "player-0",
          "player-1",
          "player-2",
          "player-3",
          "banker",
          "player-0",
          "player-1",
          "player-2",
          "player-3",
          "banker",
          "player-0",
          "player-1",
          "player-2",
          "player-3",
          "banker",
          "player-0",
          "player-1",
          "player-2",
          "player-3",
          "banker",
          "player-0",
          "player-1",
          "player-2",
          "player-3",
          "banker",
          "player-0",
          "player-1",
          "player-2",
          "player-3",
          "banker",
          "player-0",
          "player-1",
          "player-2",
          "player-3",
          "banker",
          "player-0",
          "player-1",
          "player-2",
          "player-3",
          "banker",
          "player-0",
          "player-1",
          "player-2",
          "player-3",
          "banker",
          "player-0",
          "player-1",
          "player-2",
          "player-3",
          "banker",
          "player-0",
          "player-1",
          "player-2",
          "player-3",
          "banker",
          "player-0",
          "player-1",
          "player-2",
          "player-3",
          "banker",
          "player-0",
          "player-1",
          "player-2",
          "player-3",
          "banker",
          "player-0",
          "player-1",
          "player-2",
          "player-3",
          "banker",
          "player-0",
          "player-1",
          "player-2",
          "player-3",
          "banker",
          "player-0",
          "player-1",
          "player-2",
          "player-3",
          "banker",
          "player-0",
          "player-1",
          "player-2",
          "player-3",
          "banker",
          "player-0",
          "player-1",
          "player-2",
          "player-3",
          "banker",
          "player-0",
          "player-1",
          "player-2",
          "player-3",
          "banker",
          "player-0",
          "player-1",
          "player-2",
          "player-3",
          "banker",
          "player-0",
          "player-1",
          "player-2",
          "player-3",
          "banker",
          "player-0",
          "player-1",
          "player-2",
          "player-3",
          "banker",
          "player-0",
          "player-1",
          "player-2",
          "player-3",
          "banker",
          "player-0",
          "player-1",
          "player-2",
          "player-3",
          "banker",
          "player-0",
          "player-1",
          "player-2",
          "player-3",
          "banker",
          "player-0",
          "player-1",
          "player-2",
          "player-3",
          "banker",
          "player-0",
          "player-1",
          "player-2",
          "player-3",
          "banker",
          "player-0",
          "player-1",
          "player-2",
          "player-3",
          "banker",
          "player-0",
          "player-1",
          "player-2",
          "player-3",
          "banker",
          "player-0",
          "player-1",
          "player-2",
          "player-3",
          "banker",
          "player-0",
          "player-1",
          "player-2",
          "player-3",
          "banker",
          "player-0",
          "player-1",
          "player-2",
          "player-3",
          "banker",
          "player-0",
          "player-1",
          "player-2",
          "player-3",
          "banker",
          "player-0",
          "player-1",
          "player-2",
          "player-3",
          "banker",
          "player-0",
          "player-1",
          "player-2",
          "player-3",
          "banker",
          "player-0",
          "player-1",
          "player-2",
          "player-3",
          "banker",
          "player-0",
          "player-1",
          "player-2",
          "player-3",
          "banker",
          "player-0",
          "player-1",
          "player-2",
          "player-3",
          "banker",
          "player-0",
          "player-1",
          "player-2",
          "player-3",
          "banker",
          "player-0",
          "player-1",
          "player-2",
          "player-3",
          "banker",
          "player-0",
          "player-1",
          "player-2",
          "player-3",
          "banker",
          "player-0",
          "player-1",
          "player-2",
          "player-3",
          "banker",
          "player-0",
          "player-1",
          "player-2",
          "player-3",
          "banker",
          "player-0",
          "player-1",
          "player-2",
          "player-3",
          "banker",
          "player-0",
          "player-1",
          "player-2",
          "player-3",
          "banker",
          "player-0",
          "player-1",
          "player-2",
          "player-3",
          "banker",
          "player-0",
          "player-1",
          "player-2",
          "player-3",
          "banker",
          "player-0",
          "player-1",
          "player-2",
          "player-3",
          "banker",
          "player-0",
          "player-1",
          "player-2",
          "player-3",
          "banker",
          "player-0",
          "player-1",
          "player-2",
          "player-3",
          "banker",
          "player-0",
          "player-1",
          "player-2",
          "player-3",
          "banker",
          "player-0",
          "player-1",
          "player-2",
          "player-3",
          "banker",
          "player-0",
          "player-1",
          "player-2",
          "player-3",
          "banker",
          "player-0",
          "player-1",
          "player-2",
          "player-3",
          "banker",
          "player-0",
          "player-1",
          "player-2",
          "player-3",
          "banker",
          "player-0",
          "player-1",
          "player-2",
          "player-3",
          "banker",
          "player-0",
          "player-1",
          "player-2",
          "player-3",
          "banker",
          "player-0",
          "player-1",
          "player-2",
          "player-3",
          "banker",
          "player-0",
          "player-1",
          "player-2",
          "player-3",
          "banker",
          "player-0",
          "player-1",
          "player-2",
          "player-3",
          "banker",
          "player-0",
          "player-1",
          "player-2",
          "player-3",
          "banker",
          "player-0",
          "player-1",
          "player-2",
          "player-3",
          "banker",
          "player-0",
          "player-1",
          "player-2",
          "player-3",
          "banker",
          "player-0",
          "player-1",
          "player-2",
          "player-3",
          "banker",
          "player-0",
          "player-1",
          "player-2",
          "player-3",
          "banker",
          "player-0",
          "player-1",
          "player-2",
          "player-3",
          "banker",
          "player-0",
          "player-1",
          "player-2",
          "player-3",
          "banker",
          "player-0",
          "player-1",
          "player-2",
          "player-3",
          "banker",
          "player-0",
          "player-1",
          "player-2",
          "player-3",
          "banker",
          "player-0",
          "player-1",
          "player-2",
          "player-3",
          "banker",
          "player-0",
          "player-1",
          "player-2",
          "player-3",
          "banker",
          "player-0",
          "player-1",
          "player-2",
          "player-3",
          "banker",
          "player-0",
          "player-1",
          "player-2",
          "player-3",
          "banker",
          "player-0",
          "player-1",
          "player-2",
          "player-3",
          "banker",
          "player-0",
          "player-1",
          "player-2",
          "player-3",
          "banker",
          "player-0",
          "player-1",
          "player-2",
          "player-3",
          "banker",
          "player-0",
          "player-1",
          "player-2",
          "player-3",
          "banker",
          "player-0",
          "player-1",
          "player-2",
          "player-3",
          "banker",
          "player-0",
          "player-1",
          "player-2",
          "player-3",
          "banker",
          "player-0",
          "player-1",
          "player-2",
          "player-3",
          "banker",
          "player-0",
          "player-1",
          "player-2",
          "player-3",
          "banker",
          "player-0",
          "player-1",
          "player-2",
          "player-3",
          "banker",
          "player-0",
          "player-1",
          "player-2",
          "player-3",
          "banker",
          "player-0",
          "player-1",
          "player-2",
          "player-3",
          "banker",
          "player-0",
          "player-1",
          "player-2",
          "player-3",
          "banker",
          "player-0",
          "player-1",
          "player-2",
          "player-3",
          "banker",
          "player-0",
          "player-1",
          "player-2",
          "player-3",
          "banker",
          "player-0",
          "player-1",
          "player-2",
          "player-3",
          "banker",
          "player-0",
          "player-1",
          "player-2",
          "player-3",
          "banker",
          "player-0",
          "player-1",
          "player-2",
          "player-3",
          "banker",
          "player-0",
          "player-1",
          "player-2",
          "player-3",
          "banker",
          "player-0",
          "player-1",
          "player-2",
          "player-3",
          "banker",
          "player-0",
          "player-1",
          "player-2",
          "player-3",
          "banker",
          "player-0",
          "player-1",
          "player-2",
          "player-3",
          "banker",
          "player-0",
          "player-1",
          "player-2",
          "player-3",
          "banker",
          "player-0",
          "player-1",
          "player-2",
          "player-3",
          "banker",
          "player-0",
          "player-1",
          "player-2",
          "player-3",
          "banker",
          "player-0",
          "player-1",
          "player-2",
          "player-3",
          "banker",
          "player-0",
          "player-1",
          "player-2",
          "player-3",
          "banker",
          "player-0",
          "player-1",
          "player-2",
          "player-3",
          "banker",
          "player-0",
          "player-1",
          "player-2",
          "player-3",
          "banker",
          "player-0",
          "player-1",
          "player-2",
          "player-3",
          "banker",
          "player-0",
          "player-1",
          "player-2",
          "player-3",
          "banker",
          "player-0",
          "player-1",
          "player-2",
          "player-3",
          "banker",
          "player-0",
          "player-1",
          "player-2",
          "player-3",
          "banker",
          "player-0",
          "player-1",
          "player-2",
          "player-3",
          "banker",
          "player-0",
          "player-1",
          "player-2",
          "player-3",
          "banker",
          "player-0",
          "player-1",
          "player-2",
          "player-3",
          "banker",
          "player-0",
          "player-1",
          "player-2",
          "player-3",
          "banker",
          "player-0",
          "player-1",
          "player-2",
          "player-3",
          "banker",
          "player-0",
          "player-1",
          "player-2",
          "player-3",
          "banker",
          "player-0",
          "player-1",
          "player-2",
          "player-3",
          "banker",
          "player-0",
          "player-1",
          "player-2",
          "player-3",
          "banker",
          "player-0",
          "player-1",
          "player-2",
          "player-3",
          "banker",
          "player-0",
          "player-1",
          "player-2",
          "player-3",
          "banker",
          "player-0",
          "player-1",
          "player-2",
          "player-3",
          "banker",
          "player-0",
          "player-1",
          "player-2",
          "player-3",
          "banker",
          "player-0",
          "player-1",
          "player-2",
          "player-3",
          "banker",
          "player-0",
          "player-1",
          "player-2",
          "player-3",
          "banker",
          "player-0",
          "player-1",
          "player-2",
          "player-3",
          "banker",
          "player-0",
          "player-1",
          "player-2",
          "player-3",
          "banker",
          "player-0",
          "player-1",
          "player-2",
          "player-3",
          "banker",
          "player-0",
          "player-1",
          "player-2",
          "player-3",
          "banker",
          "player-0",
          "player-1",
          "player-2",
          "player-3",
          "banker",
          "player-0",
          "player-1",
          "player-2",
          "player-3",
          "banker",
          "player-0",
          "player-1",
          "player-2",
          "player-3",
          "banker",
          "player-0",
          "player-1",
          "player-2",
          "player-3",
          "banker",
          "player-0",
          "player-1",
          "player-2",
          "player-3",
          "banker",
          "player-0",
          "player-1",
          "player-2",
          "player-3",
          "banker",
          "player-0",
          "player-1",
          "player-2",
          "player-3",
          "banker",
          "player-0",
          "player-1",
          "player-2",
          "player-3",
          "banker",
          "player-0",
          "player-1",
          "player-2",
          "player-3",
          "banker",
          "player-0",
          "player-1",
          "player-2",
          "player-3",
          "banker",
          "player-0",
          "player-1",
          "player-2",
          "player-3",
          "banker",
          "player-0",
          "player-1",
          "player-2",
          "player-3",
          "banker",
          "player-0",
          "player-1",
          "player-2",
          "player-3",
          "banker",
          "player-0",
          "player-1",
          "player-2",
          "player-3",
          "banker",
          "player-0",
          "player-1",
          "player-2",
          "player-3",
          "banker",
          "player-0",
          "player-1",
          "player-2",
          "player-3",
          "banker",
          "player-0",
          "player-1",
          "player-2",
          "player-3",
          "banker",
          "player-0",
          "player-1",
          "player-2",
          "player-3",
          "banker",
          "player-0",
          "player-1",
          "player-2",
          "player-3",
          "banker",
          "player-0",
          "player-1",
          "player-2",
          "player-3",
          "banker",
          "player-0",
          "player-1",
          "player-2",
          "player-3",
          "banker",
          "player-0",
          "player-1",
          "player-2",
          "player-3",
          "banker",
          "player-0",
          "player-1",
          "player-2",
          "player-3",
          "banker",
          "player-0",
          "player-1",
          "player-2",
          "player-3",
          "banker",
          "player-0",
          "player-1",
          "player-2",
          "player-3",
          "banker",
          "player-0",
          "player-1",
          "player-2",
          "player-3",
          "banker",
          "player-0",
          "player-1",
          "player-2",
          "player-3",
          "banker",
          "player-0",
          "player-1",
          "player-2",
          "player-3",
          "banker",
          "player-0",
          "player-1",
          "player-2",
          "player-3",
          "banker",
          "player-0",
          "player-1",
          "player-2",
          "player-3",
          "banker",
          "player-0",
          "player-1",
          "player-2",
          "player-3",
          "banker",
          "player-0",
          "player-1",
          "player-2",
          "player-3",
          "banker",
          "player-0",
          "player-1",
          "player-2",
          "player-3",
          "banker",
          "player-0",
          "player-1",
          "player-2",
          "player-3",
          "banker",
          "player-0",
          "player-1",
          "player-2",
          "player-3",
          "banker",
          "player-0",
          "player-1",
          "player-2",
          "player-3",
          "banker",
          "player-0",
          "player-1",
          "player-2",
          "player-3",
          "banker",
          "player-0",
          "player-1",
          "player-2",
          "player-3",
          "banker",
          "player-0",
          "player-1",
          "player-2",
          "player-3",
          "banker",
          "player-0",
          "player-1",
          "player-2",
          "player-3",
          "banker",
          "player-0",
          "player-1",
          "player-2",
          "player-3",
          "banker",
          "player-0",
          "player-1",
          "player-2",
          "player-3",
          "banker",
          "player-0",
          "player-1",
          "player-2",
          "player-3",
          "banker",
          "player-0",
          "player-1",
          "player-2",
          "player-3",
          "banker",
          "player-0",
          "player-1",
          "player-2",
          "player-3",
          "banker",
          "player-0",
          "player-1",
          "player-2",
          "player-3",
          "banker",
          "player-0",
          "player-1",
          "player-2",
          "player-3",
          "banker",
          "player-0",
          "player-1",
          "player-2",
          "player-3",
          "banker",
          "player-0",
          "player-1",
          "player-2",
          "player-3",
          "banker",
          "player-0",
          "player-1",
          "player-2",
          "player-3",
          "banker",
          "player-0",
          "player-1",
          "player-2",
          "player-3",
          "banker",
          "player-0",
          "player-1",
          "player-2",
          "player-3",
          "banker",
          "player-0",
          "player-1",
          "player-2",
          "player-3",
          "banker",
          "player-0",
          "player-1",
          "player-2",
          "player-3",
          "banker",
          "player-0",
          "player-1",
          "player-2",
          "player-3",
          "banker",
          "player-0",
          "player-1",
          "player-2",
          "player-3",
          "banker",
          "player-0",
          "player-1",
          "player-2",
          "player-3",
          "banker",
          "player-0",
          "player-1",
          "player-2",
          "player-3",
          "banker",
          "player-0",
          "player-1",
          "player-2",
          "player-3",
          "banker",
          "player-0",
          "player-1",
          "player-2",
          "player-3",
          "banker",
          "player-0",
          "player-1",
          "player-2",
          "player-3",
          "banker",
          "player-0",
          "player-1",
          "player-2",
          "player-3",
          "banker",
          "player-0",
          "player-1",
          "player-2",
          "player-3",
          "banker",
          "player-0",
          "player-1",
          "player-2",
          "player-3",
          "banker",
          "player-0",
          "player-1",
          "player-2",
          "player-3",
          "banker",
          "player-0",
          "player-1",
          "player-2",
          "player-3",
          "banker",
          "player-0",
          "player-1",
          "player-2",
          "player-3",
          "banker",
          "player-0",
          "player-1",
          "player-2",
          "player-3",
          "banker",
          "player-0",
          "player-1",
          "player-2",
          "player-3",
          "banker",
          "player-0",
          "player-1",
          "player-2",
          "player-3",
          "banker",
          "player-0",
          "player-1",
          "player-2",
          "player-3",
          "banker",
          "player-0",
          "player-1",
          "player-2",
          "player-3",
          "banker",
          "player-0",
          "player-1",
          "player-2",
          "player-3",
          "banker",
          "player-0",
          "player-1",
          "player-2",
          "player-3",
          "banker",
          "player-0",
          "player-1",
          "player-2",
          "player-3",
          "banker",
          "player-0",
          "player-1",
          "player-2",
          "player-3",
          "banker",
          "player-0",
          "player-1",
          "player-2",
          "player-3",
          "banker",
          "player-0",
          "player-1",
          "player-2",
          "player-3",
          "banker",
          "player-0",
          "player-1",
          "player-2",
          "player-3",
          "banker",
          "player-0",
          "player-1",
          "player-2",
          "player-3",
          "banker",
          "player-0",
          "player-1",
          "player-2",
          "player-3",
          "banker",
          "player-0",
          "player-1",
          "player-2",
          "player-3",
          "banker",
          "player-0",
          "player-1",
          "player-2",
          "player-3",
          "banker",
          "player-0",
          "player-1",
          "player-2",
          "player-3",
          "banker",
          "player-0",
          "player-1",
          "player-2",
          "player-3",
          "banker",
          "player-0",
          "player-1",
          "player-2",
          "player-3",
          "banker",
          "player-0",
          "player-1",
          "player-2",
          "player-3",
          "banker",
          "player-0",
          "player-1",
          "player-2",
          "player-3",
          "banker",
          "player-0",
          "player-1",
          "player-2",
          "player-3",
          "banker",
          "player-0",
          "player-1",
          "player-2",
          "player-3",
          "banker",
          "player-0",
          "player-1",
          "player-2",
          "player-3",
          "banker",
          "player-0",
          "player-1",
          "player-2",
          "player-3",
          "banker",
          "player-0",
          "player-1",
          "player-2",
          "player-3",
          "banker",
          "player-0",
          "player-1",
          "player-2",
          "player-3",
          "banker",
          "player-0",
          "player-1",
          "player-2",
          "player-3",
          "banker",
          "player-0",
          "player-1",
          "player-2",
          "player-3",
          "banker",
          "player-0",
          "player-1",
          "player-2",
          "player-3",
          "banker",
          "player-0",
          "player-1",
          "player-2",
          "player-3",
          "banker",
          "player-0",
          "player-1",
          "player-2",
          "player-3",
          "banker",
          "player-0",
          "player-1",
          "player-2",
          "player-3",
          "banker",
          "player-0",
          "player-1",
          "player-2",
          "player-3",
          "banker",
          "player-0",
          "player-1",
          "player-2",
          "player-3",
          "banker",
          "player-0",
          "player-1",
          "player-2",
          "player-3",
          "banker",
          "player-0",
          "player-1",
          "player-2",
          "player-3",
          "banker",
          "player-0",
          "player-1",
          "player-2",
          "player-3",
          "banker",
          "player-0",
          "player-1",
          "player-2",
          "player-3",
          "banker",
          "player-0",
          "player-1",
          "player-2",
          "player-3",
          "banker",
          "player-0",
          "player-1",
          "player-2",
          "player-3",
          "banker",
          "player-0",
          "player-1",
          "player-2",
          "player-3",
          "banker",
          "player-0",
          "player-1",
          "player-2",
          "player-3",
          "banker",
          "player-0",
          "player-1",
          "player-2",
          "player-3",
          "banker",
          "player-0",
          "player-1",
          "player-2",
          "player-3",
          "banker",
          "player-0",
          "player-1",
          "player-2",
          "player-3",
          "banker",
          "player-0",
          "player-1",
          "player-2",
          "player-3",
          "banker",
          "player-0",
          "player-1",
          "player-2",
          "player-3",
          "banker",
          "player-0",
          "player-1",
          "player-2",
          "player-3",
          "banker",
          "player-0",
          "player-1",
          "player-2",
          "player-3",
          "banker",
          "player-0",
          "player-1",
          "player-2",
          "player-3",
          "banker",
          "player-0",
          "player-1",
          "player-2",
          "player-3",
          "banker",
          "player-0",
          "player-1",
          "player-2",
          "player-3",
          "banker",
          "player-0",
          "player-1",
          "player-2",
          "player-3",
          "banker",
          "player-0",
          "player-1",
          "player-2",
          "player-3",
          "banker",
          "player-0",
          "player-1",
          "player-2",
          "player-3",
          "banker",
          "player-0",
          "player-1",
          "player-2",
          "player-3",
          "banker",
          "player-0",
          "player-1",
          "player-2",
          "player-3",
          "banker",
          "player-0",
          "player-1",
          "player-2",
          "player-3",
          "banker",
          "player-0",
          "player-1",
          "player-2",
          "player-3",
          "banker",
          "player-0",
          "player-1",
          "player-2",
          "player-3",
          "banker",
          "player-0",
          "player-1",
          "player-2",
          "player-3",
          "banker",
          "player-0",
          "player-1",
          "player-2",
          "player-3",
          "banker",
          "player-0",
          "player-1",
          "player-2",
          "player-3",
          "banker",
          "player-0",
          "player-1",
          "player-2",
          "player-3",
          "banker",
          "player-0",
          "player-1",
          "player-2",
          "player-3",
          "banker",
          "player-0",
          "player-1",
          "player-2",
          "player-3",
          "banker",
          "player-0",
          "player-1",
          "player-2",
          "player-3",
          "banker",
          "player-0",
          "player-1",
          "player-2",
          "player-3",
          "banker",
          "player-0",
          "player-1",
          "player-2",
          "player-3",
          "banker",
          "player-0",
          "player-1",
          "player-2",
          "player-3",
          "banker",
          "player-0",
          "player-1",
          "player-2",
          "player-3",
          "banker",
          "player-0",
          "player-1",
          "player-2",
          "player-3",
          "banker",
          "player-0",
          "player-1",
          "player-2",
          "player-3",
          "banker",
          "player-0",
          "player-1",
          "player-2",
          "player-3",
          "banker",
          "player-0",
          "player-1",
          "player-2",
          "player-3",
          "banker",
          "player-0",
          "player-1",
          "player-2",
          "player-3",
          "banker",
          "player-0",
          "player-1",
          "player-2",
          "player-3",
          "banker",
          "player-0",
          "player-1",
          "player-2",
          "player-3",
          "banker",
          "player-0",
          "player-1",
          "player-2",
          "player-3",
          "banker",
          "player-0",
          "player-1",
          "player-2",
          "player-3",
          "banker",
          "player-0",
          "player-1",
          "player-2",
          "player-3",
          "banker",
          "player-0",
          "player-1",
          "player-2",
          "player-3",
          "banker",
          "player-0",
          "player-1",
          "player-2",
          "player-3",
          "banker",
          "player-0",
          "player-1",
          "player-2",
          "player-3",
          "banker",
          "player-0",
          "player-1",
          "player-2",
          "player-3",
          "banker",
          "player-0",
          "player-1",
          "player-2",
          "player-3",
          "banker",
          "player-0",
          "player-1",
          "player-2",
          "player-3",
          "banker",
          "player-0",
          "player-1",
          "player-2",
          "player-3",
          "banker",
          "player-0",
          "player-1",
          "player-2",
          "player-3",
          "banker",
          "player-0",
          "player-1",
          "player-2",
          "player-3",
          "banker",
          "player-0",
          "player-1",
          "player-2",
          "player-3",
          "banker",
          "player-0",
          "player-1",
          "player-2",
          "player-3",
          "banker",
          "player-0",
          "player-1",
          "player-2",
          "player-3",
          "banker",
          "player-0",
          "player-1",
          "player-2",
          "player-3",
          "banker",
          "player-0",
          "player-1",
          "player-2",
          "player-3",
          "banker",
          "player-0",
          "player-1",
          "player-2",
          "player-3",
          "banker",
          "player-0",
          "player-1",
          "player-2",
          "player-3",
          "banker",
          "player-0",
          "player-1",
          "player-2",
          "player-3",
          "banker",
          "player-0",
          "player-1",
          "player-2",
          "player-3",
          "banker",
          "player-0",
          "player-1",
          "player-2",
          "player-3",
          "banker",
          "player-0",
          "player-1",
          "player-2",
          "player-3",
          "banker",
          "player-0",
          "player-1",
          "player-2",
          "player-3",
          "banker",
          "player-0",
          "player-1",
          "player-2",
          "player-3",
          "banker",
          "player-0",
          "player-1",
          "player-2",
          "player-3",
          "banker",
          "player-0",
          "player-1",
          "player-2",
          "player-3",
          "banker",
          "player-0",
          "player-1",
          "player-2",
          "player-3",
          "banker",
          "player-0",
          "player-1",
          "player-2",
          "player-3",
          "banker",
          "player-0",
          "player-1",
          "player-2",
          "player-3",
          "banker",
          "player-0",
          "player-1",
          "player-2",
          "player-3",
          "banker",
          "player-0",
          "player-1",
          "player-2",
          "player-3",
          "banker",
          "player-0",
          "player-1",
          "player-2",
          "player-3",
          "banker",
          "player-0",
          "player-1",
          "player-2",
          "player-3",
          "banker",
          "player-0",
          "player-1",
          "player-2",
          "player-3",
          "banker",
          "player-0",
          "player-1",
          "player-2",
          "player-3",
          "banker",
          "player-0",
          "player-1",
          "player-2",
          "player-3",
          "banker",
          "player-0",
          "player-1",
          "player-2",
          "player-3",
          "banker",
          "player-0",
          "player-1",
          "player-2",
          "player-3",
          "banker",
          "player-0",
          "player-1",
          "player-2",
          "player-3",
          "banker",
          "player-0",
          "player-1",
          "player-2",
          "player-3",
          "banker",
          "player-0",
          "player-1",
          "player-2",
          "player-3",
          "banker",
          "player-0",
          "player-1",
          "player-2",
          "player-3",
          "banker",
          "player-0",
          "player-1",
          "player-2",
          "player-3",
          "banker",
          "player-0",
          "player-1",
          "player-2",
          "player-3",
          "banker",
          "player-0",
          "player-1",
          "player-2",
          "player-3",
          "banker",
          "player-0",
          "player-1",
          "player-2",
          "player-3",
          "banker",
          "player-0",
          "player-1",
          "player-2",
          "player-3",
          "banker",
          "player-0",
          "player-1",
          "player-2",
          "player-3",
          "banker",
          "player-0",
          "player-1",
          "player-2",
          "player-3",
          "banker",
          "player-0",
          "player-1",
          "player-2",
          "player-3",
          "banker",
          "player-0",
          "player-1",
          "player-2",
          "player-3",
          "banker",
          "player-0",
          "player-1",
          "player-2",
          "player-3",
          "banker",
          "player-0",
          "player-1",
          "player-2",
          "player-3",
          "banker",
          "player-0",
          "player-1",
          "player-2",
          "player-3",
          "banker",
          "player-0",
          "player-1",
          "player-2",
          "player-3",
          "banker",
          "player-0",
          "player-1",
          "player-2",
          "player-3",
          "banker",
          "player-0",
          "player-1",
          "player-2",
          "player-3",
          "banker",
          "player-0",
          "player-1",
          "player-2",
          "player-3",
          "banker",
          "player-0",
          "player-1",
          "player-2",
          "player-3",
          "banker",
          "player-0",
          "player-1",
          "player-2",
          "player-3",
          "banker",
          "player-0",
          "player-1",
          "player-2",
          "player-3",
          "banker",
          "player-0",
          "player-1",
          "player-2",
          "player-3",
          "banker",
          "player-0",
          "player-1",
          "player-2",
          "player-3",
          "banker",
          "player-0",
          "player-1",
          "player-2",
          "player-3",
          "banker",
          "player-0",
          "player-1",
          "player-2",
          "player-3",
          "banker",
          "player-0",
          "player-1",
          "player-2",
          "player-3",
          "banker",
          "player-0",
          "player-1",
          "player-2",
          "player-3",
          "banker",
          "player-0",
          "player-1",
          "player-2",
          "player-3",
          "banker",
          "player-0",
          "player-1",
          "player-2",
          "player-3",
          "banker",
          "player-0",
          "player-1",
          "player-2",
          "player-3",
          "banker",
          "player-0",
          "player-1",
          "player-2",
          "player-3",
          "banker",
          "player-0",
          "player-1",
          "player-2",
          "player-3",
          "banker",
          "player-0",
          "player-1",
          "player-2",
          "player-3",
          "banker",
          "player-0",
          "player-1",
          "player-2",
          "player-3",
          "banker",
          "player-0",
          "player-1",
          "player-2",
          "player-3",
          "banker",
          "player-0",
          "player-1",
          "player-2",
          "player-3",
          "banker",
          "player-0",
          "player-1",
          "player-2",
          "player-3",
          "banker",
          "player-0",
          "player-1",
          "player-2",
          "player-3",
          "banker",
          "player-0",
          "player-1",
          "player-2",
          "player-3",
          "banker",
          "player-0",
          "player-1",
          "player-2",
          "player-3",
          "banker",
          "player-0",
          "player-1",
          "player-2",
          "player-3",
          "banker",
          "player-0",
          "player-1",
          "player-2",
          "player-3",
          "banker",
          "player-0",
          "player-1",
          "player-2",
          "player-3",
          "banker",
          "player-0",
          "player-1",
          "player-2",
          "player-3",
          "banker",
          "player-0",
          "player-1",
          "player-2",
          "player-3",
          "banker",
          "player-0",
          "player-1",
          "player-2",
          "player-3",
          "banker",
          "player-0",
          "player-1",
          "player-2",
          "player-3",
          "banker",
          "player-0",
          "player-1",
          "player-2",
          "player-3",
          "banker",
          "player-0",
          "player-1",
          "player-2",
          "player-3",
          "banker",
          "player-0",
          "player-1",
          "player-2",
          "player-3",
          "banker",
          "player-0",
          "player-1",
          "player-2",
          "player-3",
          "banker",
          "player-0",
          "player-1",
          "player-2",
          "player-3",
          "banker",
          "player-0",
          "player-1",
          "player-2",
          "player-3",
          "banker",
          "player-0",
          "player-1",
          "player-2",
          "player-3",
          "banker",
          "player-0",
          "player-1",
          "player-2",
          "player-3",
          "banker",
          "player-0",
          "player-1",
          "player-2",
          "player-3",
          "banker",
          "player-0",
          "player-1",
          "player-2",
          "player-3",
          "banker",
          "player-0",
          "player-1",
          "player-2",
          "player-3",
          "banker",
          "player-0",
          "player-1",
          "player-2",
          "player-3",
          "banker",
          "player-0",
          "player-1",
          "player-2",
          "player-3",
          "banker",
          "player-0",
          "player-1",
          "player-2",
          "player-3",
          "banker",
          "player-0",
          "player-1",
          "player-2",
          "player-3",
          "banker",
          "player-0",
          "player-1",
          "player-2",
          "player-3",
          "banker",
          "player-0",
          "player-1",
          "player-2",
          "player-3",
          "banker",
          "player-0",
          "player-1",
          "player-2",
          "player-3",
          "banker",
          "player-0",
          "player-1",
          "player-2",
          "player-3",
          "banker",
          "player-0",
          "player-1",
          "player-2",
          "player-3",
          "banker",
          "player-0",
          "player-1",
          "player-2",
          "player-3",
          "banker",
          "player-0",
          "player-1",
          "player-2",
          "player-3",
          "banker",
          "player-0",
          "player-1",
          "player-2",
          "player-3",
          "banker",
          "player-0",
          "player-1",
          "player-2",
          "player-3",
          "banker",
          "player-0",
          "player-1",
          "player-2",
          "player-3",
          "banker",
          "player-0",
          "player-1",
          "player-2",
          "player-3",
          "banker",
          "player-0",
          "player-1",
          "player-2",
          "player-3",
          "banker",
          "player-0",
          "player-1",
          "player-2",
          "player-3",
          "banker",
          "player-0",
          "player-1",
          "player-2",
          "player-3",
          "banker",
          "player-0",
          "player-1",
          "player-2",
          "player-3",
          "banker",
          "player-0",
          "player-1",
          "player-2",
          "player-3",
          "banker",
          "player-0",
          "player-1",
          "player-2",
          "player-3",
          "banker",
          "player-0",
          "player-1",
          "player-2",
          "player-3",
          "banker",
          "player-0",
          "player-1",
          "player-2",
          "player-3",
          "banker",
          "player-0",
          "player-1",
          "player-2",
          "player-3",
          "banker",
          "player-0",
          "player-1",
          "player-2",
          "player-3",
          "banker",
          "player-0",
          "player-1",
          "player-2",
          "player-3",
          "banker",
          "player-0",
          "player-1",
          "player-2",
          "player-3",
          "banker",
          "player-0",
          "player-1",
          "player-2",
          "player-3",
          "banker",
          "player-0",
          "player-1",
          "player-2",
          "player-3",
          "banker",
          "player-0",
          "player-1",
          "player-2",
          "player-3",
          "banker",
          "player-0",
          "player-1",
          "player-2",
          "player-3",
          "banker",
          "player-0",
          "player-1",
          "player-2",
          "player-3",
          "banker",
          "player-0",
          "player-1",
          "player-2",
          "player-3",
          "banker",
          "player-0",
          "player-1",
          "player-2",
          "player-3",
          "banker",
          "player-0",
          "player-1",
          "player-2",
          "player-3",
          "banker",
          "player-0",
          "player-1",
          "player-2",
          "player-3",
          "banker",
          "player-0",
          "player-1",
          "player-2",
          "player-3",
          "banker",
          "player-0",
          "player-1",
          "player-2",
          "player-3",
          "banker",
          "player-0",
          "player-1",
          "player-2",
          "player-3",
          "banker",
          "player-0",
          "player-1",
          "player-2",
          "player-3",
          "banker",
          "player-0",
          "player-1",
          "player-2",
          "player-3",
          "banker",
          "player-0",
          "player-1",
          "player-2",
          "player-3",
          "banker",
          "player-0",
          "player-1",
          "player-2",
          "player-3",
          "banker",
          "player-0",
          "player-1",
          "player-2",
          "player-3",
          "banker",
          "player-0",
          "player-1",
          "player-2",
          "player-3",
          "banker",
          "player-0",
          "player-1",
          "player-2",
          "player-3",
          "banker",
          "player-0",
          "player-1",
          "player-2",
          "player-3",
          "banker",
          "player-0",
          "player-1",
          "player-2",
          "player-3",
          "banker",
          "player-0",
          "player-1",
          "player-2",
          "player-3",
          "banker",
          "player-0",
          "player-1",
          "player-2",
          "player-3",
          "banker",
          "player-0",
          "player-1",
          "player-2",
          "player-3",
          "banker",
          "player-0",
          "player-1",
          "player-2",
          "player-3",
          "banker",
          "player-0",
          "player-1",
          "player-2",
          "player-3",
          "banker",
          "player-0",
          "player-1",
          "player-2",
          "player-3",
          "banker",
          "player-0",
          "player-1",
          "player-2",
          "player-3",
          "banker",
          "player-0",
          "player-1",
          "player-2",
          "player-3",
          "banker",
          "player-0",
          "player-1",
          "player-2",
          "player-3",
          "banker",
          "player-0",
          "player-1",
          "player-2",
          "player-3",
          "banker",
          "player-0",
          "player-1",
          "player-2",
          "player-3",
          "banker",
          "player-0",
          "player-1",
          "player-2",
          "player-3",
          "banker",
          "player-0",
          "player-1",
          "player-2",
          "player-3",
          "banker",
          "player-0",
          "player-1",
          "player-2",
          "player-3",
          "banker",
          "player-0",
          "player-1",
          "player-2",
          "player-3",
          "banker",
          "player-0",
          "player-1",
          "player-2",
          "player-3",
          "banker",
          "player-0",
          "player-1",
          "player-2",
          "player-3",
          "banker",
          "player-0",
          "player-1",
          "player-2",
          "player-3",
          "banker",
          "player-0",
          "player-1",
          "player-2",
          "player-3",
          "banker",
          "player-0",
          "player-1",
          "player-2",
          "player-3",
          "banker",
          "player-0",
          "player-1",
          "player-2",
          "player-3",
          "banker",
          "player-0",
          "player-1",
          "player-2",
          "player-3",
          "banker",
          "player-0",
          "player-1",
          "player-2",
          "player-3",
          "banker",
          "player-0",
          "player-1",
          "player-2",
          "player-3",
          "banker",
          "player-0",
          "player-1",
          "player-2",
          "player-3",
          "banker",
          "player-0",
          "player-1",
          "player-2",
          "player-3",
          "banker",
          "player-0",
          "player-1",
          "player-2",
          "player-3",
          "banker",
          "player-0",
          "player-1",
          "player-2",
          "player-3",
          "banker",
          "player-0",
          "player-1",
          "player-2",
          "player-3",
          "banker",
          "player-0",
          "player-1",
          "player-2",
          "player-3",
          "banker",
          "player-0",
          "player-1",
          "player-2",
          "player-3",
          "banker",
          "player-0",
          "player-1",
          "player-2",
          "player-3",
          "banker",
          "player-0",
          "player-1",
          "player-2",
          "player-3",
          "banker",
          "player-0",
          "player-1",
          "player-2",
          "player-3",
          "banker",
          "player-0",
          "player-1",
          "player-2",
          "player-3",
          "banker",
          "player-0",
          "player-1",
          "player-2",
          "player-3",
          "banker",
          "player-0",
          "player-1",
          "player-2",
          "player-3",
          "banker",
          "player-0",
          "player-1",
          "player-2",
          "player-3",
          "banker",
          "player-0",
          "player-1",
          "player-2",
          "player-3",
          "banker",
          "player-0",
          "player-1",
          "player-2",
          "player-3",
          "banker",
          "player-0",
          "player-1",
          "player-2",
          "player-3",
          "banker",
          "player-0",
          "player-1",
          "player-2",
          "player-3",
          "banker",
          "player-0",
          "player-1",
          "player-2",
          "player-3",
          "banker",
          "player-0",
          "player-1",
          "player-2",
          "player-3",
          "banker",
          "player-0",
          "player-1",
          "player-2",
          "player-3",
          "banker",
          "player-0",
          "player-1",
          "player-2",
          "player-3",
          "banker",
          "player-0",
          "player-1",
          "player-2",
          "player-3",
          "banker",
          "player-0",
          "player-1",
          "player-2",
          "player-3",
          "banker",
          "player-0",
          "player-1",
          "player-2",
          "player-3",
          "banker",
          "player-0",
          "player-1",
          "player-2",
          "player-3",
          "banker",
          "player-0",
          "player-1",
          "player-2",
          "player-3",
          "banker",
          "player-0",
          "player-1",
          "player-2",
          "player-3",
          "banker",
          "player-0",
          "player-1",
          "player-2",
          "player-3",
          "banker",
          "player-0",
          "player-1",
          "player-2",
          "player-3",
          "banker",
          "player-0",
          "player-1",
          "player-2",
          "player-3",
          "banker",
          "player-0",
          "player-1",
          "player-2",
          "player-3",
          "banker",
          "player-0",
          "player-1",
          "player-2",
          "player-3",
          "banker",
          "player-0",
          "player-1",
          "player-2",
          "player-3",
          "banker",
          "player-0",
          "player-1",
          "player-2",
          "player-3",
          "banker",
          "player-0",
          "player-1",
          "player-2",
          "player-3",
          "banker",
          "player-0",
          "player-1",
          "player-2",
          "player-3",
          "banker",
          "player-0",
          "player-1",
          "player-2",
          "player-3",
          "banker",
          "player-0",
          "player-1",
          "player-2",
          "player-3",
          "banker",
          "player-0",
          "player-1",
          "player-2",
          "player-3",
          "banker",
          "player-0",
          "player-1",
          "player-2",
          "player-3",
          "banker",
          "player-0",
          "player-1",
          "player-2",
          "player-3",
          "banker",
          "player-0",
          "player-1",
          "player-2",
          "player-3",
          "banker",
          "player-0",
          "player-1",
          "player-2",
          "player-3",
          "banker",
          "player-0",
          "player-1",
          "player-2",
          "player-3",
          "banker",
          "player-0",
          "player-1",
          "player-2",
          "player-3",
          "banker",
          "player-0",
          "player-1",
          "player-2",
          "player-3",
          "banker",
          "player-0",
          "player-1",
          "player-2",
          "player-3",
          "banker",
          "player-0",
          "player-1",
          "player-2",
          "player-3",
          "banker",
          "player-0",
          "player-1",
          "player-2",
          "player-3",
          "banker",
          "player-0",
          "player-1",
          "player-2",
          "player-3",
          "banker",
          "player-0",
          "player-1",
          "player-2",
          "player-3",
          "banker",
          "player-0",
          "player-1",
          "player-2",
          "player-3",
          "banker",
          "player-0",
          "player-1",
          "player-2",
          "player-3",
          "banker",
          "player-0",
          "player-1",
          "player-2",
          "player-3"
         ],
         "x0": " ",
         "xaxis": "x",
         "y": [
          -37,
          -6,
          -4,
          29,
          18,
          -20,
          -2,
          17,
          -1,
          6,
          -2,
          15,
          -1,
          -9,
          -3,
          0,
          -12,
          7,
          -12,
          17,
          -21,
          6,
          8,
          8,
          -1,
          -9,
          6,
          13,
          -3,
          -7,
          -12,
          3,
          5,
          -5,
          9,
          -47,
          8,
          2,
          6,
          31,
          -33,
          11,
          1,
          1,
          20,
          42,
          -9,
          -13,
          0,
          -20,
          12,
          -4,
          2,
          -2,
          -8,
          -29,
          -2,
          17,
          8,
          6,
          -48,
          8,
          12,
          13,
          15,
          50,
          -21,
          -17,
          2,
          -14,
          -24,
          2,
          19,
          5,
          -2,
          80,
          -16,
          -25,
          -16,
          -23,
          -4,
          -2,
          -9,
          16,
          -1,
          -42,
          14,
          12,
          20,
          -4,
          -49,
          18,
          9,
          1,
          21,
          -27,
          6,
          -9,
          17,
          13,
          -8,
          -3,
          -8,
          -4,
          23,
          21,
          -32,
          11,
          -3,
          3,
          -2,
          -1,
          -1,
          -6,
          10,
          4,
          -4,
          -13,
          -1,
          14,
          7,
          -9,
          -1,
          -10,
          13,
          -1,
          -2,
          4,
          -1,
          0,
          -59,
          20,
          -4,
          27,
          16,
          -28,
          14,
          11,
          12,
          -9,
          9,
          3,
          -10,
          2,
          -4,
          -51,
          11,
          2,
          23,
          15,
          29,
          -14,
          1,
          -14,
          -2,
          -105,
          18,
          21,
          56,
          10,
          53,
          -18,
          -20,
          -9,
          -6,
          -48,
          -3,
          28,
          10,
          13,
          -2,
          -3,
          7,
          -12,
          10,
          24,
          -13,
          -10,
          -15,
          14,
          -3,
          1,
          3,
          -1,
          0,
          46,
          -15,
          -5,
          -9,
          -17,
          48,
          2,
          -8,
          -17,
          -25,
          -72,
          22,
          30,
          1,
          19,
          52,
          -22,
          -1,
          -18,
          -11,
          13,
          10,
          4,
          -11,
          -16,
          19,
          -11,
          10,
          -4,
          -14,
          52,
          -4,
          -17,
          -22,
          -9,
          18,
          -28,
          0,
          7,
          3,
          -50,
          10,
          9,
          15,
          16,
          -3,
          -15,
          9,
          5,
          4,
          -30,
          10,
          1,
          17,
          2,
          53,
          -12,
          -1,
          -10,
          -30,
          -47,
          23,
          -2,
          17,
          9,
          29,
          -6,
          -14,
          -14,
          5,
          -86,
          20,
          8,
          25,
          33,
          -32,
          15,
          24,
          -3,
          -4,
          10,
          0,
          -6,
          -12,
          8,
          -69,
          14,
          24,
          19,
          12,
          79,
          -28,
          -12,
          -20,
          -19,
          16,
          1,
          2,
          -11,
          -8,
          15,
          -6,
          9,
          -9,
          -9,
          -62,
          11,
          3,
          28,
          20,
          -21,
          11,
          1,
          1,
          8,
          30,
          -4,
          -5,
          -14,
          -7,
          -1,
          4,
          10,
          -14,
          1,
          11,
          3,
          -8,
          -6,
          0,
          59,
          8,
          -30,
          -13,
          -24,
          56,
          -28,
          -23,
          10,
          -15,
          -76,
          26,
          14,
          23,
          13,
          -37,
          0,
          27,
          -1,
          11,
          -4,
          6,
          -4,
          5,
          -3,
          26,
          -18,
          -19,
          -5,
          16,
          -19,
          0,
          3,
          27,
          -11,
          21,
          -20,
          -5,
          6,
          -2,
          -6,
          14,
          11,
          -7,
          -12,
          -48,
          11,
          -1,
          21,
          17,
          -17,
          -9,
          4,
          14,
          8,
          14,
          -11,
          -10,
          11,
          -4,
          -32,
          5,
          2,
          14,
          11,
          19,
          0,
          0,
          -15,
          -4,
          -9,
          18,
          -2,
          -11,
          4,
          3,
          0,
          -2,
          2,
          -3,
          -22,
          21,
          4,
          -14,
          11,
          -22,
          2,
          23,
          -9,
          6,
          21,
          -8,
          -15,
          3,
          -1,
          4,
          6,
          -9,
          -3,
          2,
          -26,
          5,
          20,
          -2,
          3,
          -13,
          4,
          2,
          -1,
          8,
          2,
          7,
          7,
          -13,
          -3,
          4,
          -5,
          -1,
          2,
          0,
          26,
          0,
          0,
          -13,
          -13,
          -57,
          3,
          22,
          23,
          9,
          71,
          -11,
          -11,
          -23,
          -26,
          -5,
          10,
          -13,
          8,
          0,
          95,
          -19,
          -12,
          -34,
          -30,
          -56,
          -3,
          10,
          24,
          25,
          4,
          13,
          -18,
          10,
          -9,
          10,
          6,
          -7,
          -2,
          -7,
          26,
          -2,
          -2,
          -19,
          -3,
          -2,
          -8,
          23,
          -16,
          3,
          -27,
          6,
          14,
          1,
          6,
          -11,
          2,
          -9,
          6,
          12,
          -75,
          16,
          30,
          24,
          5,
          59,
          -18,
          -19,
          -12,
          -10,
          72,
          -16,
          -22,
          -32,
          -2,
          32,
          -20,
          3,
          -18,
          3,
          -34,
          6,
          11,
          12,
          5,
          -15,
          5,
          -7,
          21,
          -4,
          102,
          -23,
          -36,
          -37,
          -6,
          -40,
          9,
          8,
          34,
          -11,
          65,
          -25,
          -16,
          -9,
          -15,
          9,
          0,
          -10,
          -9,
          10,
          70,
          -28,
          -16,
          -19,
          -7,
          -24,
          11,
          -3,
          -3,
          19,
          73,
          -8,
          -11,
          -25,
          -29,
          -1,
          -13,
          14,
          11,
          -11,
          15,
          -7,
          -9,
          6,
          -5,
          -8,
          -1,
          3,
          8,
          -2,
          24,
          -19,
          -8,
          9,
          -6,
          68,
          -18,
          7,
          -30,
          -27,
          9,
          -4,
          -13,
          1,
          7,
          6,
          -19,
          1,
          -6,
          18,
          63,
          -33,
          -22,
          -10,
          2,
          5,
          -9,
          -5,
          9,
          0,
          47,
          -3,
          -28,
          1,
          -17,
          -37,
          11,
          18,
          8,
          0,
          24,
          -8,
          -3,
          -6,
          -7,
          14,
          -6,
          -11,
          -5,
          8,
          0,
          8,
          -3,
          -14,
          9,
          8,
          -8,
          10,
          -9,
          -1,
          -8,
          5,
          5,
          -4,
          2,
          64,
          -17,
          -12,
          -15,
          -20,
          86,
          -23,
          -23,
          -15,
          -25,
          -27,
          8,
          -7,
          24,
          2,
          -21,
          8,
          5,
          -2,
          10,
          33,
          0,
          -10,
          -16,
          -7,
          31,
          -15,
          7,
          -11,
          -12,
          12,
          -2,
          0,
          1,
          -11,
          -42,
          8,
          19,
          4,
          11,
          -63,
          19,
          25,
          5,
          14,
          -63,
          34,
          4,
          13,
          12,
          -63,
          22,
          4,
          5,
          32,
          -48,
          11,
          18,
          -2,
          21,
          29,
          -13,
          -8,
          -2,
          -6,
          -23,
          5,
          -8,
          23,
          3,
          2,
          4,
          -10,
          -1,
          5,
          27,
          -22,
          3,
          3,
          -11,
          -42,
          -2,
          18,
          20,
          6,
          -75,
          13,
          22,
          14,
          26,
          131,
          -22,
          -43,
          -30,
          -36,
          -76,
          22,
          19,
          18,
          17,
          -12,
          -5,
          17,
          0,
          0,
          63,
          -23,
          -18,
          2,
          -24,
          -68,
          23,
          34,
          -4,
          15,
          -33,
          12,
          7,
          17,
          -3,
          -63,
          10,
          13,
          18,
          22,
          -71,
          18,
          19,
          17,
          17,
          -23,
          -3,
          0,
          15,
          11,
          -12,
          11,
          -5,
          7,
          -1,
          -4,
          2,
          -9,
          9,
          2,
          105,
          -20,
          -40,
          -33,
          -12,
          18,
          -9,
          -6,
          6,
          -9,
          31,
          -13,
          -4,
          -1,
          -13,
          -32,
          20,
          0,
          12,
          0,
          26,
          -9,
          -7,
          -2,
          -8,
          -2,
          -8,
          12,
          8,
          -10,
          3,
          8,
          -7,
          10,
          -14,
          -8,
          6,
          10,
          -6,
          -2,
          -30,
          12,
          10,
          -7,
          15,
          -3,
          2,
          -3,
          5,
          -1,
          -80,
          44,
          18,
          14,
          4,
          -29,
          9,
          1,
          4,
          15,
          7,
          3,
          8,
          -20,
          2,
          46,
          -10,
          -13,
          -8,
          -15,
          12,
          -2,
          -19,
          0,
          9,
          64,
          -10,
          -25,
          -18,
          -11,
          -44,
          28,
          3,
          -4,
          17,
          -59,
          12,
          17,
          13,
          17,
          -38,
          0,
          12,
          5,
          21,
          1,
          10,
          -7,
          -13,
          9,
          30,
          -5,
          12,
          -14,
          -23,
          19,
          0,
          1,
          -8,
          -12,
          -29,
          -11,
          15,
          10,
          15,
          -51,
          -2,
          17,
          24,
          12,
          -40,
          16,
          3,
          7,
          14,
          32,
          1,
          -3,
          -11,
          -19,
          -31,
          -7,
          -3,
          21,
          20,
          -11,
          24,
          -5,
          3,
          -11,
          20,
          3,
          7,
          -24,
          -6,
          49,
          7,
          -6,
          -25,
          -25,
          -54,
          9,
          6,
          6,
          33,
          71,
          -9,
          -36,
          -10,
          -16,
          -50,
          7,
          8,
          14,
          21,
          9,
          -7,
          2,
          -13,
          9,
          -33,
          14,
          9,
          10,
          0,
          -22,
          14,
          1,
          11,
          -4,
          -24,
          0,
          3,
          17,
          4,
          43,
          -11,
          -8,
          -17,
          -7,
          29,
          -19,
          2,
          -5,
          -7,
          32,
          -7,
          -21,
          -14,
          10,
          37,
          2,
          -14,
          -11,
          -14,
          57,
          -18,
          -18,
          -6,
          -15,
          -44,
          38,
          18,
          -17,
          5,
          -28,
          2,
          19,
          4,
          3,
          -25,
          7,
          5,
          7,
          6,
          77,
          -25,
          -27,
          -25,
          0,
          92,
          -38,
          -12,
          -20,
          -22,
          -36,
          5,
          6,
          1,
          24,
          -106,
          39,
          23,
          31,
          13,
          1,
          -11,
          8,
          -10,
          12,
          22,
          -16,
          -6,
          -13,
          13,
          -106,
          7,
          26,
          25,
          48,
          -28,
          5,
          1,
          12,
          10,
          103,
          -24,
          -23,
          -28,
          -28,
          -29,
          4,
          10,
          4,
          11,
          -75,
          24,
          11,
          21,
          19,
          40,
          -9,
          -7,
          -13,
          -11,
          8,
          4,
          16,
          -2,
          -26,
          -20,
          6,
          -1,
          12,
          3,
          6,
          -10,
          -11,
          10,
          5,
          -9,
          15,
          3,
          -5,
          -4,
          -36,
          8,
          -12,
          26,
          14,
          41,
          -15,
          -25,
          -2,
          1,
          82,
          -24,
          -10,
          -21,
          -27,
          44,
          -7,
          -11,
          -26,
          0,
          -18,
          23,
          -1,
          -10,
          6,
          59,
          -17,
          -30,
          0,
          -12,
          -11,
          -8,
          22,
          6,
          -9,
          30,
          -9,
          -15,
          -4,
          -2,
          19,
          2,
          -1,
          0,
          -20,
          14,
          0,
          -6,
          -2,
          -6,
          -22,
          1,
          -19,
          21,
          19,
          37,
          -10,
          -6,
          -11,
          -10,
          45,
          -13,
          0,
          -10,
          -22,
          58,
          -26,
          -18,
          6,
          -20,
          -19,
          22,
          -12,
          24,
          -15,
          10,
          -4,
          5,
          4,
          -15,
          69,
          -9,
          -20,
          -30,
          -10,
          9,
          3,
          -16,
          -2,
          6,
          64,
          -17,
          -10,
          -13,
          -24,
          19,
          -16,
          7,
          4,
          -14,
          -16,
          7,
          4,
          1,
          4,
          66,
          -12,
          -20,
          -11,
          -23,
          17,
          -10,
          -1,
          -3,
          -3,
          -5,
          -14,
          22,
          -2,
          -1,
          22,
          10,
          0,
          -21,
          -11,
          -56,
          15,
          4,
          6,
          31,
          -34,
          -3,
          9,
          9,
          19,
          3,
          10,
          1,
          -3,
          -11,
          -29,
          3,
          7,
          8,
          11,
          55,
          -22,
          -20,
          1,
          -14,
          39,
          -16,
          -15,
          7,
          -15,
          34,
          -5,
          -17,
          -1,
          -11,
          -10,
          -5,
          -6,
          14,
          7,
          111,
          -17,
          -26,
          -36,
          -32,
          11,
          -9,
          -2,
          2,
          -2,
          -11,
          -6,
          8,
          16,
          -7,
          51,
          -20,
          -18,
          -1,
          -12,
          22,
          -18,
          -11,
          -11,
          18,
          -64,
          30,
          16,
          10,
          8,
          -5,
          -3,
          13,
          -7,
          2,
          -10,
          2,
          -7,
          8,
          7,
          6,
          -10,
          -18,
          17,
          5,
          34,
          2,
          -13,
          -12,
          -11,
          -15,
          4,
          -9,
          2,
          18,
          -32,
          26,
          11,
          -9,
          4,
          -12,
          -9,
          5,
          8,
          8,
          -66,
          32,
          12,
          17,
          5,
          -65,
          6,
          22,
          27,
          10,
          79,
          -2,
          -39,
          -29,
          -9,
          -17,
          -2,
          7,
          -8,
          20,
          -40,
          15,
          5,
          13,
          7,
          -40,
          16,
          -2,
          17,
          9,
          43,
          -12,
          -9,
          -2,
          -20,
          -54,
          19,
          11,
          32,
          -8,
          -19,
          24,
          -22,
          2,
          15,
          -35,
          24,
          9,
          0,
          2,
          13,
          -11,
          -17,
          3,
          12,
          15,
          4,
          1,
          -6,
          -14,
          63,
          -14,
          -7,
          -24,
          -18,
          -37,
          7,
          14,
          8,
          8,
          0,
          -9,
          3,
          4,
          2,
          -78,
          16,
          11,
          35,
          16,
          8,
          2,
          -6,
          4,
          -8,
          -2,
          4,
          -7,
          0,
          5,
          6,
          -10,
          6,
          -17,
          15,
          -58,
          14,
          15,
          2,
          27,
          7,
          -8,
          -2,
          2,
          1,
          -44,
          3,
          2,
          33,
          6,
          45,
          -6,
          -17,
          5,
          -27,
          -43,
          25,
          2,
          4,
          12,
          41,
          -12,
          7,
          -16,
          -20,
          -17,
          15,
          -4,
          3,
          3,
          70,
          -11,
          -43,
          5,
          -21,
          -50,
          1,
          20,
          14,
          15,
          27,
          0,
          -17,
          -7,
          -3,
          -82,
          17,
          45,
          11,
          9,
          34,
          -2,
          -19,
          -8,
          -5,
          16,
          4,
          -6,
          0,
          -14,
          38,
          -12,
          4,
          -20,
          -10,
          25,
          -8,
          -9,
          -8,
          0,
          -78,
          21,
          22,
          31,
          4,
          2,
          17,
          -6,
          -3,
          -10,
          -31,
          11,
          13,
          3,
          4,
          32,
          -9,
          -14,
          -13,
          4,
          -6,
          -12,
          -6,
          8,
          16,
          113,
          -27,
          -43,
          0,
          -43,
          41,
          -14,
          4,
          -22,
          -9,
          -34,
          15,
          4,
          13,
          2,
          -14,
          -2,
          -8,
          7,
          17,
          129,
          -17,
          -37,
          -42,
          -33,
          -27,
          7,
          16,
          -7,
          11,
          -4,
          2,
          11,
          2,
          -11,
          7,
          7,
          -9,
          -3,
          -2,
          57,
          -3,
          -14,
          -22,
          -18,
          -17,
          17,
          -5,
          14,
          -9,
          -43,
          35,
          -12,
          9,
          11,
          -27,
          9,
          2,
          2,
          14,
          26,
          -24,
          4,
          -2,
          -4,
          -3,
          -5,
          14,
          11,
          -17,
          -21,
          5,
          15,
          -11,
          12,
          31,
          -13,
          5,
          -6,
          -17,
          -53,
          8,
          8,
          4,
          33,
          11,
          -8,
          -6,
          0,
          3,
          42,
          -16,
          -5,
          -9,
          -12,
          -57,
          18,
          12,
          27,
          0,
          51,
          -6,
          -19,
          -21,
          -5,
          17,
          -7,
          -9,
          4,
          -5,
          -31,
          3,
          19,
          6,
          3,
          63,
          -23,
          -11,
          -14,
          -15,
          92,
          -24,
          -29,
          -2,
          -37,
          -33,
          5,
          7,
          10,
          11,
          -23,
          16,
          12,
          -7,
          2,
          -2,
          5,
          3,
          5,
          -11,
          22,
          -11,
          -13,
          10,
          -8,
          43,
          -17,
          -4,
          -13,
          -9,
          -76,
          33,
          17,
          3,
          23,
          37,
          -19,
          -6,
          -5,
          -7,
          -11,
          0,
          1,
          15,
          -5,
          -67,
          6,
          24,
          11,
          26,
          23,
          -12,
          -3,
          4,
          -12,
          2,
          2,
          4,
          -5,
          -3,
          -15,
          -21,
          3,
          21,
          12,
          -22,
          6,
          8,
          0,
          8,
          0,
          8,
          3,
          -9,
          -2,
          -76,
          36,
          16,
          20,
          4,
          68,
          -9,
          -15,
          -28,
          -16,
          25,
          -12,
          -8,
          6,
          -11,
          -71,
          9,
          15,
          40,
          7,
          -31,
          -1,
          -2,
          16,
          18,
          124,
          -35,
          -25,
          -38,
          -26,
          62,
          -13,
          -16,
          -11,
          -22,
          101,
          -26,
          -25,
          -24,
          -26,
          86,
          -20,
          -17,
          -22,
          -27,
          12,
          0,
          4,
          -2,
          -14,
          -53,
          17,
          9,
          28,
          -1,
          19,
          -8,
          15,
          -18,
          -8,
          -46,
          21,
          6,
          11,
          8,
          -27,
          -19,
          17,
          15,
          14,
          -38,
          2,
          3,
          19,
          14,
          -75,
          29,
          -2,
          31,
          17,
          39,
          11,
          -13,
          -21,
          -16,
          -19,
          11,
          10,
          5,
          -7,
          4,
          1,
          5,
          -1,
          -9,
          16,
          -8,
          -4,
          4,
          -8,
          58,
          -19,
          3,
          -20,
          -22,
          -33,
          6,
          9,
          1,
          17,
          28,
          -9,
          4,
          -4,
          -19,
          -25,
          8,
          12,
          3,
          2,
          40,
          -11,
          -17,
          -14,
          2,
          12,
          -10,
          6,
          11,
          -19,
          -70,
          32,
          3,
          21,
          14,
          -18,
          1,
          0,
          6,
          11,
          -77,
          7,
          11,
          12,
          47,
          35,
          -8,
          -15,
          -4,
          -8,
          15,
          12,
          -5,
          -8,
          -14,
          53,
          -15,
          -8,
          -22,
          -8,
          -11,
          -14,
          9,
          10,
          6,
          99,
          -20,
          -15,
          -31,
          -33,
          -44,
          29,
          -1,
          8,
          8,
          90,
          -32,
          -33,
          -23,
          -2,
          85,
          -27,
          -21,
          -9,
          -28,
          -3,
          9,
          -11,
          -5,
          10,
          35,
          -6,
          -4,
          -14,
          -11,
          -32,
          5,
          19,
          1,
          7,
          -63,
          12,
          32,
          -2,
          21,
          16,
          3,
          2,
          -16,
          -5,
          -2,
          18,
          -6,
          -7,
          -3,
          -33,
          8,
          -11,
          17,
          19,
          66,
          -11,
          -28,
          -11,
          -16,
          -29,
          19,
          11,
          -1,
          0,
          -10,
          -12,
          6,
          15,
          1,
          90,
          -37,
          -19,
          -10,
          -24,
          -38,
          2,
          16,
          11,
          9,
          50,
          -9,
          -21,
          -6,
          -14,
          1,
          13,
          7,
          -11,
          -10,
          -115,
          31,
          35,
          19,
          30,
          -33,
          2,
          14,
          19,
          -2,
          74,
          -17,
          -13,
          -23,
          -21,
          -30,
          25,
          -7,
          4,
          8,
          -25,
          -5,
          22,
          18,
          -10,
          -29,
          15,
          10,
          9,
          -5,
          -8,
          -15,
          19,
          7,
          -3,
          50,
          -11,
          7,
          -26,
          -20,
          23,
          -15,
          -6,
          4,
          -6,
          39,
          -14,
          -1,
          -7,
          -17,
          -3,
          7,
          -5,
          -18,
          19,
          -80,
          7,
          14,
          23,
          36,
          0,
          -1,
          -2,
          9,
          -6,
          17,
          0,
          -5,
          0,
          -12,
          -10,
          -6,
          8,
          20,
          -12,
          2,
          17,
          0,
          -6,
          -13,
          -12,
          0,
          -4,
          14,
          2,
          -22,
          12,
          22,
          -4,
          -8,
          4,
          5,
          15,
          -14,
          -10,
          4,
          -8,
          -4,
          3,
          5,
          124,
          -26,
          -26,
          -32,
          -40,
          64,
          -32,
          -24,
          -24,
          16,
          -51,
          42,
          9,
          4,
          -4,
          17,
          0,
          -1,
          -5,
          -11,
          28,
          -4,
          -17,
          -14,
          7,
          75,
          -12,
          -18,
          -35,
          -10,
          117,
          -40,
          -31,
          -21,
          -25,
          74,
          -16,
          -12,
          -21,
          -25,
          -6,
          4,
          14,
          -4,
          -8,
          10,
          -11,
          6,
          4,
          -9,
          29,
          -12,
          -10,
          0,
          -7,
          23,
          -13,
          11,
          0,
          -21,
          -20,
          17,
          18,
          -12,
          -3,
          -14,
          -8,
          12,
          4,
          6,
          -60,
          15,
          14,
          18,
          13,
          73,
          2,
          -33,
          -12,
          -30,
          59,
          -1,
          -38,
          -13,
          -7,
          39,
          -7,
          -14,
          -4,
          -14,
          -33,
          13,
          1,
          13,
          6,
          -27,
          -20,
          -1,
          17,
          31,
          46,
          -3,
          -18,
          -21,
          -4,
          24,
          9,
          4,
          -17,
          -20,
          50,
          11,
          -11,
          -27,
          -23,
          -9,
          20,
          -8,
          -10,
          7,
          27,
          -28,
          -1,
          10,
          -8,
          0,
          -1,
          14,
          -10,
          -3,
          -17,
          13,
          -11,
          13,
          2,
          -30,
          8,
          6,
          3,
          13,
          -37,
          13,
          9,
          8,
          7,
          -83,
          20,
          9,
          26,
          28,
          59,
          -18,
          -7,
          -23,
          -11,
          160,
          -53,
          -55,
          -21,
          -31,
          29,
          5,
          -15,
          -14,
          -5,
          -56,
          41,
          12,
          1,
          2,
          -44,
          8,
          35,
          0,
          1,
          -64,
          0,
          10,
          36,
          18,
          10,
          -9,
          -3,
          -7,
          9,
          66,
          -27,
          -14,
          -13,
          -12,
          66,
          -26,
          -16,
          -6,
          -18,
          -89,
          28,
          21,
          18,
          22,
          -14,
          2,
          12,
          0,
          0,
          77,
          -13,
          -20,
          -30,
          -14,
          -7,
          -4,
          0,
          12,
          -1,
          17,
          -10,
          -2,
          1,
          -6,
          -9,
          18,
          -4,
          0,
          -5,
          -25,
          2,
          12,
          11,
          0,
          34,
          -10,
          8,
          -10,
          -22,
          10,
          -8,
          -10,
          5,
          3,
          11,
          0,
          -5,
          1,
          -7,
          32,
          -3,
          -7,
          -14,
          -8,
          65,
          -14,
          -19,
          -12,
          -20,
          -9,
          7,
          13,
          -19,
          8,
          -3,
          19,
          -10,
          9,
          -15,
          -9,
          -7,
          5,
          8,
          3,
          63,
          -10,
          0,
          -28,
          -25,
          110,
          -34,
          -22,
          -28,
          -26,
          -93,
          31,
          31,
          2,
          29,
          -58,
          7,
          28,
          7,
          16,
          65,
          -26,
          -13,
          -7,
          -19,
          5,
          -11,
          -8,
          -3,
          17,
          27,
          -15,
          -3,
          -2,
          -7,
          -32,
          18,
          6,
          12,
          -4,
          22,
          5,
          -15,
          -5,
          -7,
          4,
          -11,
          4,
          -3,
          6,
          55,
          -26,
          -13,
          -21,
          5,
          -56,
          1,
          18,
          9,
          28,
          24,
          -10,
          2,
          -16,
          0,
          -39,
          0,
          14,
          19,
          6,
          -10,
          1,
          -4,
          6,
          7,
          23,
          8,
          8,
          -21,
          -18,
          35,
          -5,
          -16,
          -13,
          -1,
          -39,
          19,
          1,
          3,
          16,
          -73,
          31,
          6,
          16,
          20,
          -60,
          24,
          7,
          13,
          16,
          -32,
          13,
          -4,
          24,
          -1,
          1,
          -3,
          1,
          7,
          -6,
          27,
          -13,
          -7,
          -13,
          6,
          15,
          -2,
          7,
          -16,
          -4,
          -4,
          5,
          -3,
          7,
          -5,
          -21,
          -1,
          -3,
          6,
          19,
          10,
          -8,
          -6,
          -15,
          19,
          62,
          -11,
          -14,
          -21,
          -16,
          3,
          32,
          -10,
          -14,
          -11,
          -8,
          -1,
          4,
          10,
          -5,
          -48,
          46,
          12,
          -6,
          -4,
          16,
          -16,
          8,
          4,
          -12,
          -100,
          48,
          4,
          32,
          16
         ],
         "y0": " ",
         "yaxis": "y"
        }
       ],
       "layout": {
        "legend": {
         "tracegroupgap": 0
        },
        "margin": {
         "t": 60
        },
        "template": {
         "data": {
          "bar": [
           {
            "error_x": {
             "color": "#2a3f5f"
            },
            "error_y": {
             "color": "#2a3f5f"
            },
            "marker": {
             "line": {
              "color": "#E5ECF6",
              "width": 0.5
             }
            },
            "type": "bar"
           }
          ],
          "barpolar": [
           {
            "marker": {
             "line": {
              "color": "#E5ECF6",
              "width": 0.5
             }
            },
            "type": "barpolar"
           }
          ],
          "carpet": [
           {
            "aaxis": {
             "endlinecolor": "#2a3f5f",
             "gridcolor": "white",
             "linecolor": "white",
             "minorgridcolor": "white",
             "startlinecolor": "#2a3f5f"
            },
            "baxis": {
             "endlinecolor": "#2a3f5f",
             "gridcolor": "white",
             "linecolor": "white",
             "minorgridcolor": "white",
             "startlinecolor": "#2a3f5f"
            },
            "type": "carpet"
           }
          ],
          "choropleth": [
           {
            "colorbar": {
             "outlinewidth": 0,
             "ticks": ""
            },
            "type": "choropleth"
           }
          ],
          "contour": [
           {
            "colorbar": {
             "outlinewidth": 0,
             "ticks": ""
            },
            "colorscale": [
             [
              0,
              "#0d0887"
             ],
             [
              0.1111111111111111,
              "#46039f"
             ],
             [
              0.2222222222222222,
              "#7201a8"
             ],
             [
              0.3333333333333333,
              "#9c179e"
             ],
             [
              0.4444444444444444,
              "#bd3786"
             ],
             [
              0.5555555555555556,
              "#d8576b"
             ],
             [
              0.6666666666666666,
              "#ed7953"
             ],
             [
              0.7777777777777778,
              "#fb9f3a"
             ],
             [
              0.8888888888888888,
              "#fdca26"
             ],
             [
              1,
              "#f0f921"
             ]
            ],
            "type": "contour"
           }
          ],
          "contourcarpet": [
           {
            "colorbar": {
             "outlinewidth": 0,
             "ticks": ""
            },
            "type": "contourcarpet"
           }
          ],
          "heatmap": [
           {
            "colorbar": {
             "outlinewidth": 0,
             "ticks": ""
            },
            "colorscale": [
             [
              0,
              "#0d0887"
             ],
             [
              0.1111111111111111,
              "#46039f"
             ],
             [
              0.2222222222222222,
              "#7201a8"
             ],
             [
              0.3333333333333333,
              "#9c179e"
             ],
             [
              0.4444444444444444,
              "#bd3786"
             ],
             [
              0.5555555555555556,
              "#d8576b"
             ],
             [
              0.6666666666666666,
              "#ed7953"
             ],
             [
              0.7777777777777778,
              "#fb9f3a"
             ],
             [
              0.8888888888888888,
              "#fdca26"
             ],
             [
              1,
              "#f0f921"
             ]
            ],
            "type": "heatmap"
           }
          ],
          "heatmapgl": [
           {
            "colorbar": {
             "outlinewidth": 0,
             "ticks": ""
            },
            "colorscale": [
             [
              0,
              "#0d0887"
             ],
             [
              0.1111111111111111,
              "#46039f"
             ],
             [
              0.2222222222222222,
              "#7201a8"
             ],
             [
              0.3333333333333333,
              "#9c179e"
             ],
             [
              0.4444444444444444,
              "#bd3786"
             ],
             [
              0.5555555555555556,
              "#d8576b"
             ],
             [
              0.6666666666666666,
              "#ed7953"
             ],
             [
              0.7777777777777778,
              "#fb9f3a"
             ],
             [
              0.8888888888888888,
              "#fdca26"
             ],
             [
              1,
              "#f0f921"
             ]
            ],
            "type": "heatmapgl"
           }
          ],
          "histogram": [
           {
            "marker": {
             "colorbar": {
              "outlinewidth": 0,
              "ticks": ""
             }
            },
            "type": "histogram"
           }
          ],
          "histogram2d": [
           {
            "colorbar": {
             "outlinewidth": 0,
             "ticks": ""
            },
            "colorscale": [
             [
              0,
              "#0d0887"
             ],
             [
              0.1111111111111111,
              "#46039f"
             ],
             [
              0.2222222222222222,
              "#7201a8"
             ],
             [
              0.3333333333333333,
              "#9c179e"
             ],
             [
              0.4444444444444444,
              "#bd3786"
             ],
             [
              0.5555555555555556,
              "#d8576b"
             ],
             [
              0.6666666666666666,
              "#ed7953"
             ],
             [
              0.7777777777777778,
              "#fb9f3a"
             ],
             [
              0.8888888888888888,
              "#fdca26"
             ],
             [
              1,
              "#f0f921"
             ]
            ],
            "type": "histogram2d"
           }
          ],
          "histogram2dcontour": [
           {
            "colorbar": {
             "outlinewidth": 0,
             "ticks": ""
            },
            "colorscale": [
             [
              0,
              "#0d0887"
             ],
             [
              0.1111111111111111,
              "#46039f"
             ],
             [
              0.2222222222222222,
              "#7201a8"
             ],
             [
              0.3333333333333333,
              "#9c179e"
             ],
             [
              0.4444444444444444,
              "#bd3786"
             ],
             [
              0.5555555555555556,
              "#d8576b"
             ],
             [
              0.6666666666666666,
              "#ed7953"
             ],
             [
              0.7777777777777778,
              "#fb9f3a"
             ],
             [
              0.8888888888888888,
              "#fdca26"
             ],
             [
              1,
              "#f0f921"
             ]
            ],
            "type": "histogram2dcontour"
           }
          ],
          "mesh3d": [
           {
            "colorbar": {
             "outlinewidth": 0,
             "ticks": ""
            },
            "type": "mesh3d"
           }
          ],
          "parcoords": [
           {
            "line": {
             "colorbar": {
              "outlinewidth": 0,
              "ticks": ""
             }
            },
            "type": "parcoords"
           }
          ],
          "pie": [
           {
            "automargin": true,
            "type": "pie"
           }
          ],
          "scatter": [
           {
            "marker": {
             "colorbar": {
              "outlinewidth": 0,
              "ticks": ""
             }
            },
            "type": "scatter"
           }
          ],
          "scatter3d": [
           {
            "line": {
             "colorbar": {
              "outlinewidth": 0,
              "ticks": ""
             }
            },
            "marker": {
             "colorbar": {
              "outlinewidth": 0,
              "ticks": ""
             }
            },
            "type": "scatter3d"
           }
          ],
          "scattercarpet": [
           {
            "marker": {
             "colorbar": {
              "outlinewidth": 0,
              "ticks": ""
             }
            },
            "type": "scattercarpet"
           }
          ],
          "scattergeo": [
           {
            "marker": {
             "colorbar": {
              "outlinewidth": 0,
              "ticks": ""
             }
            },
            "type": "scattergeo"
           }
          ],
          "scattergl": [
           {
            "marker": {
             "colorbar": {
              "outlinewidth": 0,
              "ticks": ""
             }
            },
            "type": "scattergl"
           }
          ],
          "scattermapbox": [
           {
            "marker": {
             "colorbar": {
              "outlinewidth": 0,
              "ticks": ""
             }
            },
            "type": "scattermapbox"
           }
          ],
          "scatterpolar": [
           {
            "marker": {
             "colorbar": {
              "outlinewidth": 0,
              "ticks": ""
             }
            },
            "type": "scatterpolar"
           }
          ],
          "scatterpolargl": [
           {
            "marker": {
             "colorbar": {
              "outlinewidth": 0,
              "ticks": ""
             }
            },
            "type": "scatterpolargl"
           }
          ],
          "scatterternary": [
           {
            "marker": {
             "colorbar": {
              "outlinewidth": 0,
              "ticks": ""
             }
            },
            "type": "scatterternary"
           }
          ],
          "surface": [
           {
            "colorbar": {
             "outlinewidth": 0,
             "ticks": ""
            },
            "colorscale": [
             [
              0,
              "#0d0887"
             ],
             [
              0.1111111111111111,
              "#46039f"
             ],
             [
              0.2222222222222222,
              "#7201a8"
             ],
             [
              0.3333333333333333,
              "#9c179e"
             ],
             [
              0.4444444444444444,
              "#bd3786"
             ],
             [
              0.5555555555555556,
              "#d8576b"
             ],
             [
              0.6666666666666666,
              "#ed7953"
             ],
             [
              0.7777777777777778,
              "#fb9f3a"
             ],
             [
              0.8888888888888888,
              "#fdca26"
             ],
             [
              1,
              "#f0f921"
             ]
            ],
            "type": "surface"
           }
          ],
          "table": [
           {
            "cells": {
             "fill": {
              "color": "#EBF0F8"
             },
             "line": {
              "color": "white"
             }
            },
            "header": {
             "fill": {
              "color": "#C8D4E3"
             },
             "line": {
              "color": "white"
             }
            },
            "type": "table"
           }
          ]
         },
         "layout": {
          "annotationdefaults": {
           "arrowcolor": "#2a3f5f",
           "arrowhead": 0,
           "arrowwidth": 1
          },
          "coloraxis": {
           "colorbar": {
            "outlinewidth": 0,
            "ticks": ""
           }
          },
          "colorscale": {
           "diverging": [
            [
             0,
             "#8e0152"
            ],
            [
             0.1,
             "#c51b7d"
            ],
            [
             0.2,
             "#de77ae"
            ],
            [
             0.3,
             "#f1b6da"
            ],
            [
             0.4,
             "#fde0ef"
            ],
            [
             0.5,
             "#f7f7f7"
            ],
            [
             0.6,
             "#e6f5d0"
            ],
            [
             0.7,
             "#b8e186"
            ],
            [
             0.8,
             "#7fbc41"
            ],
            [
             0.9,
             "#4d9221"
            ],
            [
             1,
             "#276419"
            ]
           ],
           "sequential": [
            [
             0,
             "#0d0887"
            ],
            [
             0.1111111111111111,
             "#46039f"
            ],
            [
             0.2222222222222222,
             "#7201a8"
            ],
            [
             0.3333333333333333,
             "#9c179e"
            ],
            [
             0.4444444444444444,
             "#bd3786"
            ],
            [
             0.5555555555555556,
             "#d8576b"
            ],
            [
             0.6666666666666666,
             "#ed7953"
            ],
            [
             0.7777777777777778,
             "#fb9f3a"
            ],
            [
             0.8888888888888888,
             "#fdca26"
            ],
            [
             1,
             "#f0f921"
            ]
           ],
           "sequentialminus": [
            [
             0,
             "#0d0887"
            ],
            [
             0.1111111111111111,
             "#46039f"
            ],
            [
             0.2222222222222222,
             "#7201a8"
            ],
            [
             0.3333333333333333,
             "#9c179e"
            ],
            [
             0.4444444444444444,
             "#bd3786"
            ],
            [
             0.5555555555555556,
             "#d8576b"
            ],
            [
             0.6666666666666666,
             "#ed7953"
            ],
            [
             0.7777777777777778,
             "#fb9f3a"
            ],
            [
             0.8888888888888888,
             "#fdca26"
            ],
            [
             1,
             "#f0f921"
            ]
           ]
          },
          "colorway": [
           "#636efa",
           "#EF553B",
           "#00cc96",
           "#ab63fa",
           "#FFA15A",
           "#19d3f3",
           "#FF6692",
           "#B6E880",
           "#FF97FF",
           "#FECB52"
          ],
          "font": {
           "color": "#2a3f5f"
          },
          "geo": {
           "bgcolor": "white",
           "lakecolor": "white",
           "landcolor": "#E5ECF6",
           "showlakes": true,
           "showland": true,
           "subunitcolor": "white"
          },
          "hoverlabel": {
           "align": "left"
          },
          "hovermode": "closest",
          "mapbox": {
           "style": "light"
          },
          "paper_bgcolor": "white",
          "plot_bgcolor": "#E5ECF6",
          "polar": {
           "angularaxis": {
            "gridcolor": "white",
            "linecolor": "white",
            "ticks": ""
           },
           "bgcolor": "#E5ECF6",
           "radialaxis": {
            "gridcolor": "white",
            "linecolor": "white",
            "ticks": ""
           }
          },
          "scene": {
           "xaxis": {
            "backgroundcolor": "#E5ECF6",
            "gridcolor": "white",
            "gridwidth": 2,
            "linecolor": "white",
            "showbackground": true,
            "ticks": "",
            "zerolinecolor": "white"
           },
           "yaxis": {
            "backgroundcolor": "#E5ECF6",
            "gridcolor": "white",
            "gridwidth": 2,
            "linecolor": "white",
            "showbackground": true,
            "ticks": "",
            "zerolinecolor": "white"
           },
           "zaxis": {
            "backgroundcolor": "#E5ECF6",
            "gridcolor": "white",
            "gridwidth": 2,
            "linecolor": "white",
            "showbackground": true,
            "ticks": "",
            "zerolinecolor": "white"
           }
          },
          "shapedefaults": {
           "line": {
            "color": "#2a3f5f"
           }
          },
          "ternary": {
           "aaxis": {
            "gridcolor": "white",
            "linecolor": "white",
            "ticks": ""
           },
           "baxis": {
            "gridcolor": "white",
            "linecolor": "white",
            "ticks": ""
           },
           "bgcolor": "#E5ECF6",
           "caxis": {
            "gridcolor": "white",
            "linecolor": "white",
            "ticks": ""
           }
          },
          "title": {
           "x": 0.05
          },
          "xaxis": {
           "automargin": true,
           "gridcolor": "white",
           "linecolor": "white",
           "ticks": "",
           "title": {
            "standoff": 15
           },
           "zerolinecolor": "white",
           "zerolinewidth": 2
          },
          "yaxis": {
           "automargin": true,
           "gridcolor": "white",
           "linecolor": "white",
           "ticks": "",
           "title": {
            "standoff": 15
           },
           "zerolinecolor": "white",
           "zerolinewidth": 2
          }
         }
        },
        "violinmode": "group",
        "xaxis": {
         "anchor": "y",
         "domain": [
          0,
          1
         ],
         "title": {
          "text": "player"
         }
        },
        "yaxis": {
         "anchor": "x",
         "domain": [
          0,
          1
         ],
         "title": {
          "text": "pnl"
         }
        }
       }
      }
     },
     "metadata": {}
    }
   ],
   "source": [
    "import plotly.express as px\n",
    "\n",
    "# fig = px.violin(df, y='banker', points='all')\n",
    "fig = px.violin(df, x='player', y='pnl', points='all')\n",
    "fig.show()"
   ]
  },
  {
   "cell_type": "code",
   "execution_count": 59,
   "metadata": {},
   "outputs": [
    {
     "output_type": "display_data",
     "data": {
      "application/vnd.plotly.v1+json": {
       "config": {
        "plotlyServerURL": "https://plot.ly"
       },
       "data": [
        {
         "name": "banker",
         "opacity": 0.3,
         "type": "histogram",
         "x": [
          -37,
          -20,
          -2,
          0,
          -21,
          -9,
          -12,
          -47,
          -33,
          42,
          12,
          -29,
          -48,
          50,
          -24,
          80,
          -4,
          -42,
          -49,
          -27,
          -8,
          21,
          -2,
          4,
          7,
          -1,
          -59,
          -28,
          9,
          -51,
          29,
          -105,
          53,
          -48,
          -2,
          24,
          -3,
          46,
          48,
          -72,
          52,
          13,
          19,
          52,
          18,
          -50,
          -3,
          -30,
          53,
          -47,
          29,
          -86,
          -32,
          10,
          -69,
          79,
          16,
          15,
          -62,
          -21,
          30,
          -1,
          11,
          59,
          56,
          -76,
          -37,
          -4,
          26,
          -19,
          21,
          -6,
          -48,
          -17,
          14,
          -32,
          19,
          -9,
          3,
          -22,
          -22,
          21,
          4,
          -26,
          -13,
          2,
          4,
          26,
          -57,
          71,
          -5,
          95,
          -56,
          4,
          10,
          26,
          -2,
          -27,
          -11,
          -75,
          59,
          72,
          32,
          -34,
          -15,
          102,
          -40,
          65,
          9,
          70,
          -24,
          73,
          -1,
          15,
          -8,
          24,
          68,
          9,
          6,
          63,
          5,
          47,
          -37,
          24,
          14,
          0,
          8,
          -8,
          64,
          86,
          -27,
          -21,
          33,
          31,
          12,
          -42,
          -63,
          -63,
          -63,
          -48,
          29,
          -23,
          2,
          27,
          -42,
          -75,
          131,
          -76,
          -12,
          63,
          -68,
          -33,
          -63,
          -71,
          -23,
          -12,
          -4,
          105,
          18,
          31,
          -32,
          26,
          -2,
          3,
          -8,
          -30,
          -3,
          -80,
          -29,
          7,
          46,
          12,
          64,
          -44,
          -59,
          -38,
          1,
          30,
          19,
          -29,
          -51,
          -40,
          32,
          -31,
          -11,
          20,
          49,
          -54,
          71,
          -50,
          9,
          -33,
          -22,
          -24,
          43,
          29,
          32,
          37,
          57,
          -44,
          -28,
          -25,
          77,
          92,
          -36,
          -106,
          1,
          22,
          -106,
          -28,
          103,
          -29,
          -75,
          40,
          8,
          -20,
          6,
          -9,
          -36,
          41,
          82,
          44,
          -18,
          59,
          -11,
          30,
          19,
          14,
          -22,
          37,
          45,
          58,
          -19,
          10,
          69,
          9,
          64,
          19,
          -16,
          66,
          17,
          -5,
          22,
          -56,
          -34,
          3,
          -29,
          55,
          39,
          34,
          -10,
          111,
          11,
          -11,
          51,
          22,
          -64,
          -5,
          -10,
          6,
          34,
          -15,
          -32,
          -12,
          -66,
          -65,
          79,
          -17,
          -40,
          -40,
          43,
          -54,
          -19,
          -35,
          13,
          15,
          63,
          -37,
          0,
          -78,
          8,
          -2,
          6,
          -58,
          7,
          -44,
          45,
          -43,
          41,
          -17,
          70,
          -50,
          27,
          -82,
          34,
          16,
          38,
          25,
          -78,
          2,
          -31,
          32,
          -6,
          113,
          41,
          -34,
          -14,
          129,
          -27,
          -4,
          7,
          57,
          -17,
          -43,
          -27,
          26,
          -3,
          -21,
          31,
          -53,
          11,
          42,
          -57,
          51,
          17,
          -31,
          63,
          92,
          -33,
          -23,
          -2,
          22,
          43,
          -76,
          37,
          -11,
          -67,
          23,
          2,
          -15,
          -22,
          0,
          -76,
          68,
          25,
          -71,
          -31,
          124,
          62,
          101,
          86,
          12,
          -53,
          19,
          -46,
          -27,
          -38,
          -75,
          39,
          -19,
          4,
          16,
          58,
          -33,
          28,
          -25,
          40,
          12,
          -70,
          -18,
          -77,
          35,
          15,
          53,
          -11,
          99,
          -44,
          90,
          85,
          -3,
          35,
          -32,
          -63,
          16,
          -2,
          -33,
          66,
          -29,
          -10,
          90,
          -38,
          50,
          1,
          -115,
          -33,
          74,
          -30,
          -25,
          -29,
          -8,
          50,
          23,
          39,
          -3,
          -80,
          0,
          17,
          -10,
          2,
          -12,
          -22,
          4,
          4,
          124,
          64,
          -51,
          17,
          28,
          75,
          117,
          74,
          -6,
          10,
          29,
          23,
          -20,
          -14,
          -60,
          73,
          59,
          39,
          -33,
          -27,
          46,
          24,
          50,
          -9,
          27,
          0,
          -17,
          -30,
          -37,
          -83,
          59,
          160,
          29,
          -56,
          -44,
          -64,
          10,
          66,
          66,
          -89,
          -14,
          77,
          -7,
          17,
          -9,
          -25,
          34,
          10,
          11,
          32,
          65,
          -9,
          -3,
          -9,
          63,
          110,
          -93,
          -58,
          65,
          5,
          27,
          -32,
          22,
          4,
          55,
          -56,
          24,
          -39,
          -10,
          23,
          35,
          -39,
          -73,
          -60,
          -32,
          1,
          27,
          15,
          -4,
          -21,
          10,
          62,
          3,
          -8,
          -48,
          16,
          -100
         ]
        },
        {
         "name": "player-0",
         "opacity": 0.3,
         "type": "histogram",
         "x": [
          -6,
          -2,
          15,
          -12,
          6,
          6,
          3,
          8,
          11,
          -9,
          -4,
          -2,
          8,
          -21,
          2,
          -16,
          -2,
          14,
          18,
          6,
          -3,
          -32,
          -1,
          -4,
          -9,
          -2,
          20,
          14,
          3,
          11,
          -14,
          18,
          -18,
          -3,
          -3,
          -13,
          1,
          -15,
          2,
          22,
          -22,
          10,
          -11,
          -4,
          -28,
          10,
          -15,
          10,
          -12,
          23,
          -6,
          20,
          15,
          0,
          14,
          -28,
          1,
          -6,
          11,
          11,
          -4,
          4,
          3,
          8,
          -28,
          26,
          0,
          6,
          -18,
          0,
          -20,
          14,
          11,
          -9,
          -11,
          5,
          0,
          18,
          0,
          21,
          2,
          -8,
          6,
          5,
          4,
          7,
          -5,
          0,
          3,
          -11,
          10,
          -19,
          -3,
          13,
          6,
          -2,
          -8,
          6,
          2,
          16,
          -18,
          -16,
          -20,
          6,
          5,
          -23,
          9,
          -25,
          0,
          -28,
          11,
          -8,
          -13,
          -7,
          -1,
          -19,
          -18,
          -4,
          -19,
          -33,
          -9,
          -3,
          11,
          -8,
          -6,
          8,
          -8,
          5,
          -17,
          -23,
          8,
          8,
          0,
          -15,
          -2,
          8,
          19,
          34,
          22,
          11,
          -13,
          5,
          4,
          -22,
          -2,
          13,
          -22,
          22,
          -5,
          -23,
          23,
          12,
          10,
          18,
          -3,
          11,
          2,
          -20,
          -9,
          -13,
          20,
          -9,
          -8,
          8,
          6,
          12,
          2,
          44,
          9,
          3,
          -10,
          -2,
          -10,
          28,
          12,
          0,
          10,
          -5,
          0,
          -11,
          -2,
          16,
          1,
          -7,
          24,
          3,
          7,
          9,
          -9,
          7,
          -7,
          14,
          14,
          0,
          -11,
          -19,
          -7,
          2,
          -18,
          38,
          2,
          7,
          -25,
          -38,
          5,
          39,
          -11,
          -16,
          7,
          5,
          -24,
          4,
          24,
          -9,
          4,
          6,
          -10,
          15,
          8,
          -15,
          -24,
          -7,
          23,
          -17,
          -8,
          -9,
          2,
          0,
          1,
          -10,
          -13,
          -26,
          22,
          -4,
          -9,
          3,
          -17,
          -16,
          7,
          -12,
          -10,
          -14,
          10,
          15,
          -3,
          10,
          3,
          -22,
          -16,
          -5,
          -5,
          -17,
          -9,
          -6,
          -20,
          -18,
          30,
          -3,
          2,
          -10,
          2,
          4,
          26,
          -9,
          32,
          6,
          -2,
          -2,
          15,
          16,
          -12,
          19,
          24,
          24,
          -11,
          4,
          -14,
          7,
          -9,
          16,
          2,
          4,
          -10,
          14,
          -8,
          3,
          -6,
          25,
          -12,
          15,
          -11,
          1,
          0,
          17,
          -2,
          4,
          -12,
          -8,
          21,
          17,
          11,
          -9,
          -12,
          -27,
          -14,
          15,
          -2,
          -17,
          7,
          2,
          7,
          -3,
          17,
          35,
          9,
          -24,
          -5,
          5,
          -13,
          8,
          -8,
          -16,
          18,
          -6,
          -7,
          3,
          -23,
          -24,
          5,
          16,
          5,
          -11,
          -17,
          33,
          -19,
          0,
          6,
          -12,
          2,
          -21,
          6,
          8,
          36,
          -9,
          -12,
          9,
          -1,
          -35,
          -13,
          -26,
          -20,
          0,
          17,
          -8,
          21,
          -19,
          2,
          29,
          11,
          11,
          1,
          -8,
          -19,
          6,
          -9,
          8,
          -11,
          -10,
          32,
          1,
          7,
          -8,
          12,
          -15,
          -14,
          -20,
          29,
          -32,
          -27,
          9,
          -6,
          5,
          12,
          3,
          18,
          8,
          -11,
          19,
          -12,
          -37,
          2,
          -9,
          13,
          31,
          2,
          -17,
          25,
          -5,
          15,
          -15,
          -11,
          -15,
          -14,
          7,
          7,
          -1,
          0,
          -6,
          17,
          0,
          12,
          5,
          -8,
          -26,
          -32,
          42,
          0,
          -4,
          -12,
          -40,
          -16,
          4,
          -11,
          -12,
          -13,
          17,
          -8,
          15,
          2,
          -1,
          -7,
          13,
          -20,
          -3,
          9,
          11,
          20,
          -28,
          -1,
          13,
          8,
          13,
          20,
          -18,
          -53,
          5,
          41,
          8,
          0,
          -9,
          -27,
          -26,
          28,
          2,
          -13,
          -4,
          -10,
          18,
          2,
          -10,
          -8,
          0,
          -3,
          -14,
          7,
          19,
          -7,
          -10,
          -34,
          31,
          7,
          -26,
          -11,
          -15,
          18,
          5,
          -11,
          -26,
          1,
          -10,
          0,
          1,
          8,
          -5,
          19,
          31,
          24,
          13,
          -3,
          -13,
          -2,
          5,
          -1,
          -8,
          -11,
          32,
          -1,
          46,
          -16,
          48
         ]
        },
        {
         "name": "player-1",
         "opacity": 0.3,
         "type": "histogram",
         "x": [
          -4,
          17,
          -1,
          7,
          8,
          13,
          5,
          2,
          1,
          -13,
          2,
          17,
          12,
          -17,
          19,
          -25,
          -9,
          12,
          9,
          -9,
          -8,
          11,
          -1,
          -13,
          -1,
          4,
          -4,
          11,
          -10,
          2,
          1,
          21,
          -20,
          28,
          7,
          -10,
          3,
          -5,
          -8,
          30,
          -1,
          4,
          10,
          -17,
          0,
          9,
          9,
          1,
          -1,
          -2,
          -14,
          8,
          24,
          -6,
          24,
          -12,
          2,
          9,
          3,
          1,
          -5,
          10,
          -8,
          -30,
          -23,
          14,
          27,
          -4,
          -19,
          3,
          -5,
          11,
          -1,
          4,
          -10,
          2,
          0,
          -2,
          -2,
          4,
          23,
          -15,
          -9,
          20,
          2,
          7,
          -1,
          0,
          22,
          -11,
          -13,
          -12,
          10,
          -18,
          -7,
          -2,
          23,
          14,
          -9,
          30,
          -19,
          -22,
          3,
          11,
          -7,
          -36,
          8,
          -16,
          -10,
          -16,
          -3,
          -11,
          14,
          -9,
          3,
          -8,
          7,
          -13,
          1,
          -22,
          -5,
          -28,
          18,
          -3,
          -11,
          -3,
          10,
          5,
          -12,
          -23,
          -7,
          5,
          -10,
          7,
          0,
          19,
          25,
          4,
          4,
          18,
          -8,
          -8,
          -10,
          3,
          18,
          22,
          -43,
          19,
          17,
          -18,
          34,
          7,
          13,
          19,
          0,
          -5,
          -9,
          -40,
          -6,
          -4,
          0,
          -7,
          12,
          -7,
          10,
          10,
          -3,
          18,
          1,
          8,
          -13,
          -19,
          -25,
          3,
          17,
          12,
          -7,
          12,
          1,
          15,
          17,
          3,
          -3,
          -3,
          -5,
          7,
          -6,
          6,
          -36,
          8,
          2,
          9,
          1,
          3,
          -8,
          2,
          -21,
          -14,
          -18,
          18,
          19,
          5,
          -27,
          -12,
          6,
          23,
          8,
          -6,
          26,
          1,
          -23,
          10,
          11,
          -7,
          16,
          -1,
          -11,
          3,
          -12,
          -25,
          -10,
          -11,
          -1,
          -30,
          22,
          -15,
          -1,
          -6,
          -19,
          -6,
          0,
          -18,
          -12,
          5,
          -20,
          -16,
          -10,
          7,
          4,
          -20,
          -1,
          22,
          0,
          4,
          9,
          1,
          7,
          -20,
          -15,
          -17,
          -6,
          -26,
          -2,
          8,
          -18,
          -11,
          16,
          13,
          -7,
          -18,
          -13,
          -9,
          11,
          5,
          12,
          22,
          -39,
          7,
          5,
          -2,
          -9,
          11,
          -22,
          9,
          -17,
          1,
          -7,
          14,
          3,
          11,
          -6,
          -7,
          6,
          15,
          -2,
          2,
          -17,
          2,
          7,
          -4,
          -43,
          20,
          -17,
          45,
          -19,
          -6,
          4,
          -9,
          22,
          -6,
          13,
          -14,
          -6,
          -43,
          4,
          4,
          -8,
          -37,
          16,
          11,
          -9,
          -14,
          -5,
          -12,
          2,
          4,
          14,
          15,
          5,
          8,
          -6,
          -5,
          12,
          -19,
          -9,
          19,
          -11,
          -29,
          7,
          12,
          3,
          -13,
          -4,
          17,
          -6,
          1,
          24,
          -3,
          4,
          3,
          8,
          3,
          16,
          -15,
          -8,
          15,
          -2,
          -25,
          -16,
          -25,
          -17,
          4,
          9,
          15,
          6,
          17,
          3,
          -2,
          -13,
          10,
          5,
          -4,
          3,
          9,
          4,
          12,
          -17,
          6,
          3,
          0,
          11,
          -15,
          -5,
          -8,
          9,
          -15,
          -1,
          -33,
          -21,
          -11,
          -4,
          19,
          32,
          2,
          -6,
          -11,
          -28,
          11,
          6,
          -19,
          16,
          -21,
          7,
          35,
          14,
          -13,
          -7,
          22,
          10,
          19,
          7,
          -6,
          -1,
          -5,
          14,
          -2,
          -5,
          8,
          0,
          -4,
          22,
          15,
          -4,
          -26,
          -24,
          9,
          -1,
          -17,
          -18,
          -31,
          -12,
          14,
          6,
          -10,
          11,
          18,
          12,
          14,
          -33,
          -38,
          -14,
          1,
          -1,
          -18,
          4,
          -11,
          -8,
          -1,
          14,
          -11,
          6,
          9,
          9,
          -7,
          -55,
          -15,
          12,
          35,
          10,
          -3,
          -14,
          -16,
          21,
          12,
          -20,
          0,
          -2,
          -4,
          12,
          8,
          -10,
          -5,
          -7,
          -19,
          13,
          -10,
          5,
          0,
          -22,
          31,
          28,
          -13,
          -8,
          -3,
          6,
          -15,
          4,
          -13,
          18,
          2,
          14,
          -4,
          8,
          -16,
          1,
          6,
          7,
          -4,
          1,
          -7,
          7,
          -3,
          -3,
          -6,
          -14,
          -10,
          4,
          12,
          8,
          4
         ]
        },
        {
         "name": "player-2",
         "opacity": 0.3,
         "type": "histogram",
         "x": [
          29,
          -1,
          -9,
          -12,
          8,
          -3,
          -5,
          6,
          1,
          0,
          -2,
          8,
          13,
          2,
          5,
          -16,
          16,
          20,
          1,
          17,
          -4,
          -3,
          -6,
          -1,
          -10,
          -1,
          27,
          12,
          2,
          23,
          -14,
          56,
          -9,
          10,
          -12,
          -15,
          -1,
          -9,
          -17,
          1,
          -18,
          -11,
          -4,
          -22,
          7,
          15,
          5,
          17,
          -10,
          17,
          -14,
          25,
          -3,
          -12,
          19,
          -20,
          -11,
          -9,
          28,
          1,
          -14,
          -14,
          -6,
          -13,
          10,
          23,
          -1,
          5,
          -5,
          27,
          6,
          -7,
          21,
          14,
          11,
          14,
          -15,
          -11,
          2,
          -14,
          -9,
          3,
          -3,
          -2,
          -1,
          -13,
          2,
          -13,
          23,
          -23,
          8,
          -34,
          24,
          10,
          -2,
          -19,
          -16,
          1,
          6,
          24,
          -12,
          -32,
          -18,
          12,
          21,
          -37,
          34,
          -9,
          -9,
          -19,
          -3,
          -25,
          11,
          6,
          8,
          9,
          -30,
          1,
          -6,
          -10,
          9,
          1,
          8,
          -6,
          -5,
          -14,
          -9,
          -4,
          -15,
          -15,
          24,
          -2,
          -16,
          -11,
          1,
          4,
          5,
          13,
          5,
          -2,
          -2,
          23,
          -1,
          3,
          20,
          14,
          -30,
          18,
          0,
          2,
          -4,
          17,
          18,
          17,
          15,
          7,
          9,
          -33,
          6,
          -1,
          12,
          -2,
          8,
          10,
          -6,
          -7,
          5,
          14,
          4,
          -20,
          -8,
          0,
          -18,
          -4,
          13,
          5,
          -13,
          -14,
          -8,
          10,
          24,
          7,
          -11,
          21,
          3,
          -24,
          -25,
          6,
          -10,
          14,
          -13,
          10,
          11,
          17,
          -17,
          -5,
          -14,
          -11,
          -6,
          -17,
          4,
          7,
          -25,
          -20,
          1,
          31,
          -10,
          -13,
          25,
          12,
          -28,
          4,
          21,
          -13,
          -2,
          12,
          10,
          -5,
          26,
          -2,
          -21,
          -26,
          -10,
          0,
          6,
          -4,
          0,
          -2,
          21,
          -11,
          -10,
          6,
          24,
          4,
          -30,
          -2,
          -13,
          4,
          1,
          -11,
          -3,
          -2,
          -21,
          6,
          9,
          -3,
          8,
          1,
          7,
          -1,
          14,
          -36,
          2,
          16,
          -1,
          -11,
          10,
          -7,
          8,
          17,
          -12,
          2,
          -9,
          8,
          17,
          27,
          -29,
          -8,
          13,
          17,
          -2,
          32,
          2,
          0,
          3,
          -6,
          -24,
          8,
          4,
          35,
          4,
          0,
          -17,
          2,
          2,
          33,
          5,
          4,
          -16,
          3,
          5,
          14,
          -7,
          11,
          -8,
          0,
          -20,
          -8,
          31,
          -3,
          3,
          -13,
          8,
          0,
          -22,
          13,
          7,
          -42,
          -7,
          2,
          -3,
          -22,
          14,
          9,
          2,
          -2,
          11,
          -11,
          -6,
          4,
          0,
          -9,
          27,
          -21,
          4,
          6,
          -14,
          -2,
          10,
          -7,
          5,
          10,
          -13,
          3,
          -5,
          15,
          11,
          4,
          -5,
          21,
          0,
          -9,
          20,
          -28,
          6,
          40,
          16,
          -38,
          -11,
          -24,
          -22,
          -2,
          28,
          -18,
          11,
          15,
          19,
          31,
          -21,
          5,
          -1,
          4,
          -20,
          1,
          -4,
          3,
          -14,
          11,
          21,
          6,
          12,
          -4,
          -8,
          -22,
          10,
          -31,
          8,
          -23,
          -9,
          -5,
          -14,
          1,
          -2,
          -16,
          -7,
          17,
          -11,
          -1,
          15,
          -10,
          11,
          -6,
          -11,
          19,
          19,
          -23,
          4,
          18,
          9,
          7,
          -26,
          4,
          -7,
          -18,
          23,
          9,
          0,
          20,
          -6,
          14,
          -4,
          -14,
          3,
          -32,
          -24,
          4,
          -5,
          -14,
          -35,
          -21,
          -21,
          -4,
          4,
          0,
          0,
          -12,
          4,
          18,
          -12,
          -13,
          -4,
          13,
          17,
          -21,
          -17,
          -27,
          -10,
          10,
          -10,
          13,
          3,
          8,
          26,
          -23,
          -21,
          -14,
          1,
          0,
          36,
          -7,
          -13,
          -6,
          18,
          0,
          -30,
          12,
          1,
          0,
          11,
          -10,
          5,
          1,
          -14,
          -12,
          -19,
          9,
          8,
          -28,
          -28,
          2,
          7,
          -7,
          -3,
          -2,
          12,
          -5,
          -3,
          -21,
          9,
          -16,
          19,
          6,
          -21,
          -13,
          3,
          16,
          13,
          24,
          7,
          -13,
          -16,
          7,
          6,
          -15,
          -21,
          -14,
          10,
          -6,
          4,
          32
         ]
        }
       ],
       "layout": {
        "barmode": "overlay",
        "template": {
         "data": {
          "bar": [
           {
            "error_x": {
             "color": "#2a3f5f"
            },
            "error_y": {
             "color": "#2a3f5f"
            },
            "marker": {
             "line": {
              "color": "#E5ECF6",
              "width": 0.5
             }
            },
            "type": "bar"
           }
          ],
          "barpolar": [
           {
            "marker": {
             "line": {
              "color": "#E5ECF6",
              "width": 0.5
             }
            },
            "type": "barpolar"
           }
          ],
          "carpet": [
           {
            "aaxis": {
             "endlinecolor": "#2a3f5f",
             "gridcolor": "white",
             "linecolor": "white",
             "minorgridcolor": "white",
             "startlinecolor": "#2a3f5f"
            },
            "baxis": {
             "endlinecolor": "#2a3f5f",
             "gridcolor": "white",
             "linecolor": "white",
             "minorgridcolor": "white",
             "startlinecolor": "#2a3f5f"
            },
            "type": "carpet"
           }
          ],
          "choropleth": [
           {
            "colorbar": {
             "outlinewidth": 0,
             "ticks": ""
            },
            "type": "choropleth"
           }
          ],
          "contour": [
           {
            "colorbar": {
             "outlinewidth": 0,
             "ticks": ""
            },
            "colorscale": [
             [
              0,
              "#0d0887"
             ],
             [
              0.1111111111111111,
              "#46039f"
             ],
             [
              0.2222222222222222,
              "#7201a8"
             ],
             [
              0.3333333333333333,
              "#9c179e"
             ],
             [
              0.4444444444444444,
              "#bd3786"
             ],
             [
              0.5555555555555556,
              "#d8576b"
             ],
             [
              0.6666666666666666,
              "#ed7953"
             ],
             [
              0.7777777777777778,
              "#fb9f3a"
             ],
             [
              0.8888888888888888,
              "#fdca26"
             ],
             [
              1,
              "#f0f921"
             ]
            ],
            "type": "contour"
           }
          ],
          "contourcarpet": [
           {
            "colorbar": {
             "outlinewidth": 0,
             "ticks": ""
            },
            "type": "contourcarpet"
           }
          ],
          "heatmap": [
           {
            "colorbar": {
             "outlinewidth": 0,
             "ticks": ""
            },
            "colorscale": [
             [
              0,
              "#0d0887"
             ],
             [
              0.1111111111111111,
              "#46039f"
             ],
             [
              0.2222222222222222,
              "#7201a8"
             ],
             [
              0.3333333333333333,
              "#9c179e"
             ],
             [
              0.4444444444444444,
              "#bd3786"
             ],
             [
              0.5555555555555556,
              "#d8576b"
             ],
             [
              0.6666666666666666,
              "#ed7953"
             ],
             [
              0.7777777777777778,
              "#fb9f3a"
             ],
             [
              0.8888888888888888,
              "#fdca26"
             ],
             [
              1,
              "#f0f921"
             ]
            ],
            "type": "heatmap"
           }
          ],
          "heatmapgl": [
           {
            "colorbar": {
             "outlinewidth": 0,
             "ticks": ""
            },
            "colorscale": [
             [
              0,
              "#0d0887"
             ],
             [
              0.1111111111111111,
              "#46039f"
             ],
             [
              0.2222222222222222,
              "#7201a8"
             ],
             [
              0.3333333333333333,
              "#9c179e"
             ],
             [
              0.4444444444444444,
              "#bd3786"
             ],
             [
              0.5555555555555556,
              "#d8576b"
             ],
             [
              0.6666666666666666,
              "#ed7953"
             ],
             [
              0.7777777777777778,
              "#fb9f3a"
             ],
             [
              0.8888888888888888,
              "#fdca26"
             ],
             [
              1,
              "#f0f921"
             ]
            ],
            "type": "heatmapgl"
           }
          ],
          "histogram": [
           {
            "marker": {
             "colorbar": {
              "outlinewidth": 0,
              "ticks": ""
             }
            },
            "type": "histogram"
           }
          ],
          "histogram2d": [
           {
            "colorbar": {
             "outlinewidth": 0,
             "ticks": ""
            },
            "colorscale": [
             [
              0,
              "#0d0887"
             ],
             [
              0.1111111111111111,
              "#46039f"
             ],
             [
              0.2222222222222222,
              "#7201a8"
             ],
             [
              0.3333333333333333,
              "#9c179e"
             ],
             [
              0.4444444444444444,
              "#bd3786"
             ],
             [
              0.5555555555555556,
              "#d8576b"
             ],
             [
              0.6666666666666666,
              "#ed7953"
             ],
             [
              0.7777777777777778,
              "#fb9f3a"
             ],
             [
              0.8888888888888888,
              "#fdca26"
             ],
             [
              1,
              "#f0f921"
             ]
            ],
            "type": "histogram2d"
           }
          ],
          "histogram2dcontour": [
           {
            "colorbar": {
             "outlinewidth": 0,
             "ticks": ""
            },
            "colorscale": [
             [
              0,
              "#0d0887"
             ],
             [
              0.1111111111111111,
              "#46039f"
             ],
             [
              0.2222222222222222,
              "#7201a8"
             ],
             [
              0.3333333333333333,
              "#9c179e"
             ],
             [
              0.4444444444444444,
              "#bd3786"
             ],
             [
              0.5555555555555556,
              "#d8576b"
             ],
             [
              0.6666666666666666,
              "#ed7953"
             ],
             [
              0.7777777777777778,
              "#fb9f3a"
             ],
             [
              0.8888888888888888,
              "#fdca26"
             ],
             [
              1,
              "#f0f921"
             ]
            ],
            "type": "histogram2dcontour"
           }
          ],
          "mesh3d": [
           {
            "colorbar": {
             "outlinewidth": 0,
             "ticks": ""
            },
            "type": "mesh3d"
           }
          ],
          "parcoords": [
           {
            "line": {
             "colorbar": {
              "outlinewidth": 0,
              "ticks": ""
             }
            },
            "type": "parcoords"
           }
          ],
          "pie": [
           {
            "automargin": true,
            "type": "pie"
           }
          ],
          "scatter": [
           {
            "marker": {
             "colorbar": {
              "outlinewidth": 0,
              "ticks": ""
             }
            },
            "type": "scatter"
           }
          ],
          "scatter3d": [
           {
            "line": {
             "colorbar": {
              "outlinewidth": 0,
              "ticks": ""
             }
            },
            "marker": {
             "colorbar": {
              "outlinewidth": 0,
              "ticks": ""
             }
            },
            "type": "scatter3d"
           }
          ],
          "scattercarpet": [
           {
            "marker": {
             "colorbar": {
              "outlinewidth": 0,
              "ticks": ""
             }
            },
            "type": "scattercarpet"
           }
          ],
          "scattergeo": [
           {
            "marker": {
             "colorbar": {
              "outlinewidth": 0,
              "ticks": ""
             }
            },
            "type": "scattergeo"
           }
          ],
          "scattergl": [
           {
            "marker": {
             "colorbar": {
              "outlinewidth": 0,
              "ticks": ""
             }
            },
            "type": "scattergl"
           }
          ],
          "scattermapbox": [
           {
            "marker": {
             "colorbar": {
              "outlinewidth": 0,
              "ticks": ""
             }
            },
            "type": "scattermapbox"
           }
          ],
          "scatterpolar": [
           {
            "marker": {
             "colorbar": {
              "outlinewidth": 0,
              "ticks": ""
             }
            },
            "type": "scatterpolar"
           }
          ],
          "scatterpolargl": [
           {
            "marker": {
             "colorbar": {
              "outlinewidth": 0,
              "ticks": ""
             }
            },
            "type": "scatterpolargl"
           }
          ],
          "scatterternary": [
           {
            "marker": {
             "colorbar": {
              "outlinewidth": 0,
              "ticks": ""
             }
            },
            "type": "scatterternary"
           }
          ],
          "surface": [
           {
            "colorbar": {
             "outlinewidth": 0,
             "ticks": ""
            },
            "colorscale": [
             [
              0,
              "#0d0887"
             ],
             [
              0.1111111111111111,
              "#46039f"
             ],
             [
              0.2222222222222222,
              "#7201a8"
             ],
             [
              0.3333333333333333,
              "#9c179e"
             ],
             [
              0.4444444444444444,
              "#bd3786"
             ],
             [
              0.5555555555555556,
              "#d8576b"
             ],
             [
              0.6666666666666666,
              "#ed7953"
             ],
             [
              0.7777777777777778,
              "#fb9f3a"
             ],
             [
              0.8888888888888888,
              "#fdca26"
             ],
             [
              1,
              "#f0f921"
             ]
            ],
            "type": "surface"
           }
          ],
          "table": [
           {
            "cells": {
             "fill": {
              "color": "#EBF0F8"
             },
             "line": {
              "color": "white"
             }
            },
            "header": {
             "fill": {
              "color": "#C8D4E3"
             },
             "line": {
              "color": "white"
             }
            },
            "type": "table"
           }
          ]
         },
         "layout": {
          "annotationdefaults": {
           "arrowcolor": "#2a3f5f",
           "arrowhead": 0,
           "arrowwidth": 1
          },
          "coloraxis": {
           "colorbar": {
            "outlinewidth": 0,
            "ticks": ""
           }
          },
          "colorscale": {
           "diverging": [
            [
             0,
             "#8e0152"
            ],
            [
             0.1,
             "#c51b7d"
            ],
            [
             0.2,
             "#de77ae"
            ],
            [
             0.3,
             "#f1b6da"
            ],
            [
             0.4,
             "#fde0ef"
            ],
            [
             0.5,
             "#f7f7f7"
            ],
            [
             0.6,
             "#e6f5d0"
            ],
            [
             0.7,
             "#b8e186"
            ],
            [
             0.8,
             "#7fbc41"
            ],
            [
             0.9,
             "#4d9221"
            ],
            [
             1,
             "#276419"
            ]
           ],
           "sequential": [
            [
             0,
             "#0d0887"
            ],
            [
             0.1111111111111111,
             "#46039f"
            ],
            [
             0.2222222222222222,
             "#7201a8"
            ],
            [
             0.3333333333333333,
             "#9c179e"
            ],
            [
             0.4444444444444444,
             "#bd3786"
            ],
            [
             0.5555555555555556,
             "#d8576b"
            ],
            [
             0.6666666666666666,
             "#ed7953"
            ],
            [
             0.7777777777777778,
             "#fb9f3a"
            ],
            [
             0.8888888888888888,
             "#fdca26"
            ],
            [
             1,
             "#f0f921"
            ]
           ],
           "sequentialminus": [
            [
             0,
             "#0d0887"
            ],
            [
             0.1111111111111111,
             "#46039f"
            ],
            [
             0.2222222222222222,
             "#7201a8"
            ],
            [
             0.3333333333333333,
             "#9c179e"
            ],
            [
             0.4444444444444444,
             "#bd3786"
            ],
            [
             0.5555555555555556,
             "#d8576b"
            ],
            [
             0.6666666666666666,
             "#ed7953"
            ],
            [
             0.7777777777777778,
             "#fb9f3a"
            ],
            [
             0.8888888888888888,
             "#fdca26"
            ],
            [
             1,
             "#f0f921"
            ]
           ]
          },
          "colorway": [
           "#636efa",
           "#EF553B",
           "#00cc96",
           "#ab63fa",
           "#FFA15A",
           "#19d3f3",
           "#FF6692",
           "#B6E880",
           "#FF97FF",
           "#FECB52"
          ],
          "font": {
           "color": "#2a3f5f"
          },
          "geo": {
           "bgcolor": "white",
           "lakecolor": "white",
           "landcolor": "#E5ECF6",
           "showlakes": true,
           "showland": true,
           "subunitcolor": "white"
          },
          "hoverlabel": {
           "align": "left"
          },
          "hovermode": "closest",
          "mapbox": {
           "style": "light"
          },
          "paper_bgcolor": "white",
          "plot_bgcolor": "#E5ECF6",
          "polar": {
           "angularaxis": {
            "gridcolor": "white",
            "linecolor": "white",
            "ticks": ""
           },
           "bgcolor": "#E5ECF6",
           "radialaxis": {
            "gridcolor": "white",
            "linecolor": "white",
            "ticks": ""
           }
          },
          "scene": {
           "xaxis": {
            "backgroundcolor": "#E5ECF6",
            "gridcolor": "white",
            "gridwidth": 2,
            "linecolor": "white",
            "showbackground": true,
            "ticks": "",
            "zerolinecolor": "white"
           },
           "yaxis": {
            "backgroundcolor": "#E5ECF6",
            "gridcolor": "white",
            "gridwidth": 2,
            "linecolor": "white",
            "showbackground": true,
            "ticks": "",
            "zerolinecolor": "white"
           },
           "zaxis": {
            "backgroundcolor": "#E5ECF6",
            "gridcolor": "white",
            "gridwidth": 2,
            "linecolor": "white",
            "showbackground": true,
            "ticks": "",
            "zerolinecolor": "white"
           }
          },
          "shapedefaults": {
           "line": {
            "color": "#2a3f5f"
           }
          },
          "ternary": {
           "aaxis": {
            "gridcolor": "white",
            "linecolor": "white",
            "ticks": ""
           },
           "baxis": {
            "gridcolor": "white",
            "linecolor": "white",
            "ticks": ""
           },
           "bgcolor": "#E5ECF6",
           "caxis": {
            "gridcolor": "white",
            "linecolor": "white",
            "ticks": ""
           }
          },
          "title": {
           "x": 0.05
          },
          "xaxis": {
           "automargin": true,
           "gridcolor": "white",
           "linecolor": "white",
           "ticks": "",
           "title": {
            "standoff": 15
           },
           "zerolinecolor": "white",
           "zerolinewidth": 2
          },
          "yaxis": {
           "automargin": true,
           "gridcolor": "white",
           "linecolor": "white",
           "ticks": "",
           "title": {
            "standoff": 15
           },
           "zerolinecolor": "white",
           "zerolinewidth": 2
          }
         }
        }
       }
      }
     },
     "metadata": {}
    }
   ],
   "source": [
    "import plotly.graph_objects as go\n",
    "\n",
    "fig = go.Figure()\n",
    "for x in ['banker', 'player-0', 'player-1', 'player-2']:\n",
    "    fig.add_trace(go.Histogram(x=df[df.player==x]['pnl'], name=x))\n",
    "fig.update_layout(barmode='overlay')\n",
    "fig.update_traces(opacity=0.3)\n",
    "fig.show()"
   ]
  },
  {
   "cell_type": "code",
   "execution_count": 86,
   "metadata": {
    "tags": []
   },
   "outputs": [
    {
     "output_type": "stream",
     "name": "stderr",
     "text": "r=5, n=4: 100%|██████████| 20/20 [00:00<00:00, 165.86it/s]\n"
    },
    {
     "output_type": "execute_result",
     "data": {
      "text/plain": "{'banker': {'mean': -1.95,\n  'var': 349.2078947368421,\n  'sd': 18.687105038952453,\n  'skewness': 0.1817295530746158,\n  'kurt': -0.4060868201407306,\n  'quantiles': [-35.0,\n   -26.479999999999997,\n   -17.68,\n   -15.54,\n   -9.119999999999997,\n   0.5,\n   5.600000000000007,\n   9.0,\n   13.239999999999995,\n   18.319999999999993,\n   40.0]},\n 'player-0': {'mean': 1.05,\n  'var': 46.78684210526316,\n  'sd': 6.840090796565727,\n  'skewness': 0.05056156699878574,\n  'kurt': -0.5909929671580265,\n  'quantiles': [-13.0,\n   -6.58,\n   -4.56,\n   -3.0,\n   -1.5199999999999996,\n   0.0,\n   2.560000000000004,\n   5.620000000000008,\n   7.559999999999999,\n   10.159999999999997,\n   14.0]},\n 'player-1': {'mean': 0.35,\n  'var': 29.71315789473684,\n  'sd': 5.450977700810823,\n  'skewness': 0.19849276441685784,\n  'kurt': -0.5826654629121615,\n  'quantiles': [-9.0,\n   -6.58,\n   -5.56,\n   -2.539999999999999,\n   -0.5199999999999996,\n   0.5,\n   1.5200000000000014,\n   3.0,\n   4.679999999999996,\n   8.319999999999993,\n   11.0]},\n 'player-2': {'mean': 0.7,\n  'var': 29.48421052631579,\n  'sd': 5.429936512180947,\n  'skewness': 0.2572559781124827,\n  'kurt': 0.44744742945760274,\n  'quantiles': [-10.0,\n   -6.32,\n   -3.0,\n   -2.0,\n   -1.5199999999999996,\n   0.5,\n   3.0,\n   3.0,\n   4.559999999999999,\n   6.579999999999998,\n   14.0]},\n 'player-3': {'mean': -0.15,\n  'var': 30.239473684210527,\n  'sd': 5.499042978938292,\n  'skewness': 0.15704460335975656,\n  'kurt': -0.03977857802333462,\n  'quantiles': [-10.0,\n   -8.0,\n   -5.239999999999998,\n   -2.0,\n   -1.0,\n   0.0,\n   1.5200000000000014,\n   2.0,\n   3.5599999999999987,\n   6.8999999999999915,\n   12.0]}}"
     },
     "metadata": {},
     "execution_count": 86
    }
   ],
   "source": [
    "from scipy.stats import kurtosis, skew\n",
    "from scipy.stats.mstats import mquantiles\n",
    "import statistics\n",
    "import numpy as np\n",
    "\n",
    "\n",
    "def stat_of(df, player):\n",
    "    data = df[df.player==player]['pnl']\n",
    "    mean = statistics.mean(data)\n",
    "    var =  statistics.variance(data)\n",
    "    sd = statistics.stdev(data)\n",
    "    skewness = skew(data)\n",
    "    kurt = kurtosis(data)\n",
    "    qts = list(mquantiles(data, prob=np.linspace(0, 1, num=11)))\n",
    "    return {'mean': mean, 'var': var, 'sd': sd, 'skewness': skewness, 'kurt': kurt, 'quantiles': qts}\n",
    "\n",
    "\n",
    "def session_stat(session_result):\n",
    "    # make analysis df\n",
    "    dflist = []\n",
    "    list_of_players = session_result[0].keys()\n",
    "\n",
    "    for y in session_result:\n",
    "        for k, v in y.items():\n",
    "            dflist.append({'pnl':v, 'player':k})\n",
    "    session_df = pd.DataFrame(dflist)\n",
    "    \n",
    "    session_stat_dict = {}\n",
    "    for p in list_of_players:\n",
    "        session_stat_dict[p] = stat_of(session_df, p)\n",
    "    return session_stat_dict\n",
    "\n",
    "# demo\n",
    "tmp_session_result = play_sessions(5, 4, 20)\n",
    "session_stat(tmp_session_result)"
   ]
  },
  {
   "cell_type": "code",
   "execution_count": 40,
   "metadata": {},
   "outputs": [],
   "source": [
    "## Parallelized implementation"
   ]
  },
  {
   "cell_type": "code",
   "execution_count": 96,
   "metadata": {
    "tags": []
   },
   "outputs": [
    {
     "output_type": "stream",
     "name": "stderr",
     "text": "r=20, n=2: 100%|██████████| 10/10 [00:00<00:00, 64.78it/s]\nr=20, n=3: 100%|██████████| 10/10 [00:00<00:00, 35.85it/s]\nr=20, n=4: 100%|██████████| 10/10 [00:00<00:00, 26.13it/s]\n"
    }
   ],
   "source": [
    "\"\"\"\n",
    "Reference of parallelization using mp\n",
    "https://www.machinelearningplus.com/python/parallel-processing-python/\n",
    "\"\"\"\n",
    "import multiprocessing as mp\n",
    "import json\n",
    "\n",
    "# search for statistical result for change in parameters\n",
    "def grid_search_once(n, r, sessions=10):\n",
    "    tmp_session_result = play_sessions(r, n, sessions)\n",
    "    return {str((n,r)): session_stat(tmp_session_result)}\n",
    "\n",
    "\n",
    "def parallel_grid_search(player_num, rounds, sessions=1000):\n",
    "    # parallelization\n",
    "    param_list = [(n,r) for n in player_num for r in rounds]\n",
    "    pool = mp.Pool(mp.cpu_count())\n",
    "\n",
    "    sessions_results = []\n",
    "    sessions_results = pool.starmap_async(grid_search_once, [(pl[0], pl[1]) for pl in param_list]).get()\n",
    "\n",
    "    pool.close()\n",
    "    final_result = {}\n",
    "    for d in sessions_results:\n",
    "        final_result.update(d)\n",
    "    return final_result\n",
    "\n",
    "# player_num must be 2 or above; rounds must be >= 1\n",
    "grid = parallel_grid_search(player_num = list(range(2,9)), rounds = list(range(20, 110, 10)))\n",
    "\n",
    "# write to file\n",
    "with open('result.json', 'w+') as fp:\n",
    "    json.dump(grid, fp)"
   ]
  },
  {
   "cell_type": "code",
   "execution_count": 18,
   "metadata": {},
   "outputs": [],
   "source": [
    "# unparalleled implementation\n",
    "\n",
    "def grid_search(player_num, rounds, sessions=1000):\n",
    "    grid = {}\n",
    "    for n in player_num:\n",
    "        for r in rounds:\n",
    "            tmp_session_result = play_sessions(r, n, sessions)\n",
    "            grid[(n,r)] = session_stat(tmp_session_result)\n",
    "    return grid\n",
    "\n",
    "# player_num must be 2 or above; rounds must be >= 1\n",
    "grid = grid_search(player_num = list(range(2,3)), rounds = list(range(20, 0, 10)))\n",
    "grid"
   ]
  },
  {
   "cell_type": "code",
   "execution_count": 41,
   "metadata": {},
   "outputs": [],
   "source": [
    "## Visualisation of statistical moments"
   ]
  },
  {
   "cell_type": "code",
   "execution_count": 42,
   "metadata": {
    "tags": []
   },
   "outputs": [
    {
     "output_type": "stream",
     "name": "stdout",
     "text": "[0.846, 0.177, 1.463, -0.815, -0.429, 0.651, -0.219, 0.866, -0.486, 0.351, 1.097, 1.056, -1.288, -1.233, -2.29, 1.93, 0.159, 2.857, -0.723, 0.161, 0.615, -0.489, 1.033, 1.99, 0.04, 0.586, 1.03, 0.382, 0.398, 0.367, -0.41, -1.451, 1.613, -2.894, 1.734, -4.229, -1.337, -1.196, -2.035, -2.616, -5.567, -1.009, -3.868, 1.953, 4.864, 0.109, 4.251, -1.412, -0.038, 4.055, -4.928, -4.34, 1.888, -12.703, 0.768, 4.453, -3.93, 0.199, 2.809, -1.736, -7.669, -2.465, -1.013]\n"
    },
    {
     "output_type": "display_data",
     "data": {
      "application/vnd.plotly.v1+json": {
       "config": {
        "plotlyServerURL": "https://plot.ly"
       },
       "data": [
        {
         "coloraxis": "coloraxis",
         "histfunc": "avg",
         "hovertemplate": "x=%{x}<br>y=%{y}<br>avg of z=%{z}<extra></extra>",
         "name": "",
         "type": "histogram2d",
         "x": [
          20,
          30,
          40,
          50,
          60,
          70,
          80,
          90,
          100,
          20,
          30,
          40,
          50,
          60,
          70,
          80,
          90,
          100,
          20,
          30,
          40,
          50,
          60,
          70,
          80,
          90,
          100,
          20,
          30,
          40,
          50,
          60,
          70,
          80,
          90,
          100,
          20,
          30,
          40,
          50,
          60,
          70,
          80,
          90,
          100,
          20,
          30,
          40,
          50,
          60,
          70,
          80,
          90,
          100,
          20,
          30,
          40,
          50,
          60,
          70,
          80,
          90,
          100
         ],
         "xaxis": "x",
         "xbingroup": "x",
         "y": [
          2,
          2,
          2,
          2,
          2,
          2,
          2,
          2,
          2,
          3,
          3,
          3,
          3,
          3,
          3,
          3,
          3,
          3,
          4,
          4,
          4,
          4,
          4,
          4,
          4,
          4,
          4,
          5,
          5,
          5,
          5,
          5,
          5,
          5,
          5,
          5,
          6,
          6,
          6,
          6,
          6,
          6,
          6,
          6,
          6,
          7,
          7,
          7,
          7,
          7,
          7,
          7,
          7,
          7,
          8,
          8,
          8,
          8,
          8,
          8,
          8,
          8,
          8
         ],
         "yaxis": "y",
         "ybingroup": "y",
         "z": [
          0.846,
          0.177,
          1.463,
          -0.815,
          -0.429,
          0.651,
          -0.219,
          0.866,
          -0.486,
          0.351,
          1.097,
          1.056,
          -1.288,
          -1.233,
          -2.29,
          1.93,
          0.159,
          2.857,
          -0.723,
          0.161,
          0.615,
          -0.489,
          1.033,
          1.99,
          0.04,
          0.586,
          1.03,
          0.382,
          0.398,
          0.367,
          -0.41,
          -1.451,
          1.613,
          -2.894,
          1.734,
          -4.229,
          -1.337,
          -1.196,
          -2.035,
          -2.616,
          -5.567,
          -1.009,
          -3.868,
          1.953,
          4.864,
          0.109,
          4.251,
          -1.412,
          -0.038,
          4.055,
          -4.928,
          -4.34,
          1.888,
          -12.703,
          0.768,
          4.453,
          -3.93,
          0.199,
          2.809,
          -1.736,
          -7.669,
          -2.465,
          -1.013
         ]
        }
       ],
       "layout": {
        "coloraxis": {
         "colorbar": {
          "title": {
           "text": "avg of z"
          }
         },
         "colorscale": [
          [
           0,
           "rgb(103,0,31)"
          ],
          [
           0.1,
           "rgb(178,24,43)"
          ],
          [
           0.2,
           "rgb(214,96,77)"
          ],
          [
           0.3,
           "rgb(244,165,130)"
          ],
          [
           0.4,
           "rgb(253,219,199)"
          ],
          [
           0.5,
           "rgb(247,247,247)"
          ],
          [
           0.6,
           "rgb(209,229,240)"
          ],
          [
           0.7,
           "rgb(146,197,222)"
          ],
          [
           0.8,
           "rgb(67,147,195)"
          ],
          [
           0.9,
           "rgb(33,102,172)"
          ],
          [
           1,
           "rgb(5,48,97)"
          ]
         ]
        },
        "legend": {
         "tracegroupgap": 0
        },
        "margin": {
         "t": 60
        },
        "template": {
         "data": {
          "bar": [
           {
            "error_x": {
             "color": "#2a3f5f"
            },
            "error_y": {
             "color": "#2a3f5f"
            },
            "marker": {
             "line": {
              "color": "#E5ECF6",
              "width": 0.5
             }
            },
            "type": "bar"
           }
          ],
          "barpolar": [
           {
            "marker": {
             "line": {
              "color": "#E5ECF6",
              "width": 0.5
             }
            },
            "type": "barpolar"
           }
          ],
          "carpet": [
           {
            "aaxis": {
             "endlinecolor": "#2a3f5f",
             "gridcolor": "white",
             "linecolor": "white",
             "minorgridcolor": "white",
             "startlinecolor": "#2a3f5f"
            },
            "baxis": {
             "endlinecolor": "#2a3f5f",
             "gridcolor": "white",
             "linecolor": "white",
             "minorgridcolor": "white",
             "startlinecolor": "#2a3f5f"
            },
            "type": "carpet"
           }
          ],
          "choropleth": [
           {
            "colorbar": {
             "outlinewidth": 0,
             "ticks": ""
            },
            "type": "choropleth"
           }
          ],
          "contour": [
           {
            "colorbar": {
             "outlinewidth": 0,
             "ticks": ""
            },
            "colorscale": [
             [
              0,
              "#0d0887"
             ],
             [
              0.1111111111111111,
              "#46039f"
             ],
             [
              0.2222222222222222,
              "#7201a8"
             ],
             [
              0.3333333333333333,
              "#9c179e"
             ],
             [
              0.4444444444444444,
              "#bd3786"
             ],
             [
              0.5555555555555556,
              "#d8576b"
             ],
             [
              0.6666666666666666,
              "#ed7953"
             ],
             [
              0.7777777777777778,
              "#fb9f3a"
             ],
             [
              0.8888888888888888,
              "#fdca26"
             ],
             [
              1,
              "#f0f921"
             ]
            ],
            "type": "contour"
           }
          ],
          "contourcarpet": [
           {
            "colorbar": {
             "outlinewidth": 0,
             "ticks": ""
            },
            "type": "contourcarpet"
           }
          ],
          "heatmap": [
           {
            "colorbar": {
             "outlinewidth": 0,
             "ticks": ""
            },
            "colorscale": [
             [
              0,
              "#0d0887"
             ],
             [
              0.1111111111111111,
              "#46039f"
             ],
             [
              0.2222222222222222,
              "#7201a8"
             ],
             [
              0.3333333333333333,
              "#9c179e"
             ],
             [
              0.4444444444444444,
              "#bd3786"
             ],
             [
              0.5555555555555556,
              "#d8576b"
             ],
             [
              0.6666666666666666,
              "#ed7953"
             ],
             [
              0.7777777777777778,
              "#fb9f3a"
             ],
             [
              0.8888888888888888,
              "#fdca26"
             ],
             [
              1,
              "#f0f921"
             ]
            ],
            "type": "heatmap"
           }
          ],
          "heatmapgl": [
           {
            "colorbar": {
             "outlinewidth": 0,
             "ticks": ""
            },
            "colorscale": [
             [
              0,
              "#0d0887"
             ],
             [
              0.1111111111111111,
              "#46039f"
             ],
             [
              0.2222222222222222,
              "#7201a8"
             ],
             [
              0.3333333333333333,
              "#9c179e"
             ],
             [
              0.4444444444444444,
              "#bd3786"
             ],
             [
              0.5555555555555556,
              "#d8576b"
             ],
             [
              0.6666666666666666,
              "#ed7953"
             ],
             [
              0.7777777777777778,
              "#fb9f3a"
             ],
             [
              0.8888888888888888,
              "#fdca26"
             ],
             [
              1,
              "#f0f921"
             ]
            ],
            "type": "heatmapgl"
           }
          ],
          "histogram": [
           {
            "marker": {
             "colorbar": {
              "outlinewidth": 0,
              "ticks": ""
             }
            },
            "type": "histogram"
           }
          ],
          "histogram2d": [
           {
            "colorbar": {
             "outlinewidth": 0,
             "ticks": ""
            },
            "colorscale": [
             [
              0,
              "#0d0887"
             ],
             [
              0.1111111111111111,
              "#46039f"
             ],
             [
              0.2222222222222222,
              "#7201a8"
             ],
             [
              0.3333333333333333,
              "#9c179e"
             ],
             [
              0.4444444444444444,
              "#bd3786"
             ],
             [
              0.5555555555555556,
              "#d8576b"
             ],
             [
              0.6666666666666666,
              "#ed7953"
             ],
             [
              0.7777777777777778,
              "#fb9f3a"
             ],
             [
              0.8888888888888888,
              "#fdca26"
             ],
             [
              1,
              "#f0f921"
             ]
            ],
            "type": "histogram2d"
           }
          ],
          "histogram2dcontour": [
           {
            "colorbar": {
             "outlinewidth": 0,
             "ticks": ""
            },
            "colorscale": [
             [
              0,
              "#0d0887"
             ],
             [
              0.1111111111111111,
              "#46039f"
             ],
             [
              0.2222222222222222,
              "#7201a8"
             ],
             [
              0.3333333333333333,
              "#9c179e"
             ],
             [
              0.4444444444444444,
              "#bd3786"
             ],
             [
              0.5555555555555556,
              "#d8576b"
             ],
             [
              0.6666666666666666,
              "#ed7953"
             ],
             [
              0.7777777777777778,
              "#fb9f3a"
             ],
             [
              0.8888888888888888,
              "#fdca26"
             ],
             [
              1,
              "#f0f921"
             ]
            ],
            "type": "histogram2dcontour"
           }
          ],
          "mesh3d": [
           {
            "colorbar": {
             "outlinewidth": 0,
             "ticks": ""
            },
            "type": "mesh3d"
           }
          ],
          "parcoords": [
           {
            "line": {
             "colorbar": {
              "outlinewidth": 0,
              "ticks": ""
             }
            },
            "type": "parcoords"
           }
          ],
          "pie": [
           {
            "automargin": true,
            "type": "pie"
           }
          ],
          "scatter": [
           {
            "marker": {
             "colorbar": {
              "outlinewidth": 0,
              "ticks": ""
             }
            },
            "type": "scatter"
           }
          ],
          "scatter3d": [
           {
            "line": {
             "colorbar": {
              "outlinewidth": 0,
              "ticks": ""
             }
            },
            "marker": {
             "colorbar": {
              "outlinewidth": 0,
              "ticks": ""
             }
            },
            "type": "scatter3d"
           }
          ],
          "scattercarpet": [
           {
            "marker": {
             "colorbar": {
              "outlinewidth": 0,
              "ticks": ""
             }
            },
            "type": "scattercarpet"
           }
          ],
          "scattergeo": [
           {
            "marker": {
             "colorbar": {
              "outlinewidth": 0,
              "ticks": ""
             }
            },
            "type": "scattergeo"
           }
          ],
          "scattergl": [
           {
            "marker": {
             "colorbar": {
              "outlinewidth": 0,
              "ticks": ""
             }
            },
            "type": "scattergl"
           }
          ],
          "scattermapbox": [
           {
            "marker": {
             "colorbar": {
              "outlinewidth": 0,
              "ticks": ""
             }
            },
            "type": "scattermapbox"
           }
          ],
          "scatterpolar": [
           {
            "marker": {
             "colorbar": {
              "outlinewidth": 0,
              "ticks": ""
             }
            },
            "type": "scatterpolar"
           }
          ],
          "scatterpolargl": [
           {
            "marker": {
             "colorbar": {
              "outlinewidth": 0,
              "ticks": ""
             }
            },
            "type": "scatterpolargl"
           }
          ],
          "scatterternary": [
           {
            "marker": {
             "colorbar": {
              "outlinewidth": 0,
              "ticks": ""
             }
            },
            "type": "scatterternary"
           }
          ],
          "surface": [
           {
            "colorbar": {
             "outlinewidth": 0,
             "ticks": ""
            },
            "colorscale": [
             [
              0,
              "#0d0887"
             ],
             [
              0.1111111111111111,
              "#46039f"
             ],
             [
              0.2222222222222222,
              "#7201a8"
             ],
             [
              0.3333333333333333,
              "#9c179e"
             ],
             [
              0.4444444444444444,
              "#bd3786"
             ],
             [
              0.5555555555555556,
              "#d8576b"
             ],
             [
              0.6666666666666666,
              "#ed7953"
             ],
             [
              0.7777777777777778,
              "#fb9f3a"
             ],
             [
              0.8888888888888888,
              "#fdca26"
             ],
             [
              1,
              "#f0f921"
             ]
            ],
            "type": "surface"
           }
          ],
          "table": [
           {
            "cells": {
             "fill": {
              "color": "#EBF0F8"
             },
             "line": {
              "color": "white"
             }
            },
            "header": {
             "fill": {
              "color": "#C8D4E3"
             },
             "line": {
              "color": "white"
             }
            },
            "type": "table"
           }
          ]
         },
         "layout": {
          "annotationdefaults": {
           "arrowcolor": "#2a3f5f",
           "arrowhead": 0,
           "arrowwidth": 1
          },
          "coloraxis": {
           "colorbar": {
            "outlinewidth": 0,
            "ticks": ""
           }
          },
          "colorscale": {
           "diverging": [
            [
             0,
             "#8e0152"
            ],
            [
             0.1,
             "#c51b7d"
            ],
            [
             0.2,
             "#de77ae"
            ],
            [
             0.3,
             "#f1b6da"
            ],
            [
             0.4,
             "#fde0ef"
            ],
            [
             0.5,
             "#f7f7f7"
            ],
            [
             0.6,
             "#e6f5d0"
            ],
            [
             0.7,
             "#b8e186"
            ],
            [
             0.8,
             "#7fbc41"
            ],
            [
             0.9,
             "#4d9221"
            ],
            [
             1,
             "#276419"
            ]
           ],
           "sequential": [
            [
             0,
             "#0d0887"
            ],
            [
             0.1111111111111111,
             "#46039f"
            ],
            [
             0.2222222222222222,
             "#7201a8"
            ],
            [
             0.3333333333333333,
             "#9c179e"
            ],
            [
             0.4444444444444444,
             "#bd3786"
            ],
            [
             0.5555555555555556,
             "#d8576b"
            ],
            [
             0.6666666666666666,
             "#ed7953"
            ],
            [
             0.7777777777777778,
             "#fb9f3a"
            ],
            [
             0.8888888888888888,
             "#fdca26"
            ],
            [
             1,
             "#f0f921"
            ]
           ],
           "sequentialminus": [
            [
             0,
             "#0d0887"
            ],
            [
             0.1111111111111111,
             "#46039f"
            ],
            [
             0.2222222222222222,
             "#7201a8"
            ],
            [
             0.3333333333333333,
             "#9c179e"
            ],
            [
             0.4444444444444444,
             "#bd3786"
            ],
            [
             0.5555555555555556,
             "#d8576b"
            ],
            [
             0.6666666666666666,
             "#ed7953"
            ],
            [
             0.7777777777777778,
             "#fb9f3a"
            ],
            [
             0.8888888888888888,
             "#fdca26"
            ],
            [
             1,
             "#f0f921"
            ]
           ]
          },
          "colorway": [
           "#636efa",
           "#EF553B",
           "#00cc96",
           "#ab63fa",
           "#FFA15A",
           "#19d3f3",
           "#FF6692",
           "#B6E880",
           "#FF97FF",
           "#FECB52"
          ],
          "font": {
           "color": "#2a3f5f"
          },
          "geo": {
           "bgcolor": "white",
           "lakecolor": "white",
           "landcolor": "#E5ECF6",
           "showlakes": true,
           "showland": true,
           "subunitcolor": "white"
          },
          "hoverlabel": {
           "align": "left"
          },
          "hovermode": "closest",
          "mapbox": {
           "style": "light"
          },
          "paper_bgcolor": "white",
          "plot_bgcolor": "#E5ECF6",
          "polar": {
           "angularaxis": {
            "gridcolor": "white",
            "linecolor": "white",
            "ticks": ""
           },
           "bgcolor": "#E5ECF6",
           "radialaxis": {
            "gridcolor": "white",
            "linecolor": "white",
            "ticks": ""
           }
          },
          "scene": {
           "xaxis": {
            "backgroundcolor": "#E5ECF6",
            "gridcolor": "white",
            "gridwidth": 2,
            "linecolor": "white",
            "showbackground": true,
            "ticks": "",
            "zerolinecolor": "white"
           },
           "yaxis": {
            "backgroundcolor": "#E5ECF6",
            "gridcolor": "white",
            "gridwidth": 2,
            "linecolor": "white",
            "showbackground": true,
            "ticks": "",
            "zerolinecolor": "white"
           },
           "zaxis": {
            "backgroundcolor": "#E5ECF6",
            "gridcolor": "white",
            "gridwidth": 2,
            "linecolor": "white",
            "showbackground": true,
            "ticks": "",
            "zerolinecolor": "white"
           }
          },
          "shapedefaults": {
           "line": {
            "color": "#2a3f5f"
           }
          },
          "ternary": {
           "aaxis": {
            "gridcolor": "white",
            "linecolor": "white",
            "ticks": ""
           },
           "baxis": {
            "gridcolor": "white",
            "linecolor": "white",
            "ticks": ""
           },
           "bgcolor": "#E5ECF6",
           "caxis": {
            "gridcolor": "white",
            "linecolor": "white",
            "ticks": ""
           }
          },
          "title": {
           "x": 0.05
          },
          "xaxis": {
           "automargin": true,
           "gridcolor": "white",
           "linecolor": "white",
           "ticks": "",
           "title": {
            "standoff": 15
           },
           "zerolinecolor": "white",
           "zerolinewidth": 2
          },
          "yaxis": {
           "automargin": true,
           "gridcolor": "white",
           "linecolor": "white",
           "ticks": "",
           "title": {
            "standoff": 15
           },
           "zerolinecolor": "white",
           "zerolinewidth": 2
          }
         }
        },
        "xaxis": {
         "anchor": "y",
         "domain": [
          0,
          1
         ],
         "title": {
          "text": "x"
         }
        },
        "yaxis": {
         "anchor": "x",
         "domain": [
          0,
          1
         ],
         "title": {
          "text": "y"
         }
        }
       }
      }
     },
     "metadata": {}
    }
   ],
   "source": [
    "import plotly.express as px\n",
    "\n",
    "# dimensions\n",
    "dots_x = [k[1] for k,v in grid.items()]\n",
    "dots_y = [k[0] for k,v in grid.items()]\n",
    "dots_color = [v['banker']['mean'] for v in grid.values()]\n",
    "print(dots_color)\n",
    "\n",
    "fig = px.density_heatmap(x=dots_x, y=dots_y, z=dots_color, histfunc='avg', color_continuous_scale='RdBU')\n",
    "fig.show()"
   ]
  },
  {
   "cell_type": "code",
   "execution_count": 99,
   "metadata": {},
   "outputs": [],
   "source": [
    "# import plotly.graph_objects as go\n",
    "\n",
    "# # dimensions\n",
    "# dots_x = [k[1] for k,v in grid.items()]\n",
    "# dots_y = [k[0] for k,v in grid.items()]\n",
    "# dots_color = [v['banker']['var'] for v in grid.values()]\n",
    "\n",
    "# fig = go.Figure(data=go.Scatter(\n",
    "#     x = dots_x,\n",
    "#     y = dots_y,\n",
    "#     mode='markers',\n",
    "#     marker=dict(\n",
    "#         size=24,\n",
    "#         color=dots_color, \n",
    "#         colorscale='Viridis', \n",
    "#         showscale=True\n",
    "#     )\n",
    "# ))\n",
    "\n",
    "# fig.show()"
   ]
  },
  {
   "cell_type": "code",
   "execution_count": 43,
   "metadata": {},
   "outputs": [
    {
     "output_type": "display_data",
     "data": {
      "application/vnd.plotly.v1+json": {
       "config": {
        "plotlyServerURL": "https://plot.ly"
       },
       "data": [
        {
         "coloraxis": "coloraxis",
         "histfunc": "avg",
         "hovertemplate": "x=%{x}<br>y=%{y}<br>avg of z=%{z}<extra></extra>",
         "name": "",
         "type": "histogram2d",
         "x": [
          20,
          30,
          40,
          50,
          60,
          70,
          80,
          90,
          100,
          20,
          30,
          40,
          50,
          60,
          70,
          80,
          90,
          100,
          20,
          30,
          40,
          50,
          60,
          70,
          80,
          90,
          100,
          20,
          30,
          40,
          50,
          60,
          70,
          80,
          90,
          100,
          20,
          30,
          40,
          50,
          60,
          70,
          80,
          90,
          100,
          20,
          30,
          40,
          50,
          60,
          70,
          80,
          90,
          100,
          20,
          30,
          40,
          50,
          60,
          70,
          80,
          90,
          100
         ],
         "xaxis": "x",
         "xbingroup": "x",
         "y": [
          2,
          2,
          2,
          2,
          2,
          2,
          2,
          2,
          2,
          3,
          3,
          3,
          3,
          3,
          3,
          3,
          3,
          3,
          4,
          4,
          4,
          4,
          4,
          4,
          4,
          4,
          4,
          5,
          5,
          5,
          5,
          5,
          5,
          5,
          5,
          5,
          6,
          6,
          6,
          6,
          6,
          6,
          6,
          6,
          6,
          7,
          7,
          7,
          7,
          7,
          7,
          7,
          7,
          7,
          8,
          8,
          8,
          8,
          8,
          8,
          8,
          8,
          8
         ],
         "yaxis": "y",
         "ybingroup": "y",
         "z": [
          19.160360210690282,
          24.114667490724152,
          26.46357783732109,
          31.003806395522002,
          34.3463044246048,
          36.08613872955111,
          38.76766656597958,
          41.08203716684188,
          44.394399046125926,
          27.877104080803154,
          33.2257361173615,
          38.46536687006181,
          45.28146936073814,
          47.159651649940585,
          52.61886206147606,
          56.8459546719251,
          57.59186176484957,
          63.94988771795568,
          34.251268887742256,
          43.77150927285948,
          50.120662963052034,
          52.821662289320344,
          59.65101973273512,
          68.067959769242,
          71.85663348484798,
          75.75014645984976,
          82.72614287342735,
          43.7710404260623,
          54.69624553180296,
          61.50050913304396,
          66.72257340512131,
          73.34293957693396,
          79.44588648809881,
          86.01750854201589,
          93.00918208409293,
          96.43729938002055,
          49.593234618442864,
          60.51564861858235,
          72.89693915891625,
          79.0111847228689,
          87.63749106883903,
          94.24170211438998,
          106.18685523276515,
          110.99349686962451,
          106.75531931572404,
          58.49128438792697,
          71.57133822596484,
          83.19342162335555,
          91.90449930766715,
          100.19478514358903,
          107.60258887746676,
          113.81599395726631,
          121.15031512486814,
          129.81450071388633,
          64.364158667079,
          79.69652016447347,
          92.48441201881789,
          105.11369219700775,
          112.70202422878333,
          121.37941863127895,
          134.3755119700655,
          136.35201005355825,
          147.4227400888184
         ]
        }
       ],
       "layout": {
        "coloraxis": {
         "colorbar": {
          "title": {
           "text": "avg of z"
          }
         },
         "colorscale": [
          [
           0,
           "#440154"
          ],
          [
           0.1111111111111111,
           "#482878"
          ],
          [
           0.2222222222222222,
           "#3e4989"
          ],
          [
           0.3333333333333333,
           "#31688e"
          ],
          [
           0.4444444444444444,
           "#26828e"
          ],
          [
           0.5555555555555556,
           "#1f9e89"
          ],
          [
           0.6666666666666666,
           "#35b779"
          ],
          [
           0.7777777777777778,
           "#6ece58"
          ],
          [
           0.8888888888888888,
           "#b5de2b"
          ],
          [
           1,
           "#fde725"
          ]
         ]
        },
        "legend": {
         "tracegroupgap": 0
        },
        "margin": {
         "t": 60
        },
        "template": {
         "data": {
          "bar": [
           {
            "error_x": {
             "color": "#2a3f5f"
            },
            "error_y": {
             "color": "#2a3f5f"
            },
            "marker": {
             "line": {
              "color": "#E5ECF6",
              "width": 0.5
             }
            },
            "type": "bar"
           }
          ],
          "barpolar": [
           {
            "marker": {
             "line": {
              "color": "#E5ECF6",
              "width": 0.5
             }
            },
            "type": "barpolar"
           }
          ],
          "carpet": [
           {
            "aaxis": {
             "endlinecolor": "#2a3f5f",
             "gridcolor": "white",
             "linecolor": "white",
             "minorgridcolor": "white",
             "startlinecolor": "#2a3f5f"
            },
            "baxis": {
             "endlinecolor": "#2a3f5f",
             "gridcolor": "white",
             "linecolor": "white",
             "minorgridcolor": "white",
             "startlinecolor": "#2a3f5f"
            },
            "type": "carpet"
           }
          ],
          "choropleth": [
           {
            "colorbar": {
             "outlinewidth": 0,
             "ticks": ""
            },
            "type": "choropleth"
           }
          ],
          "contour": [
           {
            "colorbar": {
             "outlinewidth": 0,
             "ticks": ""
            },
            "colorscale": [
             [
              0,
              "#0d0887"
             ],
             [
              0.1111111111111111,
              "#46039f"
             ],
             [
              0.2222222222222222,
              "#7201a8"
             ],
             [
              0.3333333333333333,
              "#9c179e"
             ],
             [
              0.4444444444444444,
              "#bd3786"
             ],
             [
              0.5555555555555556,
              "#d8576b"
             ],
             [
              0.6666666666666666,
              "#ed7953"
             ],
             [
              0.7777777777777778,
              "#fb9f3a"
             ],
             [
              0.8888888888888888,
              "#fdca26"
             ],
             [
              1,
              "#f0f921"
             ]
            ],
            "type": "contour"
           }
          ],
          "contourcarpet": [
           {
            "colorbar": {
             "outlinewidth": 0,
             "ticks": ""
            },
            "type": "contourcarpet"
           }
          ],
          "heatmap": [
           {
            "colorbar": {
             "outlinewidth": 0,
             "ticks": ""
            },
            "colorscale": [
             [
              0,
              "#0d0887"
             ],
             [
              0.1111111111111111,
              "#46039f"
             ],
             [
              0.2222222222222222,
              "#7201a8"
             ],
             [
              0.3333333333333333,
              "#9c179e"
             ],
             [
              0.4444444444444444,
              "#bd3786"
             ],
             [
              0.5555555555555556,
              "#d8576b"
             ],
             [
              0.6666666666666666,
              "#ed7953"
             ],
             [
              0.7777777777777778,
              "#fb9f3a"
             ],
             [
              0.8888888888888888,
              "#fdca26"
             ],
             [
              1,
              "#f0f921"
             ]
            ],
            "type": "heatmap"
           }
          ],
          "heatmapgl": [
           {
            "colorbar": {
             "outlinewidth": 0,
             "ticks": ""
            },
            "colorscale": [
             [
              0,
              "#0d0887"
             ],
             [
              0.1111111111111111,
              "#46039f"
             ],
             [
              0.2222222222222222,
              "#7201a8"
             ],
             [
              0.3333333333333333,
              "#9c179e"
             ],
             [
              0.4444444444444444,
              "#bd3786"
             ],
             [
              0.5555555555555556,
              "#d8576b"
             ],
             [
              0.6666666666666666,
              "#ed7953"
             ],
             [
              0.7777777777777778,
              "#fb9f3a"
             ],
             [
              0.8888888888888888,
              "#fdca26"
             ],
             [
              1,
              "#f0f921"
             ]
            ],
            "type": "heatmapgl"
           }
          ],
          "histogram": [
           {
            "marker": {
             "colorbar": {
              "outlinewidth": 0,
              "ticks": ""
             }
            },
            "type": "histogram"
           }
          ],
          "histogram2d": [
           {
            "colorbar": {
             "outlinewidth": 0,
             "ticks": ""
            },
            "colorscale": [
             [
              0,
              "#0d0887"
             ],
             [
              0.1111111111111111,
              "#46039f"
             ],
             [
              0.2222222222222222,
              "#7201a8"
             ],
             [
              0.3333333333333333,
              "#9c179e"
             ],
             [
              0.4444444444444444,
              "#bd3786"
             ],
             [
              0.5555555555555556,
              "#d8576b"
             ],
             [
              0.6666666666666666,
              "#ed7953"
             ],
             [
              0.7777777777777778,
              "#fb9f3a"
             ],
             [
              0.8888888888888888,
              "#fdca26"
             ],
             [
              1,
              "#f0f921"
             ]
            ],
            "type": "histogram2d"
           }
          ],
          "histogram2dcontour": [
           {
            "colorbar": {
             "outlinewidth": 0,
             "ticks": ""
            },
            "colorscale": [
             [
              0,
              "#0d0887"
             ],
             [
              0.1111111111111111,
              "#46039f"
             ],
             [
              0.2222222222222222,
              "#7201a8"
             ],
             [
              0.3333333333333333,
              "#9c179e"
             ],
             [
              0.4444444444444444,
              "#bd3786"
             ],
             [
              0.5555555555555556,
              "#d8576b"
             ],
             [
              0.6666666666666666,
              "#ed7953"
             ],
             [
              0.7777777777777778,
              "#fb9f3a"
             ],
             [
              0.8888888888888888,
              "#fdca26"
             ],
             [
              1,
              "#f0f921"
             ]
            ],
            "type": "histogram2dcontour"
           }
          ],
          "mesh3d": [
           {
            "colorbar": {
             "outlinewidth": 0,
             "ticks": ""
            },
            "type": "mesh3d"
           }
          ],
          "parcoords": [
           {
            "line": {
             "colorbar": {
              "outlinewidth": 0,
              "ticks": ""
             }
            },
            "type": "parcoords"
           }
          ],
          "pie": [
           {
            "automargin": true,
            "type": "pie"
           }
          ],
          "scatter": [
           {
            "marker": {
             "colorbar": {
              "outlinewidth": 0,
              "ticks": ""
             }
            },
            "type": "scatter"
           }
          ],
          "scatter3d": [
           {
            "line": {
             "colorbar": {
              "outlinewidth": 0,
              "ticks": ""
             }
            },
            "marker": {
             "colorbar": {
              "outlinewidth": 0,
              "ticks": ""
             }
            },
            "type": "scatter3d"
           }
          ],
          "scattercarpet": [
           {
            "marker": {
             "colorbar": {
              "outlinewidth": 0,
              "ticks": ""
             }
            },
            "type": "scattercarpet"
           }
          ],
          "scattergeo": [
           {
            "marker": {
             "colorbar": {
              "outlinewidth": 0,
              "ticks": ""
             }
            },
            "type": "scattergeo"
           }
          ],
          "scattergl": [
           {
            "marker": {
             "colorbar": {
              "outlinewidth": 0,
              "ticks": ""
             }
            },
            "type": "scattergl"
           }
          ],
          "scattermapbox": [
           {
            "marker": {
             "colorbar": {
              "outlinewidth": 0,
              "ticks": ""
             }
            },
            "type": "scattermapbox"
           }
          ],
          "scatterpolar": [
           {
            "marker": {
             "colorbar": {
              "outlinewidth": 0,
              "ticks": ""
             }
            },
            "type": "scatterpolar"
           }
          ],
          "scatterpolargl": [
           {
            "marker": {
             "colorbar": {
              "outlinewidth": 0,
              "ticks": ""
             }
            },
            "type": "scatterpolargl"
           }
          ],
          "scatterternary": [
           {
            "marker": {
             "colorbar": {
              "outlinewidth": 0,
              "ticks": ""
             }
            },
            "type": "scatterternary"
           }
          ],
          "surface": [
           {
            "colorbar": {
             "outlinewidth": 0,
             "ticks": ""
            },
            "colorscale": [
             [
              0,
              "#0d0887"
             ],
             [
              0.1111111111111111,
              "#46039f"
             ],
             [
              0.2222222222222222,
              "#7201a8"
             ],
             [
              0.3333333333333333,
              "#9c179e"
             ],
             [
              0.4444444444444444,
              "#bd3786"
             ],
             [
              0.5555555555555556,
              "#d8576b"
             ],
             [
              0.6666666666666666,
              "#ed7953"
             ],
             [
              0.7777777777777778,
              "#fb9f3a"
             ],
             [
              0.8888888888888888,
              "#fdca26"
             ],
             [
              1,
              "#f0f921"
             ]
            ],
            "type": "surface"
           }
          ],
          "table": [
           {
            "cells": {
             "fill": {
              "color": "#EBF0F8"
             },
             "line": {
              "color": "white"
             }
            },
            "header": {
             "fill": {
              "color": "#C8D4E3"
             },
             "line": {
              "color": "white"
             }
            },
            "type": "table"
           }
          ]
         },
         "layout": {
          "annotationdefaults": {
           "arrowcolor": "#2a3f5f",
           "arrowhead": 0,
           "arrowwidth": 1
          },
          "coloraxis": {
           "colorbar": {
            "outlinewidth": 0,
            "ticks": ""
           }
          },
          "colorscale": {
           "diverging": [
            [
             0,
             "#8e0152"
            ],
            [
             0.1,
             "#c51b7d"
            ],
            [
             0.2,
             "#de77ae"
            ],
            [
             0.3,
             "#f1b6da"
            ],
            [
             0.4,
             "#fde0ef"
            ],
            [
             0.5,
             "#f7f7f7"
            ],
            [
             0.6,
             "#e6f5d0"
            ],
            [
             0.7,
             "#b8e186"
            ],
            [
             0.8,
             "#7fbc41"
            ],
            [
             0.9,
             "#4d9221"
            ],
            [
             1,
             "#276419"
            ]
           ],
           "sequential": [
            [
             0,
             "#0d0887"
            ],
            [
             0.1111111111111111,
             "#46039f"
            ],
            [
             0.2222222222222222,
             "#7201a8"
            ],
            [
             0.3333333333333333,
             "#9c179e"
            ],
            [
             0.4444444444444444,
             "#bd3786"
            ],
            [
             0.5555555555555556,
             "#d8576b"
            ],
            [
             0.6666666666666666,
             "#ed7953"
            ],
            [
             0.7777777777777778,
             "#fb9f3a"
            ],
            [
             0.8888888888888888,
             "#fdca26"
            ],
            [
             1,
             "#f0f921"
            ]
           ],
           "sequentialminus": [
            [
             0,
             "#0d0887"
            ],
            [
             0.1111111111111111,
             "#46039f"
            ],
            [
             0.2222222222222222,
             "#7201a8"
            ],
            [
             0.3333333333333333,
             "#9c179e"
            ],
            [
             0.4444444444444444,
             "#bd3786"
            ],
            [
             0.5555555555555556,
             "#d8576b"
            ],
            [
             0.6666666666666666,
             "#ed7953"
            ],
            [
             0.7777777777777778,
             "#fb9f3a"
            ],
            [
             0.8888888888888888,
             "#fdca26"
            ],
            [
             1,
             "#f0f921"
            ]
           ]
          },
          "colorway": [
           "#636efa",
           "#EF553B",
           "#00cc96",
           "#ab63fa",
           "#FFA15A",
           "#19d3f3",
           "#FF6692",
           "#B6E880",
           "#FF97FF",
           "#FECB52"
          ],
          "font": {
           "color": "#2a3f5f"
          },
          "geo": {
           "bgcolor": "white",
           "lakecolor": "white",
           "landcolor": "#E5ECF6",
           "showlakes": true,
           "showland": true,
           "subunitcolor": "white"
          },
          "hoverlabel": {
           "align": "left"
          },
          "hovermode": "closest",
          "mapbox": {
           "style": "light"
          },
          "paper_bgcolor": "white",
          "plot_bgcolor": "#E5ECF6",
          "polar": {
           "angularaxis": {
            "gridcolor": "white",
            "linecolor": "white",
            "ticks": ""
           },
           "bgcolor": "#E5ECF6",
           "radialaxis": {
            "gridcolor": "white",
            "linecolor": "white",
            "ticks": ""
           }
          },
          "scene": {
           "xaxis": {
            "backgroundcolor": "#E5ECF6",
            "gridcolor": "white",
            "gridwidth": 2,
            "linecolor": "white",
            "showbackground": true,
            "ticks": "",
            "zerolinecolor": "white"
           },
           "yaxis": {
            "backgroundcolor": "#E5ECF6",
            "gridcolor": "white",
            "gridwidth": 2,
            "linecolor": "white",
            "showbackground": true,
            "ticks": "",
            "zerolinecolor": "white"
           },
           "zaxis": {
            "backgroundcolor": "#E5ECF6",
            "gridcolor": "white",
            "gridwidth": 2,
            "linecolor": "white",
            "showbackground": true,
            "ticks": "",
            "zerolinecolor": "white"
           }
          },
          "shapedefaults": {
           "line": {
            "color": "#2a3f5f"
           }
          },
          "ternary": {
           "aaxis": {
            "gridcolor": "white",
            "linecolor": "white",
            "ticks": ""
           },
           "baxis": {
            "gridcolor": "white",
            "linecolor": "white",
            "ticks": ""
           },
           "bgcolor": "#E5ECF6",
           "caxis": {
            "gridcolor": "white",
            "linecolor": "white",
            "ticks": ""
           }
          },
          "title": {
           "x": 0.05
          },
          "xaxis": {
           "automargin": true,
           "gridcolor": "white",
           "linecolor": "white",
           "ticks": "",
           "title": {
            "standoff": 15
           },
           "zerolinecolor": "white",
           "zerolinewidth": 2
          },
          "yaxis": {
           "automargin": true,
           "gridcolor": "white",
           "linecolor": "white",
           "ticks": "",
           "title": {
            "standoff": 15
           },
           "zerolinecolor": "white",
           "zerolinewidth": 2
          }
         }
        },
        "xaxis": {
         "anchor": "y",
         "domain": [
          0,
          1
         ],
         "title": {
          "text": "x"
         }
        },
        "yaxis": {
         "anchor": "x",
         "domain": [
          0,
          1
         ],
         "title": {
          "text": "y"
         }
        }
       }
      }
     },
     "metadata": {}
    }
   ],
   "source": [
    "import plotly.express as px\n",
    "\n",
    "# dimensions\n",
    "dots_x = [k[1] for k,v in grid.items()]\n",
    "dots_y = [k[0] for k,v in grid.items()]\n",
    "dots_color = [v['banker']['sd'] for v in grid.values()]\n",
    "\n",
    "fig = px.density_heatmap(x=dots_x, y=dots_y, z=dots_color, histfunc='avg', color_continuous_scale='Viridis')\n",
    "fig.show()"
   ]
  },
  {
   "cell_type": "code",
   "execution_count": 44,
   "metadata": {},
   "outputs": [
    {
     "output_type": "display_data",
     "data": {
      "application/vnd.plotly.v1+json": {
       "config": {
        "plotlyServerURL": "https://plot.ly"
       },
       "data": [
        {
         "coloraxis": "coloraxis",
         "histfunc": "avg",
         "hovertemplate": "x=%{x}<br>y=%{y}<br>avg of z=%{z}<extra></extra>",
         "name": "",
         "type": "histogram2d",
         "x": [
          20,
          30,
          40,
          50,
          60,
          70,
          80,
          90,
          100,
          20,
          30,
          40,
          50,
          60,
          70,
          80,
          90,
          100,
          20,
          30,
          40,
          50,
          60,
          70,
          80,
          90,
          100,
          20,
          30,
          40,
          50,
          60,
          70,
          80,
          90,
          100,
          20,
          30,
          40,
          50,
          60,
          70,
          80,
          90,
          100,
          20,
          30,
          40,
          50,
          60,
          70,
          80,
          90,
          100,
          20,
          30,
          40,
          50,
          60,
          70,
          80,
          90,
          100
         ],
         "xaxis": "x",
         "xbingroup": "x",
         "y": [
          2,
          2,
          2,
          2,
          2,
          2,
          2,
          2,
          2,
          3,
          3,
          3,
          3,
          3,
          3,
          3,
          3,
          3,
          4,
          4,
          4,
          4,
          4,
          4,
          4,
          4,
          4,
          5,
          5,
          5,
          5,
          5,
          5,
          5,
          5,
          5,
          6,
          6,
          6,
          6,
          6,
          6,
          6,
          6,
          6,
          7,
          7,
          7,
          7,
          7,
          7,
          7,
          7,
          7,
          8,
          8,
          8,
          8,
          8,
          8,
          8,
          8,
          8
         ],
         "yaxis": "y",
         "ybingroup": "y",
         "z": [
          0.12721429134772866,
          0.005899174005855932,
          0.1815852677158817,
          0.09794973986737639,
          0.20559973890697095,
          -0.02259643323649905,
          -0.007193391509078287,
          -0.007684025172798881,
          0.04659246993814715,
          0.2915339572619072,
          0.043487902654088695,
          0.14900879845043796,
          0.29662324020778397,
          -0.013016489271762478,
          0.2394191220318766,
          0.07011355288556173,
          -0.0480353478814376,
          0.0231383304616313,
          0.19234077772271932,
          0.16444675078971133,
          0.008260815131786127,
          0.2410877546769102,
          0.14946961075509682,
          -0.01519277874578159,
          0.1809709097259692,
          -0.034032550082256696,
          0.050605442021022996,
          0.3255354615323152,
          0.20904410858303774,
          0.23371799176825153,
          0.25574048877890027,
          0.10624946555176593,
          0.1233434642165485,
          0.061480797380237574,
          0.044957522310519665,
          0.08032118026686969,
          0.2665280891024049,
          0.062305135211135176,
          0.20550489195411045,
          0.1721083219144681,
          0.20669137878850732,
          0.08180117857444368,
          0.26309041802536526,
          0.08908870291041858,
          0.21447535054009342,
          0.24875258827456978,
          0.1458210603863267,
          0.13815367551383165,
          0.1535956281869766,
          0.1698313624715936,
          0.22361804637810703,
          0.027869654702015963,
          -0.02198120210789386,
          0.15067078514119803,
          0.2347082895977868,
          0.17911930804061493,
          0.30819435044911114,
          0.10762266409353569,
          0.10741707423874167,
          0.050996821218765934,
          0.22012273349908854,
          0.19437289757944318,
          0.16163305677844828
         ]
        }
       ],
       "layout": {
        "coloraxis": {
         "colorbar": {
          "title": {
           "text": "avg of z"
          }
         },
         "colorscale": [
          [
           0,
           "#440154"
          ],
          [
           0.1111111111111111,
           "#482878"
          ],
          [
           0.2222222222222222,
           "#3e4989"
          ],
          [
           0.3333333333333333,
           "#31688e"
          ],
          [
           0.4444444444444444,
           "#26828e"
          ],
          [
           0.5555555555555556,
           "#1f9e89"
          ],
          [
           0.6666666666666666,
           "#35b779"
          ],
          [
           0.7777777777777778,
           "#6ece58"
          ],
          [
           0.8888888888888888,
           "#b5de2b"
          ],
          [
           1,
           "#fde725"
          ]
         ]
        },
        "legend": {
         "tracegroupgap": 0
        },
        "margin": {
         "t": 60
        },
        "template": {
         "data": {
          "bar": [
           {
            "error_x": {
             "color": "#2a3f5f"
            },
            "error_y": {
             "color": "#2a3f5f"
            },
            "marker": {
             "line": {
              "color": "#E5ECF6",
              "width": 0.5
             }
            },
            "type": "bar"
           }
          ],
          "barpolar": [
           {
            "marker": {
             "line": {
              "color": "#E5ECF6",
              "width": 0.5
             }
            },
            "type": "barpolar"
           }
          ],
          "carpet": [
           {
            "aaxis": {
             "endlinecolor": "#2a3f5f",
             "gridcolor": "white",
             "linecolor": "white",
             "minorgridcolor": "white",
             "startlinecolor": "#2a3f5f"
            },
            "baxis": {
             "endlinecolor": "#2a3f5f",
             "gridcolor": "white",
             "linecolor": "white",
             "minorgridcolor": "white",
             "startlinecolor": "#2a3f5f"
            },
            "type": "carpet"
           }
          ],
          "choropleth": [
           {
            "colorbar": {
             "outlinewidth": 0,
             "ticks": ""
            },
            "type": "choropleth"
           }
          ],
          "contour": [
           {
            "colorbar": {
             "outlinewidth": 0,
             "ticks": ""
            },
            "colorscale": [
             [
              0,
              "#0d0887"
             ],
             [
              0.1111111111111111,
              "#46039f"
             ],
             [
              0.2222222222222222,
              "#7201a8"
             ],
             [
              0.3333333333333333,
              "#9c179e"
             ],
             [
              0.4444444444444444,
              "#bd3786"
             ],
             [
              0.5555555555555556,
              "#d8576b"
             ],
             [
              0.6666666666666666,
              "#ed7953"
             ],
             [
              0.7777777777777778,
              "#fb9f3a"
             ],
             [
              0.8888888888888888,
              "#fdca26"
             ],
             [
              1,
              "#f0f921"
             ]
            ],
            "type": "contour"
           }
          ],
          "contourcarpet": [
           {
            "colorbar": {
             "outlinewidth": 0,
             "ticks": ""
            },
            "type": "contourcarpet"
           }
          ],
          "heatmap": [
           {
            "colorbar": {
             "outlinewidth": 0,
             "ticks": ""
            },
            "colorscale": [
             [
              0,
              "#0d0887"
             ],
             [
              0.1111111111111111,
              "#46039f"
             ],
             [
              0.2222222222222222,
              "#7201a8"
             ],
             [
              0.3333333333333333,
              "#9c179e"
             ],
             [
              0.4444444444444444,
              "#bd3786"
             ],
             [
              0.5555555555555556,
              "#d8576b"
             ],
             [
              0.6666666666666666,
              "#ed7953"
             ],
             [
              0.7777777777777778,
              "#fb9f3a"
             ],
             [
              0.8888888888888888,
              "#fdca26"
             ],
             [
              1,
              "#f0f921"
             ]
            ],
            "type": "heatmap"
           }
          ],
          "heatmapgl": [
           {
            "colorbar": {
             "outlinewidth": 0,
             "ticks": ""
            },
            "colorscale": [
             [
              0,
              "#0d0887"
             ],
             [
              0.1111111111111111,
              "#46039f"
             ],
             [
              0.2222222222222222,
              "#7201a8"
             ],
             [
              0.3333333333333333,
              "#9c179e"
             ],
             [
              0.4444444444444444,
              "#bd3786"
             ],
             [
              0.5555555555555556,
              "#d8576b"
             ],
             [
              0.6666666666666666,
              "#ed7953"
             ],
             [
              0.7777777777777778,
              "#fb9f3a"
             ],
             [
              0.8888888888888888,
              "#fdca26"
             ],
             [
              1,
              "#f0f921"
             ]
            ],
            "type": "heatmapgl"
           }
          ],
          "histogram": [
           {
            "marker": {
             "colorbar": {
              "outlinewidth": 0,
              "ticks": ""
             }
            },
            "type": "histogram"
           }
          ],
          "histogram2d": [
           {
            "colorbar": {
             "outlinewidth": 0,
             "ticks": ""
            },
            "colorscale": [
             [
              0,
              "#0d0887"
             ],
             [
              0.1111111111111111,
              "#46039f"
             ],
             [
              0.2222222222222222,
              "#7201a8"
             ],
             [
              0.3333333333333333,
              "#9c179e"
             ],
             [
              0.4444444444444444,
              "#bd3786"
             ],
             [
              0.5555555555555556,
              "#d8576b"
             ],
             [
              0.6666666666666666,
              "#ed7953"
             ],
             [
              0.7777777777777778,
              "#fb9f3a"
             ],
             [
              0.8888888888888888,
              "#fdca26"
             ],
             [
              1,
              "#f0f921"
             ]
            ],
            "type": "histogram2d"
           }
          ],
          "histogram2dcontour": [
           {
            "colorbar": {
             "outlinewidth": 0,
             "ticks": ""
            },
            "colorscale": [
             [
              0,
              "#0d0887"
             ],
             [
              0.1111111111111111,
              "#46039f"
             ],
             [
              0.2222222222222222,
              "#7201a8"
             ],
             [
              0.3333333333333333,
              "#9c179e"
             ],
             [
              0.4444444444444444,
              "#bd3786"
             ],
             [
              0.5555555555555556,
              "#d8576b"
             ],
             [
              0.6666666666666666,
              "#ed7953"
             ],
             [
              0.7777777777777778,
              "#fb9f3a"
             ],
             [
              0.8888888888888888,
              "#fdca26"
             ],
             [
              1,
              "#f0f921"
             ]
            ],
            "type": "histogram2dcontour"
           }
          ],
          "mesh3d": [
           {
            "colorbar": {
             "outlinewidth": 0,
             "ticks": ""
            },
            "type": "mesh3d"
           }
          ],
          "parcoords": [
           {
            "line": {
             "colorbar": {
              "outlinewidth": 0,
              "ticks": ""
             }
            },
            "type": "parcoords"
           }
          ],
          "pie": [
           {
            "automargin": true,
            "type": "pie"
           }
          ],
          "scatter": [
           {
            "marker": {
             "colorbar": {
              "outlinewidth": 0,
              "ticks": ""
             }
            },
            "type": "scatter"
           }
          ],
          "scatter3d": [
           {
            "line": {
             "colorbar": {
              "outlinewidth": 0,
              "ticks": ""
             }
            },
            "marker": {
             "colorbar": {
              "outlinewidth": 0,
              "ticks": ""
             }
            },
            "type": "scatter3d"
           }
          ],
          "scattercarpet": [
           {
            "marker": {
             "colorbar": {
              "outlinewidth": 0,
              "ticks": ""
             }
            },
            "type": "scattercarpet"
           }
          ],
          "scattergeo": [
           {
            "marker": {
             "colorbar": {
              "outlinewidth": 0,
              "ticks": ""
             }
            },
            "type": "scattergeo"
           }
          ],
          "scattergl": [
           {
            "marker": {
             "colorbar": {
              "outlinewidth": 0,
              "ticks": ""
             }
            },
            "type": "scattergl"
           }
          ],
          "scattermapbox": [
           {
            "marker": {
             "colorbar": {
              "outlinewidth": 0,
              "ticks": ""
             }
            },
            "type": "scattermapbox"
           }
          ],
          "scatterpolar": [
           {
            "marker": {
             "colorbar": {
              "outlinewidth": 0,
              "ticks": ""
             }
            },
            "type": "scatterpolar"
           }
          ],
          "scatterpolargl": [
           {
            "marker": {
             "colorbar": {
              "outlinewidth": 0,
              "ticks": ""
             }
            },
            "type": "scatterpolargl"
           }
          ],
          "scatterternary": [
           {
            "marker": {
             "colorbar": {
              "outlinewidth": 0,
              "ticks": ""
             }
            },
            "type": "scatterternary"
           }
          ],
          "surface": [
           {
            "colorbar": {
             "outlinewidth": 0,
             "ticks": ""
            },
            "colorscale": [
             [
              0,
              "#0d0887"
             ],
             [
              0.1111111111111111,
              "#46039f"
             ],
             [
              0.2222222222222222,
              "#7201a8"
             ],
             [
              0.3333333333333333,
              "#9c179e"
             ],
             [
              0.4444444444444444,
              "#bd3786"
             ],
             [
              0.5555555555555556,
              "#d8576b"
             ],
             [
              0.6666666666666666,
              "#ed7953"
             ],
             [
              0.7777777777777778,
              "#fb9f3a"
             ],
             [
              0.8888888888888888,
              "#fdca26"
             ],
             [
              1,
              "#f0f921"
             ]
            ],
            "type": "surface"
           }
          ],
          "table": [
           {
            "cells": {
             "fill": {
              "color": "#EBF0F8"
             },
             "line": {
              "color": "white"
             }
            },
            "header": {
             "fill": {
              "color": "#C8D4E3"
             },
             "line": {
              "color": "white"
             }
            },
            "type": "table"
           }
          ]
         },
         "layout": {
          "annotationdefaults": {
           "arrowcolor": "#2a3f5f",
           "arrowhead": 0,
           "arrowwidth": 1
          },
          "coloraxis": {
           "colorbar": {
            "outlinewidth": 0,
            "ticks": ""
           }
          },
          "colorscale": {
           "diverging": [
            [
             0,
             "#8e0152"
            ],
            [
             0.1,
             "#c51b7d"
            ],
            [
             0.2,
             "#de77ae"
            ],
            [
             0.3,
             "#f1b6da"
            ],
            [
             0.4,
             "#fde0ef"
            ],
            [
             0.5,
             "#f7f7f7"
            ],
            [
             0.6,
             "#e6f5d0"
            ],
            [
             0.7,
             "#b8e186"
            ],
            [
             0.8,
             "#7fbc41"
            ],
            [
             0.9,
             "#4d9221"
            ],
            [
             1,
             "#276419"
            ]
           ],
           "sequential": [
            [
             0,
             "#0d0887"
            ],
            [
             0.1111111111111111,
             "#46039f"
            ],
            [
             0.2222222222222222,
             "#7201a8"
            ],
            [
             0.3333333333333333,
             "#9c179e"
            ],
            [
             0.4444444444444444,
             "#bd3786"
            ],
            [
             0.5555555555555556,
             "#d8576b"
            ],
            [
             0.6666666666666666,
             "#ed7953"
            ],
            [
             0.7777777777777778,
             "#fb9f3a"
            ],
            [
             0.8888888888888888,
             "#fdca26"
            ],
            [
             1,
             "#f0f921"
            ]
           ],
           "sequentialminus": [
            [
             0,
             "#0d0887"
            ],
            [
             0.1111111111111111,
             "#46039f"
            ],
            [
             0.2222222222222222,
             "#7201a8"
            ],
            [
             0.3333333333333333,
             "#9c179e"
            ],
            [
             0.4444444444444444,
             "#bd3786"
            ],
            [
             0.5555555555555556,
             "#d8576b"
            ],
            [
             0.6666666666666666,
             "#ed7953"
            ],
            [
             0.7777777777777778,
             "#fb9f3a"
            ],
            [
             0.8888888888888888,
             "#fdca26"
            ],
            [
             1,
             "#f0f921"
            ]
           ]
          },
          "colorway": [
           "#636efa",
           "#EF553B",
           "#00cc96",
           "#ab63fa",
           "#FFA15A",
           "#19d3f3",
           "#FF6692",
           "#B6E880",
           "#FF97FF",
           "#FECB52"
          ],
          "font": {
           "color": "#2a3f5f"
          },
          "geo": {
           "bgcolor": "white",
           "lakecolor": "white",
           "landcolor": "#E5ECF6",
           "showlakes": true,
           "showland": true,
           "subunitcolor": "white"
          },
          "hoverlabel": {
           "align": "left"
          },
          "hovermode": "closest",
          "mapbox": {
           "style": "light"
          },
          "paper_bgcolor": "white",
          "plot_bgcolor": "#E5ECF6",
          "polar": {
           "angularaxis": {
            "gridcolor": "white",
            "linecolor": "white",
            "ticks": ""
           },
           "bgcolor": "#E5ECF6",
           "radialaxis": {
            "gridcolor": "white",
            "linecolor": "white",
            "ticks": ""
           }
          },
          "scene": {
           "xaxis": {
            "backgroundcolor": "#E5ECF6",
            "gridcolor": "white",
            "gridwidth": 2,
            "linecolor": "white",
            "showbackground": true,
            "ticks": "",
            "zerolinecolor": "white"
           },
           "yaxis": {
            "backgroundcolor": "#E5ECF6",
            "gridcolor": "white",
            "gridwidth": 2,
            "linecolor": "white",
            "showbackground": true,
            "ticks": "",
            "zerolinecolor": "white"
           },
           "zaxis": {
            "backgroundcolor": "#E5ECF6",
            "gridcolor": "white",
            "gridwidth": 2,
            "linecolor": "white",
            "showbackground": true,
            "ticks": "",
            "zerolinecolor": "white"
           }
          },
          "shapedefaults": {
           "line": {
            "color": "#2a3f5f"
           }
          },
          "ternary": {
           "aaxis": {
            "gridcolor": "white",
            "linecolor": "white",
            "ticks": ""
           },
           "baxis": {
            "gridcolor": "white",
            "linecolor": "white",
            "ticks": ""
           },
           "bgcolor": "#E5ECF6",
           "caxis": {
            "gridcolor": "white",
            "linecolor": "white",
            "ticks": ""
           }
          },
          "title": {
           "x": 0.05
          },
          "xaxis": {
           "automargin": true,
           "gridcolor": "white",
           "linecolor": "white",
           "ticks": "",
           "title": {
            "standoff": 15
           },
           "zerolinecolor": "white",
           "zerolinewidth": 2
          },
          "yaxis": {
           "automargin": true,
           "gridcolor": "white",
           "linecolor": "white",
           "ticks": "",
           "title": {
            "standoff": 15
           },
           "zerolinecolor": "white",
           "zerolinewidth": 2
          }
         }
        },
        "xaxis": {
         "anchor": "y",
         "domain": [
          0,
          1
         ],
         "title": {
          "text": "x"
         }
        },
        "yaxis": {
         "anchor": "x",
         "domain": [
          0,
          1
         ],
         "title": {
          "text": "y"
         }
        }
       }
      }
     },
     "metadata": {}
    }
   ],
   "source": [
    "import plotly.express as px\n",
    "\n",
    "# dimensions\n",
    "dots_x = [k[1] for k,v in grid.items()]\n",
    "dots_y = [k[0] for k,v in grid.items()]\n",
    "dots_color = [v['banker']['skewness'] for v in grid.values()]\n",
    "\n",
    "fig = px.density_heatmap(x=dots_x, y=dots_y, z=dots_color, histfunc='avg', color_continuous_scale='Viridis')\n",
    "fig.show()"
   ]
  },
  {
   "cell_type": "code",
   "execution_count": 45,
   "metadata": {},
   "outputs": [
    {
     "output_type": "display_data",
     "data": {
      "application/vnd.plotly.v1+json": {
       "config": {
        "plotlyServerURL": "https://plot.ly"
       },
       "data": [
        {
         "coloraxis": "coloraxis",
         "histfunc": "avg",
         "hovertemplate": "x=%{x}<br>y=%{y}<br>avg of z=%{z}<extra></extra>",
         "name": "",
         "type": "histogram2d",
         "x": [
          20,
          30,
          40,
          50,
          60,
          70,
          80,
          90,
          100,
          20,
          30,
          40,
          50,
          60,
          70,
          80,
          90,
          100,
          20,
          30,
          40,
          50,
          60,
          70,
          80,
          90,
          100,
          20,
          30,
          40,
          50,
          60,
          70,
          80,
          90,
          100,
          20,
          30,
          40,
          50,
          60,
          70,
          80,
          90,
          100,
          20,
          30,
          40,
          50,
          60,
          70,
          80,
          90,
          100,
          20,
          30,
          40,
          50,
          60,
          70,
          80,
          90,
          100
         ],
         "xaxis": "x",
         "xbingroup": "x",
         "y": [
          2,
          2,
          2,
          2,
          2,
          2,
          2,
          2,
          2,
          3,
          3,
          3,
          3,
          3,
          3,
          3,
          3,
          3,
          4,
          4,
          4,
          4,
          4,
          4,
          4,
          4,
          4,
          5,
          5,
          5,
          5,
          5,
          5,
          5,
          5,
          5,
          6,
          6,
          6,
          6,
          6,
          6,
          6,
          6,
          6,
          7,
          7,
          7,
          7,
          7,
          7,
          7,
          7,
          7,
          8,
          8,
          8,
          8,
          8,
          8,
          8,
          8,
          8
         ],
         "yaxis": "y",
         "ybingroup": "y",
         "z": [
          0.05884685069021023,
          -0.12195434056940169,
          0.23172520809089914,
          -0.07726392657992465,
          -0.24081431145622378,
          -0.3649530160757166,
          -0.23899317217598393,
          0.0437454554257628,
          -0.2527133504781185,
          -0.10840697201460081,
          -0.07878263630613835,
          -0.05701584097312651,
          0.3191220800258807,
          0.06494679241441315,
          -0.011678746155612707,
          -0.020026317248554193,
          -0.09503860123524221,
          0.20858405946082836,
          0.11967819027233428,
          0.191984997361474,
          -0.13637669082972703,
          0.13968454145406017,
          -0.15091947629347535,
          -0.029437016306367525,
          0.07528453761837417,
          -0.1663843571318182,
          -0.11904835901081467,
          -0.08196608300746,
          -0.10056068339877156,
          0.05892213637776811,
          -0.163898862452998,
          -0.1519080070622203,
          0.08819349130201326,
          -0.31446402974565313,
          -0.04577879489120518,
          -0.10600648313513306,
          -0.07010477275833038,
          -0.046396533180460775,
          -0.03806206298521486,
          -0.046735857547150594,
          -0.1325415973311448,
          0.1316055520948214,
          -0.035118899412299065,
          -0.13209040988218135,
          0.28176103199211555,
          -0.08891394737903502,
          0.12309468633355092,
          -0.12082950203161458,
          0.004787555608610994,
          -0.01746628070739309,
          0.23378604146679471,
          -0.10486901735449905,
          -0.17328187406792184,
          0.06424256600008293,
          -0.08684047117469218,
          0.010863973351952438,
          0.2669042724109958,
          -0.2260197827131729,
          -0.21478847666899492,
          -0.12853407692512064,
          0.08934494218791533,
          0.3510027314183022,
          -0.23555618932933164
         ]
        }
       ],
       "layout": {
        "coloraxis": {
         "colorbar": {
          "title": {
           "text": "avg of z"
          }
         },
         "colorscale": [
          [
           0,
           "rgb(103,0,31)"
          ],
          [
           0.1,
           "rgb(178,24,43)"
          ],
          [
           0.2,
           "rgb(214,96,77)"
          ],
          [
           0.3,
           "rgb(244,165,130)"
          ],
          [
           0.4,
           "rgb(253,219,199)"
          ],
          [
           0.5,
           "rgb(247,247,247)"
          ],
          [
           0.6,
           "rgb(209,229,240)"
          ],
          [
           0.7,
           "rgb(146,197,222)"
          ],
          [
           0.8,
           "rgb(67,147,195)"
          ],
          [
           0.9,
           "rgb(33,102,172)"
          ],
          [
           1,
           "rgb(5,48,97)"
          ]
         ]
        },
        "legend": {
         "tracegroupgap": 0
        },
        "margin": {
         "t": 60
        },
        "template": {
         "data": {
          "bar": [
           {
            "error_x": {
             "color": "#2a3f5f"
            },
            "error_y": {
             "color": "#2a3f5f"
            },
            "marker": {
             "line": {
              "color": "#E5ECF6",
              "width": 0.5
             }
            },
            "type": "bar"
           }
          ],
          "barpolar": [
           {
            "marker": {
             "line": {
              "color": "#E5ECF6",
              "width": 0.5
             }
            },
            "type": "barpolar"
           }
          ],
          "carpet": [
           {
            "aaxis": {
             "endlinecolor": "#2a3f5f",
             "gridcolor": "white",
             "linecolor": "white",
             "minorgridcolor": "white",
             "startlinecolor": "#2a3f5f"
            },
            "baxis": {
             "endlinecolor": "#2a3f5f",
             "gridcolor": "white",
             "linecolor": "white",
             "minorgridcolor": "white",
             "startlinecolor": "#2a3f5f"
            },
            "type": "carpet"
           }
          ],
          "choropleth": [
           {
            "colorbar": {
             "outlinewidth": 0,
             "ticks": ""
            },
            "type": "choropleth"
           }
          ],
          "contour": [
           {
            "colorbar": {
             "outlinewidth": 0,
             "ticks": ""
            },
            "colorscale": [
             [
              0,
              "#0d0887"
             ],
             [
              0.1111111111111111,
              "#46039f"
             ],
             [
              0.2222222222222222,
              "#7201a8"
             ],
             [
              0.3333333333333333,
              "#9c179e"
             ],
             [
              0.4444444444444444,
              "#bd3786"
             ],
             [
              0.5555555555555556,
              "#d8576b"
             ],
             [
              0.6666666666666666,
              "#ed7953"
             ],
             [
              0.7777777777777778,
              "#fb9f3a"
             ],
             [
              0.8888888888888888,
              "#fdca26"
             ],
             [
              1,
              "#f0f921"
             ]
            ],
            "type": "contour"
           }
          ],
          "contourcarpet": [
           {
            "colorbar": {
             "outlinewidth": 0,
             "ticks": ""
            },
            "type": "contourcarpet"
           }
          ],
          "heatmap": [
           {
            "colorbar": {
             "outlinewidth": 0,
             "ticks": ""
            },
            "colorscale": [
             [
              0,
              "#0d0887"
             ],
             [
              0.1111111111111111,
              "#46039f"
             ],
             [
              0.2222222222222222,
              "#7201a8"
             ],
             [
              0.3333333333333333,
              "#9c179e"
             ],
             [
              0.4444444444444444,
              "#bd3786"
             ],
             [
              0.5555555555555556,
              "#d8576b"
             ],
             [
              0.6666666666666666,
              "#ed7953"
             ],
             [
              0.7777777777777778,
              "#fb9f3a"
             ],
             [
              0.8888888888888888,
              "#fdca26"
             ],
             [
              1,
              "#f0f921"
             ]
            ],
            "type": "heatmap"
           }
          ],
          "heatmapgl": [
           {
            "colorbar": {
             "outlinewidth": 0,
             "ticks": ""
            },
            "colorscale": [
             [
              0,
              "#0d0887"
             ],
             [
              0.1111111111111111,
              "#46039f"
             ],
             [
              0.2222222222222222,
              "#7201a8"
             ],
             [
              0.3333333333333333,
              "#9c179e"
             ],
             [
              0.4444444444444444,
              "#bd3786"
             ],
             [
              0.5555555555555556,
              "#d8576b"
             ],
             [
              0.6666666666666666,
              "#ed7953"
             ],
             [
              0.7777777777777778,
              "#fb9f3a"
             ],
             [
              0.8888888888888888,
              "#fdca26"
             ],
             [
              1,
              "#f0f921"
             ]
            ],
            "type": "heatmapgl"
           }
          ],
          "histogram": [
           {
            "marker": {
             "colorbar": {
              "outlinewidth": 0,
              "ticks": ""
             }
            },
            "type": "histogram"
           }
          ],
          "histogram2d": [
           {
            "colorbar": {
             "outlinewidth": 0,
             "ticks": ""
            },
            "colorscale": [
             [
              0,
              "#0d0887"
             ],
             [
              0.1111111111111111,
              "#46039f"
             ],
             [
              0.2222222222222222,
              "#7201a8"
             ],
             [
              0.3333333333333333,
              "#9c179e"
             ],
             [
              0.4444444444444444,
              "#bd3786"
             ],
             [
              0.5555555555555556,
              "#d8576b"
             ],
             [
              0.6666666666666666,
              "#ed7953"
             ],
             [
              0.7777777777777778,
              "#fb9f3a"
             ],
             [
              0.8888888888888888,
              "#fdca26"
             ],
             [
              1,
              "#f0f921"
             ]
            ],
            "type": "histogram2d"
           }
          ],
          "histogram2dcontour": [
           {
            "colorbar": {
             "outlinewidth": 0,
             "ticks": ""
            },
            "colorscale": [
             [
              0,
              "#0d0887"
             ],
             [
              0.1111111111111111,
              "#46039f"
             ],
             [
              0.2222222222222222,
              "#7201a8"
             ],
             [
              0.3333333333333333,
              "#9c179e"
             ],
             [
              0.4444444444444444,
              "#bd3786"
             ],
             [
              0.5555555555555556,
              "#d8576b"
             ],
             [
              0.6666666666666666,
              "#ed7953"
             ],
             [
              0.7777777777777778,
              "#fb9f3a"
             ],
             [
              0.8888888888888888,
              "#fdca26"
             ],
             [
              1,
              "#f0f921"
             ]
            ],
            "type": "histogram2dcontour"
           }
          ],
          "mesh3d": [
           {
            "colorbar": {
             "outlinewidth": 0,
             "ticks": ""
            },
            "type": "mesh3d"
           }
          ],
          "parcoords": [
           {
            "line": {
             "colorbar": {
              "outlinewidth": 0,
              "ticks": ""
             }
            },
            "type": "parcoords"
           }
          ],
          "pie": [
           {
            "automargin": true,
            "type": "pie"
           }
          ],
          "scatter": [
           {
            "marker": {
             "colorbar": {
              "outlinewidth": 0,
              "ticks": ""
             }
            },
            "type": "scatter"
           }
          ],
          "scatter3d": [
           {
            "line": {
             "colorbar": {
              "outlinewidth": 0,
              "ticks": ""
             }
            },
            "marker": {
             "colorbar": {
              "outlinewidth": 0,
              "ticks": ""
             }
            },
            "type": "scatter3d"
           }
          ],
          "scattercarpet": [
           {
            "marker": {
             "colorbar": {
              "outlinewidth": 0,
              "ticks": ""
             }
            },
            "type": "scattercarpet"
           }
          ],
          "scattergeo": [
           {
            "marker": {
             "colorbar": {
              "outlinewidth": 0,
              "ticks": ""
             }
            },
            "type": "scattergeo"
           }
          ],
          "scattergl": [
           {
            "marker": {
             "colorbar": {
              "outlinewidth": 0,
              "ticks": ""
             }
            },
            "type": "scattergl"
           }
          ],
          "scattermapbox": [
           {
            "marker": {
             "colorbar": {
              "outlinewidth": 0,
              "ticks": ""
             }
            },
            "type": "scattermapbox"
           }
          ],
          "scatterpolar": [
           {
            "marker": {
             "colorbar": {
              "outlinewidth": 0,
              "ticks": ""
             }
            },
            "type": "scatterpolar"
           }
          ],
          "scatterpolargl": [
           {
            "marker": {
             "colorbar": {
              "outlinewidth": 0,
              "ticks": ""
             }
            },
            "type": "scatterpolargl"
           }
          ],
          "scatterternary": [
           {
            "marker": {
             "colorbar": {
              "outlinewidth": 0,
              "ticks": ""
             }
            },
            "type": "scatterternary"
           }
          ],
          "surface": [
           {
            "colorbar": {
             "outlinewidth": 0,
             "ticks": ""
            },
            "colorscale": [
             [
              0,
              "#0d0887"
             ],
             [
              0.1111111111111111,
              "#46039f"
             ],
             [
              0.2222222222222222,
              "#7201a8"
             ],
             [
              0.3333333333333333,
              "#9c179e"
             ],
             [
              0.4444444444444444,
              "#bd3786"
             ],
             [
              0.5555555555555556,
              "#d8576b"
             ],
             [
              0.6666666666666666,
              "#ed7953"
             ],
             [
              0.7777777777777778,
              "#fb9f3a"
             ],
             [
              0.8888888888888888,
              "#fdca26"
             ],
             [
              1,
              "#f0f921"
             ]
            ],
            "type": "surface"
           }
          ],
          "table": [
           {
            "cells": {
             "fill": {
              "color": "#EBF0F8"
             },
             "line": {
              "color": "white"
             }
            },
            "header": {
             "fill": {
              "color": "#C8D4E3"
             },
             "line": {
              "color": "white"
             }
            },
            "type": "table"
           }
          ]
         },
         "layout": {
          "annotationdefaults": {
           "arrowcolor": "#2a3f5f",
           "arrowhead": 0,
           "arrowwidth": 1
          },
          "coloraxis": {
           "colorbar": {
            "outlinewidth": 0,
            "ticks": ""
           }
          },
          "colorscale": {
           "diverging": [
            [
             0,
             "#8e0152"
            ],
            [
             0.1,
             "#c51b7d"
            ],
            [
             0.2,
             "#de77ae"
            ],
            [
             0.3,
             "#f1b6da"
            ],
            [
             0.4,
             "#fde0ef"
            ],
            [
             0.5,
             "#f7f7f7"
            ],
            [
             0.6,
             "#e6f5d0"
            ],
            [
             0.7,
             "#b8e186"
            ],
            [
             0.8,
             "#7fbc41"
            ],
            [
             0.9,
             "#4d9221"
            ],
            [
             1,
             "#276419"
            ]
           ],
           "sequential": [
            [
             0,
             "#0d0887"
            ],
            [
             0.1111111111111111,
             "#46039f"
            ],
            [
             0.2222222222222222,
             "#7201a8"
            ],
            [
             0.3333333333333333,
             "#9c179e"
            ],
            [
             0.4444444444444444,
             "#bd3786"
            ],
            [
             0.5555555555555556,
             "#d8576b"
            ],
            [
             0.6666666666666666,
             "#ed7953"
            ],
            [
             0.7777777777777778,
             "#fb9f3a"
            ],
            [
             0.8888888888888888,
             "#fdca26"
            ],
            [
             1,
             "#f0f921"
            ]
           ],
           "sequentialminus": [
            [
             0,
             "#0d0887"
            ],
            [
             0.1111111111111111,
             "#46039f"
            ],
            [
             0.2222222222222222,
             "#7201a8"
            ],
            [
             0.3333333333333333,
             "#9c179e"
            ],
            [
             0.4444444444444444,
             "#bd3786"
            ],
            [
             0.5555555555555556,
             "#d8576b"
            ],
            [
             0.6666666666666666,
             "#ed7953"
            ],
            [
             0.7777777777777778,
             "#fb9f3a"
            ],
            [
             0.8888888888888888,
             "#fdca26"
            ],
            [
             1,
             "#f0f921"
            ]
           ]
          },
          "colorway": [
           "#636efa",
           "#EF553B",
           "#00cc96",
           "#ab63fa",
           "#FFA15A",
           "#19d3f3",
           "#FF6692",
           "#B6E880",
           "#FF97FF",
           "#FECB52"
          ],
          "font": {
           "color": "#2a3f5f"
          },
          "geo": {
           "bgcolor": "white",
           "lakecolor": "white",
           "landcolor": "#E5ECF6",
           "showlakes": true,
           "showland": true,
           "subunitcolor": "white"
          },
          "hoverlabel": {
           "align": "left"
          },
          "hovermode": "closest",
          "mapbox": {
           "style": "light"
          },
          "paper_bgcolor": "white",
          "plot_bgcolor": "#E5ECF6",
          "polar": {
           "angularaxis": {
            "gridcolor": "white",
            "linecolor": "white",
            "ticks": ""
           },
           "bgcolor": "#E5ECF6",
           "radialaxis": {
            "gridcolor": "white",
            "linecolor": "white",
            "ticks": ""
           }
          },
          "scene": {
           "xaxis": {
            "backgroundcolor": "#E5ECF6",
            "gridcolor": "white",
            "gridwidth": 2,
            "linecolor": "white",
            "showbackground": true,
            "ticks": "",
            "zerolinecolor": "white"
           },
           "yaxis": {
            "backgroundcolor": "#E5ECF6",
            "gridcolor": "white",
            "gridwidth": 2,
            "linecolor": "white",
            "showbackground": true,
            "ticks": "",
            "zerolinecolor": "white"
           },
           "zaxis": {
            "backgroundcolor": "#E5ECF6",
            "gridcolor": "white",
            "gridwidth": 2,
            "linecolor": "white",
            "showbackground": true,
            "ticks": "",
            "zerolinecolor": "white"
           }
          },
          "shapedefaults": {
           "line": {
            "color": "#2a3f5f"
           }
          },
          "ternary": {
           "aaxis": {
            "gridcolor": "white",
            "linecolor": "white",
            "ticks": ""
           },
           "baxis": {
            "gridcolor": "white",
            "linecolor": "white",
            "ticks": ""
           },
           "bgcolor": "#E5ECF6",
           "caxis": {
            "gridcolor": "white",
            "linecolor": "white",
            "ticks": ""
           }
          },
          "title": {
           "x": 0.05
          },
          "xaxis": {
           "automargin": true,
           "gridcolor": "white",
           "linecolor": "white",
           "ticks": "",
           "title": {
            "standoff": 15
           },
           "zerolinecolor": "white",
           "zerolinewidth": 2
          },
          "yaxis": {
           "automargin": true,
           "gridcolor": "white",
           "linecolor": "white",
           "ticks": "",
           "title": {
            "standoff": 15
           },
           "zerolinecolor": "white",
           "zerolinewidth": 2
          }
         }
        },
        "xaxis": {
         "anchor": "y",
         "domain": [
          0,
          1
         ],
         "title": {
          "text": "x"
         }
        },
        "yaxis": {
         "anchor": "x",
         "domain": [
          0,
          1
         ],
         "title": {
          "text": "y"
         }
        }
       }
      }
     },
     "metadata": {}
    }
   ],
   "source": [
    "import plotly.express as px\n",
    "\n",
    "# dimensions\n",
    "dots_x = [k[1] for k,v in grid.items()]\n",
    "dots_y = [k[0] for k,v in grid.items()]\n",
    "dots_color = [v['banker']['kurt'] for v in grid.values()]\n",
    "\n",
    "fig = px.density_heatmap(x=dots_x, y=dots_y, z=dots_color, histfunc='avg', color_continuous_scale='RdBU')\n",
    "fig.show()"
   ]
  },
  {
   "cell_type": "code",
   "execution_count": null,
   "metadata": {},
   "outputs": [],
   "source": []
  },
  {
   "cell_type": "code",
   "execution_count": null,
   "metadata": {},
   "outputs": [],
   "source": []
  },
  {
   "cell_type": "code",
   "execution_count": null,
   "metadata": {},
   "outputs": [],
   "source": []
  },
  {
   "cell_type": "code",
   "execution_count": null,
   "metadata": {},
   "outputs": [],
   "source": []
  },
  {
   "cell_type": "code",
   "execution_count": null,
   "metadata": {},
   "outputs": [],
   "source": []
  },
  {
   "cell_type": "code",
   "execution_count": null,
   "metadata": {},
   "outputs": [],
   "source": []
  },
  {
   "cell_type": "code",
   "execution_count": null,
   "metadata": {},
   "outputs": [],
   "source": []
  },
  {
   "cell_type": "code",
   "execution_count": null,
   "metadata": {},
   "outputs": [],
   "source": []
  },
  {
   "cell_type": "code",
   "execution_count": null,
   "metadata": {},
   "outputs": [],
   "source": []
  },
  {
   "cell_type": "code",
   "execution_count": null,
   "metadata": {},
   "outputs": [],
   "source": []
  },
  {
   "cell_type": "markdown",
   "metadata": {},
   "source": [
    "## Findings:\n",
    "\n",
    "- Banker +EV\n",
    "- The game suffer from large variation than it seems\n",
    "- Risk (variance) proportional to number of players and rounds\n",
    "\n",
    "- What about change banker every game? what will be the odds?"
   ]
  },
  {
   "cell_type": "code",
   "execution_count": null,
   "metadata": {},
   "outputs": [],
   "source": []
  },
  {
   "cell_type": "code",
   "execution_count": null,
   "metadata": {},
   "outputs": [],
   "source": []
  },
  {
   "cell_type": "code",
   "execution_count": null,
   "metadata": {},
   "outputs": [],
   "source": [
    "# how should we adjust odds for a fairer game\n",
    "\n"
   ]
  },
  {
   "cell_type": "code",
   "execution_count": null,
   "metadata": {},
   "outputs": [],
   "source": [
    "# fit a regression for different combinations of players, rounds on standard deviation\n",
    "\n"
   ]
  }
 ]
}